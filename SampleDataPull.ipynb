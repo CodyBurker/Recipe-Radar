{
 "cells": [
  {
   "cell_type": "code",
   "execution_count": 1,
   "metadata": {},
   "outputs": [],
   "source": [
    "import pandas as pd\n",
    "import requests\n",
    "# Read in api key from file\n",
    "with open('api_key.txt', 'r') as f:\n",
    "    api_key = f.read()"
   ]
  },
  {
   "cell_type": "code",
   "execution_count": 2,
   "metadata": {},
   "outputs": [],
   "source": [
    "# Get sample data from the spoonacular api\n",
    "# Save raw data to json file\n",
    "# in a new folder \"sample_data/recipes\"\n",
    "n_records = 1000\n",
    "url = \"https://spoonacular-recipe-food-nutrition-v1.p.rapidapi.com/recipes/random\"\n",
    "headers = {\n",
    "        \"X-RapidAPI-Key\": api_key,\n",
    "        \"X-RapidAPI-Host\": \"spoonacular-recipe-food-nutrition-v1.p.rapidapi.com\"\n",
    "        }\n",
    "querystring = {\"number\":n_records}\n",
    "response = requests.request(\"GET\", url, headers=headers, params=querystring)\n",
    "response_json = response.json()\n"
   ]
  },
  {
   "cell_type": "code",
   "execution_count": 3,
   "metadata": {},
   "outputs": [],
   "source": [
    "with open('sample_data/recipes/recipes.json', 'w') as f:\n",
    "        f.write(str(response.text))"
   ]
  },
  {
   "cell_type": "code",
   "execution_count": 4,
   "metadata": {},
   "outputs": [],
   "source": [
    "# Get taste for each recipe\n",
    "# And save to json in a new folder \"sample_data/taste\"\n",
    "import spoontacular as sp\n",
    "for item in response.json()['recipes']:\n",
    "    # taste = sp.get_taste(item['id'], api_key=api_key)\n",
    "    url=\"https://spoonacular-recipe-food-nutrition-v1.p.rapidapi.com/recipes/%i/tasteWidget.json\" % item['id']\n",
    "    headers = {\n",
    "        \"X-RapidAPI-Key\": api_key,\n",
    "        \"X-RapidAPI-Host\": \"spoonacular-recipe-food-nutrition-v1.p.rapidapi.com\"\n",
    "        }\n",
    "    querystring = {\"normalize\":\"false\"}\n",
    "    response = requests.get(url, headers=headers, params=querystring)\n",
    "    with open('sample_data/taste/taste_'+str(item['id'])+'.json', 'w') as f:\n",
    "        f.write(response.text)"
   ]
  }
 ],
 "metadata": {
  "kernelspec": {
   "display_name": "Python 3.10.4 64-bit",
   "language": "python",
   "name": "python3"
  },
  "language_info": {
   "codemirror_mode": {
    "name": "ipython",
    "version": 3
   },
   "file_extension": ".py",
   "mimetype": "text/x-python",
   "name": "python",
   "nbconvert_exporter": "python",
   "pygments_lexer": "ipython3",
   "version": "3.10.4"
  },
  "orig_nbformat": 4,
  "vscode": {
   "interpreter": {
    "hash": "4f946df053fbf2b937619d3c5458e7af74262f9a954d8797ba0b27400bcafe06"
   }
  }
 },
 "nbformat": 4,
 "nbformat_minor": 2
}
