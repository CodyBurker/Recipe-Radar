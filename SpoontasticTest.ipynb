{
 "cells": [
  {
   "cell_type": "code",
   "execution_count": null,
   "metadata": {},
   "outputs": [],
   "source": [
    "# Read in api key from file\n",
    "with open('api_key.txt', 'r') as f:\n",
    "    api_key = f.read()"
   ]
  },
  {
   "cell_type": "code",
   "execution_count": 3,
   "metadata": {},
   "outputs": [
    {
     "name": "stdout",
     "output_type": "stream",
     "text": [
      "{\"results\":[{\"id\":749013,\"title\":\"Pasta\",\"image\":\"https://spoonacular.com/recipeImages/749013-312x231.jpeg\",\"imageType\":\"jpeg\"},{\"id\":358073,\"title\":\"Pasta\",\"image\":\"https://spoonacular.com/recipeImages/358073-312x231.jpeg\",\"imageType\":\"jpeg\"},{\"id\":450759,\"title\":\"Pasta Pie\",\"image\":\"https://spoonacular.com/recipeImages/450759-312x231.jpg\",\"imageType\":\"jpg\"},{\"id\":532245,\"title\":\"Pasta Bake\",\"image\":\"https://spoonacular.com/recipeImages/532245-312x231.jpg\",\"imageType\":\"jpg\"},{\"id\":376941,\"title\":\"Pasta Rosa\",\"image\":\"https://spoonacular.com/recipeImages/376941-312x231.jpeg\",\"imageType\":\"jpeg\"},{\"id\":603414,\"title\":\"Pasta Mama\",\"image\":\"https://spoonacular.com/recipeImages/603414-312x231.jpg\",\"imageType\":\"jpg\"},{\"id\":602638,\"title\":\"Pasta Nest\",\"image\":\"https://spoonacular.com/recipeImages/602638-312x231.jpg\",\"imageType\":\"jpg\"},{\"id\":1091174,\"title\":\"Pasta sauce\",\"image\":\"https://spoonacular.com/recipeImages/1091174-312x231.jpg\",\"imageType\":\"jpg\"},{\"id\":139415,\"title\":\"Pasta Fazul\",\"image\":\"https://spoonacular.com/recipeImages/139415-312x231.jpg\",\"imageType\":\"jpg\"},{\"id\":123267,\"title\":\"Pasta Salad\",\"image\":\"https://spoonacular.com/recipeImages/123267-312x231.jpg\",\"imageType\":\"jpg\"}],\"offset\":0,\"number\":10,\"totalResults\":12555}\n"
     ]
    }
   ],
   "source": [
    "import requests\n",
    "\n",
    "url = \"https://spoonacular-recipe-food-nutrition-v1.p.rapidapi.com/recipes/complexSearch\"\n",
    "\n",
    "querystring = {\"query\":\"pasta\"}\n",
    "\n",
    "headers = {\n",
    "\t\"X-RapidAPI-Key\": api_key,\n",
    "\t\"X-RapidAPI-Host\": \"spoonacular-recipe-food-nutrition-v1.p.rapidapi.com\"\n",
    "}\n",
    "\n",
    "response = requests.request(\"GET\", url, headers=headers, params=querystring)\n",
    "\n",
    "print(response.text)"
   ]
  }
 ],
 "metadata": {
  "interpreter": {
   "hash": "27453c04e5a4c81c54befa7c9d875823b2de349b9a45b6b5276efe4d475e2bd7"
  },
  "kernelspec": {
   "display_name": "Python 3.8.8 ('base')",
   "language": "python",
   "name": "python3"
  },
  "language_info": {
   "codemirror_mode": {
    "name": "ipython",
    "version": 3
   },
   "file_extension": ".py",
   "mimetype": "text/x-python",
   "name": "python",
   "nbconvert_exporter": "python",
   "pygments_lexer": "ipython3",
   "version": "3.8.8"
  },
  "orig_nbformat": 4
 },
 "nbformat": 4,
 "nbformat_minor": 2
}
