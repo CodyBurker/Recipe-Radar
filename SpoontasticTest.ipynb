{
 "cells": [
  {
   "cell_type": "code",
   "execution_count": 1,
   "metadata": {},
   "outputs": [],
   "source": [
    "import pandas as pd\n",
    "# Read in api key from file\n",
    "with open('api_key.txt', 'r') as f:\n",
    "    api_key = f.read()"
   ]
  },
  {
   "cell_type": "markdown",
   "metadata": {},
   "source": [
    "### Demo how to use functions in spoontacular.py"
   ]
  },
  {
   "cell_type": "code",
   "execution_count": 3,
   "metadata": {},
   "outputs": [
    {
     "data": {
      "text/plain": [
       "{'sweetness': 1.13,\n",
       " 'saltiness': 10.42,\n",
       " 'sourness': 3.68,\n",
       " 'bitterness': 3.34,\n",
       " 'savoriness': 7.4,\n",
       " 'fattiness': 7.0,\n",
       " 'spiciness': 0.0}"
      ]
     },
     "execution_count": 3,
     "metadata": {},
     "output_type": "execute_result"
    }
   ],
   "source": [
    "first_pizza_id = pizza.iloc[0]['id']\n",
    "pizza_taste = spoontacular.get_taste(first_pizza_id, api_key)\n",
    "pizza_taste"
   ]
  },
  {
   "cell_type": "markdown",
   "metadata": {},
   "source": [
    "### Do some PCA analysis on the taste profile of 5 types of food"
   ]
  },
  {
   "cell_type": "code",
   "execution_count": 6,
   "metadata": {},
   "outputs": [
    {
     "data": {
      "text/html": [
       "<div>\n",
       "<style scoped>\n",
       "    .dataframe tbody tr th:only-of-type {\n",
       "        vertical-align: middle;\n",
       "    }\n",
       "\n",
       "    .dataframe tbody tr th {\n",
       "        vertical-align: top;\n",
       "    }\n",
       "\n",
       "    .dataframe thead th {\n",
       "        text-align: right;\n",
       "    }\n",
       "</style>\n",
       "<table border=\"1\" class=\"dataframe\">\n",
       "  <thead>\n",
       "    <tr style=\"text-align: right;\">\n",
       "      <th></th>\n",
       "      <th>id</th>\n",
       "      <th>title</th>\n",
       "      <th>image</th>\n",
       "      <th>imageType</th>\n",
       "      <th>food_type</th>\n",
       "      <th>taste_profile</th>\n",
       "      <th>sweetness</th>\n",
       "      <th>saltiness</th>\n",
       "      <th>sourness</th>\n",
       "      <th>bitterness</th>\n",
       "      <th>savoriness</th>\n",
       "      <th>fattiness</th>\n",
       "      <th>spiciness</th>\n",
       "    </tr>\n",
       "  </thead>\n",
       "  <tbody>\n",
       "    <tr>\n",
       "      <th>0</th>\n",
       "      <td>1090114</td>\n",
       "      <td>pizza</td>\n",
       "      <td>https://spoonacular.com/recipeImages/1090114-3...</td>\n",
       "      <td>jpg</td>\n",
       "      <td>pizza</td>\n",
       "      <td>{'sweetness': 1.13, 'saltiness': 10.42, 'sourn...</td>\n",
       "      <td>1.13</td>\n",
       "      <td>10.42</td>\n",
       "      <td>3.68</td>\n",
       "      <td>3.34</td>\n",
       "      <td>7.40</td>\n",
       "      <td>7.00</td>\n",
       "      <td>0.00</td>\n",
       "    </tr>\n",
       "    <tr>\n",
       "      <th>1</th>\n",
       "      <td>210327</td>\n",
       "      <td>Pizza</td>\n",
       "      <td>https://spoonacular.com/recipeImages/210327-31...</td>\n",
       "      <td>jpg</td>\n",
       "      <td>pizza</td>\n",
       "      <td>{'sweetness': 1.34, 'saltiness': 0.65, 'sourne...</td>\n",
       "      <td>1.34</td>\n",
       "      <td>0.65</td>\n",
       "      <td>1.40</td>\n",
       "      <td>0.41</td>\n",
       "      <td>0.50</td>\n",
       "      <td>1.94</td>\n",
       "      <td>0.00</td>\n",
       "    </tr>\n",
       "    <tr>\n",
       "      <th>2</th>\n",
       "      <td>108172</td>\n",
       "      <td>Pizza</td>\n",
       "      <td>https://spoonacular.com/recipeImages/108172-31...</td>\n",
       "      <td>jpg</td>\n",
       "      <td>pizza</td>\n",
       "      <td>{'sweetness': 1.14, 'saltiness': 2.12, 'sourne...</td>\n",
       "      <td>1.14</td>\n",
       "      <td>2.12</td>\n",
       "      <td>0.48</td>\n",
       "      <td>0.43</td>\n",
       "      <td>1.51</td>\n",
       "      <td>3.26</td>\n",
       "      <td>0.00</td>\n",
       "    </tr>\n",
       "    <tr>\n",
       "      <th>3</th>\n",
       "      <td>172154</td>\n",
       "      <td>Pizza Dip</td>\n",
       "      <td>https://spoonacular.com/recipeImages/172154-31...</td>\n",
       "      <td>jpg</td>\n",
       "      <td>pizza</td>\n",
       "      <td>{'sweetness': 0.53, 'saltiness': 1.23, 'sourne...</td>\n",
       "      <td>0.53</td>\n",
       "      <td>1.23</td>\n",
       "      <td>1.07</td>\n",
       "      <td>0.48</td>\n",
       "      <td>0.20</td>\n",
       "      <td>3.66</td>\n",
       "      <td>2483.33</td>\n",
       "    </tr>\n",
       "    <tr>\n",
       "      <th>4</th>\n",
       "      <td>508123</td>\n",
       "      <td>Pizza Dip</td>\n",
       "      <td>https://spoonacular.com/recipeImages/508123-31...</td>\n",
       "      <td>jpg</td>\n",
       "      <td>pizza</td>\n",
       "      <td>{'sweetness': 1.06, 'saltiness': 4.93, 'sourne...</td>\n",
       "      <td>1.06</td>\n",
       "      <td>4.93</td>\n",
       "      <td>1.98</td>\n",
       "      <td>0.98</td>\n",
       "      <td>0.88</td>\n",
       "      <td>4.34</td>\n",
       "      <td>930.00</td>\n",
       "    </tr>\n",
       "  </tbody>\n",
       "</table>\n",
       "</div>"
      ],
      "text/plain": [
       "        id      title                                              image  \\\n",
       "0  1090114      pizza  https://spoonacular.com/recipeImages/1090114-3...   \n",
       "1   210327      Pizza  https://spoonacular.com/recipeImages/210327-31...   \n",
       "2   108172      Pizza  https://spoonacular.com/recipeImages/108172-31...   \n",
       "3   172154  Pizza Dip  https://spoonacular.com/recipeImages/172154-31...   \n",
       "4   508123  Pizza Dip  https://spoonacular.com/recipeImages/508123-31...   \n",
       "\n",
       "  imageType food_type                                      taste_profile  \\\n",
       "0       jpg     pizza  {'sweetness': 1.13, 'saltiness': 10.42, 'sourn...   \n",
       "1       jpg     pizza  {'sweetness': 1.34, 'saltiness': 0.65, 'sourne...   \n",
       "2       jpg     pizza  {'sweetness': 1.14, 'saltiness': 2.12, 'sourne...   \n",
       "3       jpg     pizza  {'sweetness': 0.53, 'saltiness': 1.23, 'sourne...   \n",
       "4       jpg     pizza  {'sweetness': 1.06, 'saltiness': 4.93, 'sourne...   \n",
       "\n",
       "   sweetness  saltiness  sourness  bitterness  savoriness  fattiness  \\\n",
       "0       1.13      10.42      3.68        3.34        7.40       7.00   \n",
       "1       1.34       0.65      1.40        0.41        0.50       1.94   \n",
       "2       1.14       2.12      0.48        0.43        1.51       3.26   \n",
       "3       0.53       1.23      1.07        0.48        0.20       3.66   \n",
       "4       1.06       4.93      1.98        0.98        0.88       4.34   \n",
       "\n",
       "   spiciness  \n",
       "0       0.00  \n",
       "1       0.00  \n",
       "2       0.00  \n",
       "3    2483.33  \n",
       "4     930.00  "
      ]
     },
     "execution_count": 6,
     "metadata": {},
     "output_type": "execute_result"
    }
   ],
   "source": [
    "# Extract flavors from taste profile\n",
    "# From dictionary to separate columns in dataframe\n",
    "flavors = ['sweetness','saltiness','sourness','bitterness','savoriness','fattiness','spiciness']\n",
    "recipeswithflavor = all_recipes.copy()\n",
    "for falvor in flavors:\n",
    "    recipeswithflavor[falvor] = all_recipes['taste_profile'].apply(lambda row: row[falvor])\n",
    "recipeswithflavor.head()"
   ]
  },
  {
   "cell_type": "code",
   "execution_count": 7,
   "metadata": {},
   "outputs": [
    {
     "data": {
      "text/plain": [
       "<seaborn.axisgrid.FacetGrid at 0x7f7a64ad4190>"
      ]
     },
     "execution_count": 7,
     "metadata": {},
     "output_type": "execute_result"
    },
    {
     "data": {
      "image/png": "[encoded data removed]",
      "text/plain": [
       "<Figure size 440.85x360 with 1 Axes>"
      ]
     },
     "metadata": {},
     "output_type": "display_data"
    }
   ],
   "source": [
    "recipeswithflavor.to_csv(\"Test\")\n"
   ]
  },
  {
   "cell_type": "markdown",
   "metadata": {},
   "source": [
    "## Hypotheses\n",
    "1. Desserts are sweet, Indian food is spicy, Sea food is spicy\n",
    "2. Sweet and sour foods are actually a lot sweeter than sour\n",
    "3. US Regions have a particular taste (East Coast, MidWest, West Coast)\n"
   ]
  }
 ],
 "metadata": {
  "kernelspec": {
   "display_name": "Python 3.10.4 64-bit",
   "language": "python",
   "name": "python3"
  },
  "language_info": {
   "codemirror_mode": {
    "name": "ipython",
    "version": 3
   },
   "file_extension": ".py",
   "mimetype": "text/x-python",
   "name": "python",
   "nbconvert_exporter": "python",
   "pygments_lexer": "ipython3",
   "version": "3.10.4"
  },
  "orig_nbformat": 4,
  "vscode": {
   "interpreter": {
    "hash": "4f946df053fbf2b937619d3c5458e7af74262f9a954d8797ba0b27400bcafe06"
   }
  }
 },
 "nbformat": 4,
 "nbformat_minor": 2
}
