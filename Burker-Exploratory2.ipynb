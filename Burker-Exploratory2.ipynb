{
 "cells": [
  {
   "cell_type": "code",
   "execution_count": 32,
   "metadata": {},
   "outputs": [],
   "source": [
    "import spoontacular as sp\n",
    "import pandas as pd\n",
    "import pandas as pd\n",
    "import spoontacular as sp\n",
    "import seaborn as sns\n",
    "import matplotlib.pyplot as plt\n",
    "import numpy as np\n",
    "from matplotlib.lines import Line2D\n",
    "# Read in api key from file\n",
    "with open('api_key.txt', 'r') as f:\n",
    "    api_key = f.read()"
   ]
  },
  {
   "cell_type": "code",
   "execution_count": 2,
   "metadata": {},
   "outputs": [],
   "source": [
    "flavors = ['sweetness','saltiness','sourness','bitterness','savoriness','fattiness','spiciness']\n",
    "sweet_and_sour = sp.get_recipe('sweet and sour', api_key, number=100)\n",
    "sweet_and_sour['taste_profile'] = sweet_and_sour['id'].apply(lambda row: sp.get_taste(row, api_key))\n",
    "sweet_and_sourwithflavor = sweet_and_sour.copy()\n",
    "for falvor in flavors:\n",
    "    sweet_and_sourwithflavor[falvor] = sweet_and_sour['taste_profile'].apply(lambda row: row[falvor])"
   ]
  },
  {
   "cell_type": "code",
   "execution_count": 39,
   "metadata": {},
   "outputs": [
    {
     "data": {
      "image/png": "[encoded data removed]",
      "text/plain": [
       "<Figure size 432x288 with 1 Axes>"
      ]
     },
     "metadata": {
      "needs_background": "light"
     },
     "output_type": "display_data"
    }
   ],
   "source": [
    "# Create a scatterplot of sweet vs sour \n",
    "sns.scatterplot(x='sweetness', y='sourness', data=sweet_and_sourwithflavor, color='black')\n",
    "# Fill everything above y=x with a color\n",
    "# And everything below  y=x with a different color\n",
    "x = np.linspace(0, 10, 100)\n",
    "y1 = x\n",
    "# y2 is an array the same length as x but with all values equal to 100\n",
    "y2 = np.full(len(x), 100)\n",
    "plt.fill_between(x, y1, y2, color='red', alpha=0.3)\n",
    "plt.fill_between(x,y1, color='blue', alpha=0.3)\n",
    "# Add a legend to the plot\n",
    "# Blue = \"Sweet\"\n",
    "# Red = \"Sour\"\n",
    "# both are boxes with colors\n",
    "legend_elements = [Line2D([0], [0], color='blue', lw=4, label='More Sweet',alpha=0.3),\n",
    "                     Line2D([0], [0], color='red', lw=4, label='More Sour', alpha=0.3)]\n",
    "plt.legend(\n",
    "    handles=legend_elements,\n",
    "    loc='upper left')  \n",
    "# Make it a square plot\n",
    "plt.axis('square')\n",
    "plt.ylim(0, 8)\n",
    "plt.xlim(0,8)\n",
    "plt.title('Sweetness vs Sourness')\n",
    "plt.show()"
   ]
  },
  {
   "cell_type": "code",
   "execution_count": 71,
   "metadata": {},
   "outputs": [
    {
     "data": {
      "application/vnd.plotly.v1+json": {
       "config": {
        "plotlyServerURL": "https://plot.ly"
       },
       "data": [
        {
         "hovertemplate": "<b>%{hovertext}</b><br><br>sweet_greater_than_sour=More Sweet<br>sweetness=%{x}<br>sourness=%{y}<extra></extra>",
         "hovertext": [
          "Sweet and Sour Pineapple Ginger Sauce",
          "Sweet and Sour Cherry and Buckwheat Crumble",
          "Sweet and Sour Strawberry Semifreddo with Black Sesame",
          "Sweet and Sour Strawberry Semifreddo with Black Sesame",
          "Mixed berry Sweet and sour drink",
          "Panda Express Sweet and Sour Sauce (Copycat)",
          "Easter Nest Sweet Cake With Sour Cream-Royal Icing and Pistachios",
          "Fig and Sour Cream Ice Cream",
          "Brandied Sour Cherry and Pear Tartlets",
          "Peach and Sour Cream Tart",
          "Grandma's Sour Cream Raisin Pie",
          "Grandma’s Sour Cream Coffee Cake",
          "Grandma’s Sour Cream Sugar Cookies",
          "Sweet & Sour Cherry Vareniki",
          "Island Lemon Sours Bars",
          "Sweet or Sour Cream Chocolate Cake",
          "Sourdough Sandwich Loaf",
          "Buttermilk and Sour Cream Corn Bread",
          "Sour Cream and Lemon Honey Corn Muffins",
          "Peach and Maple Sour Cream Pecan Pie",
          "Sour Cherry And Chocolate Chip Scone",
          "Sour Cherry and Chocolate Chip Oatmeal Cookies",
          "Sweet Buttery Sourdough Crescent Rolls",
          "Sourpuss Turned Sweet",
          "Honey and Marmalade Sour",
          "Sandwich Bread with Sourdough Starter",
          "Sour Cream Pecan Sandies for",
          "Gluten And Dairy Free Sour Cherry And Pastry Cream Gâteau Basque",
          "Sour Cream, Cherry And Tequila Paletas",
          "Sour Cherry Scones and Ginger-Marmalade Cream",
          "Sour Cream Pancakes…and a Giveaway",
          "Banana Bread (Vegan and Sourdough!)",
          "Sour Cream, Cherry, And Tequila Paletas",
          "Brown Butter, Ginger, and Sour Cream Coffee Cake",
          "VIDEO: Strawberries and Cream Sourdough French Toast for Two",
          "Artisan Sourdough Sandwich Bread",
          "Sour Cream Muffins with Lemon and Poppy Seeds",
          "Apple Pie with Hazelnuts and Dried Sour Cherries",
          "Sour Cherry Pie With Jason Biggs And Paul Walker",
          "Sour Cream Coffee Cake With Pears And Pecans",
          "Sour Cream Coffee Cake with Pears and Pecans",
          "Banana Sour Cream Pancakes and Magelby’s Buttermilk Syrup",
          "Cranberry, Sour Cherry, And Grapefruit Chutney",
          "Sourdough Bread Pudding with Mango and Pumpkin Seeds",
          "The Sweet Melissa Baking Book: Sour Cherry Pie with Pistachio Crumble",
          "Lemon Bars with Sweet Sour Cream Topping",
          "Sour Cream Coffee Cake With Chocolate And Nuts",
          "Sour Cream Coffee Cake with Chocolate and Nuts",
          "Double-Ginger Sour Cream and Bundt Cake with Ginger-Infused Strawberries",
          "Rock Candy Jello Shooters With Midori Melon Sour",
          "Pierogi with Italian Plum Filling and Spiced Sour Cream",
          "Caramelized-Nectarine and Ginger Shortcakes with Sour Cream",
          "Yellow Cake With Strawberry Filling And Chocolate Sour Cream Fr",
          "SPONSORED: Vanilla and Oat Pancakes With Whipped Vanilla Sour Cream",
          "Quinoa With Clementines, Sour Cherries And Pecans",
          "Christmas Croissant Pudding with Sour Cream and Brown Sugar Sauce",
          "Cherry Dark Chocolate Sour Cream Bundt Cake – Low Carb and Gluten-Free",
          "Yellow Cupcakes With Chocolate Sour Cream Frosting And Toasted",
          "Easy Blackberry Pie with Spiced Sour Cream Custard (and No-Roll Pie Crust!)",
          "Chocolate Layer Cake with Chocolate Sour Cream Frosting (Low Carb and Gluten-Free)",
          "Sour Cream Pie",
          "Sour Cherry Pie",
          "Sour Cherry Pie",
          "Sour Cherry Pie",
          "Sour Cherry Pie",
          "Sourdough Bread",
          "Sour Cream Babka",
          "Sour Cream Babka",
          "Sour Cherry Tart",
          "Sour Cream Drops",
          "Sour Cream Scones",
          "Sour Cherry Sauce",
          "Sour Cream Twists",
          "Sour Cream Loaves",
          "Sour Cream Scones",
          "Sour Cream Waffles",
          "Sour Cherry 'Clams",
          "Sourdough Biscuits",
          "Sourdough Pancakes",
          "Sour Cream Cutouts",
          "Sour Cream Waffles",
          "Sourdough Pancakes",
          "Sourdough Pancakes",
          "Sour Cherry Sorbet",
          "Sourdough Pancakes",
          "Sour Cream Bavarian",
          "Sour Cherry Compote",
          "Sour Cream Biscuits",
          "Sour Cream Cupcakes",
          "Sour Cream Brownies",
          "Sour Cream Biscotti",
          "Sour Cream Plum Pie",
          "Sour Cream Frosting",
          "Sour Cream Beignets",
          "Sour Cream Apple Pie",
          "Sour Cream Lemon Pie",
          "Sour Cream-Lemon Pie",
          "Sour Cream Apple Pie",
          "Sour Cream Apple Pie"
         ],
         "legendgroup": "More Sweet",
         "marker": {
          "color": "#636efa",
          "symbol": "circle"
         },
         "mode": "markers",
         "name": "More Sweet",
         "orientation": "v",
         "showlegend": true,
         "type": "scatter",
         "x": [
          13.51,
          7.46,
          5.46,
          5.46,
          5.18,
          6.77,
          6.28,
          5.99,
          4.56,
          5.4,
          4.4,
          6.48,
          7.44,
          10.05,
          10.24,
          6.59,
          0.73,
          2.22,
          3.27,
          7.15,
          3.27,
          6.55,
          1.91,
          6.45,
          6.35,
          0.86,
          4.44,
          5.9,
          5.67,
          3.23,
          5.62,
          4.1,
          5.67,
          8.15,
          5.37,
          1.18,
          4.59,
          6.83,
          10.07,
          8.22,
          6.44,
          3.43,
          5.66,
          5.5,
          8.37,
          2.76,
          5.85,
          5.85,
          5.65,
          2.46,
          9.19,
          5.74,
          7.05,
          3.48,
          4.76,
          5.3,
          1.5,
          6.06,
          1.63,
          0.91,
          6.39,
          4.36,
          8.66,
          6.26,
          11.22,
          0.7,
          3.05,
          5.41,
          6.64,
          8.11,
          2.73,
          9.06,
          9.77,
          5.49,
          4.65,
          2.7,
          5.97,
          0.42,
          1.16,
          8.37,
          3.91,
          2.53,
          1.14,
          12.34,
          1.04,
          5.43,
          7.45,
          2.47,
          7.28,
          7.86,
          4.72,
          7.03,
          14.03,
          2.19,
          6.87,
          5.06,
          4.39,
          6.4,
          7.14
         ],
         "xaxis": "x",
         "y": [
          2.45,
          3.52,
          1.23,
          1.23,
          3.85,
          0.41,
          0.51,
          1.56,
          1.64,
          2.26,
          0.97,
          0.07,
          0.18,
          1.89,
          1.32,
          0.13,
          0,
          0.1,
          0.36,
          1.22,
          0.01,
          0.86,
          0.22,
          1.22,
          6.04,
          0.43,
          0.07,
          1.96,
          1.5,
          0.43,
          0.15,
          0.4,
          1.5,
          0.21,
          1.91,
          0.24,
          0.21,
          2.95,
          3.98,
          0.9,
          0.58,
          0.72,
          3.08,
          2.01,
          3.07,
          1.43,
          0.19,
          0.19,
          1.66,
          0.92,
          3.42,
          1.88,
          0.82,
          0.53,
          3.97,
          1.21,
          0.25,
          0.38,
          0.28,
          0.22,
          0.13,
          2.22,
          3.05,
          1.62,
          0.04,
          0.32,
          0.65,
          0.38,
          2.93,
          0.1,
          0.02,
          3.92,
          0.08,
          0.08,
          0.05,
          0.37,
          4.44,
          0,
          0.55,
          0.05,
          0.52,
          0.97,
          0.53,
          3.06,
          0.92,
          0.19,
          4.1,
          0.14,
          0.14,
          0.09,
          0.09,
          2.17,
          0.1,
          0.22,
          2.76,
          1.68,
          2.33,
          3.16,
          2.8
         ],
         "yaxis": "y"
        },
        {
         "hovertemplate": "<b>%{hovertext}</b><br><br>sweet_greater_than_sour=More Sour<br>sweetness=%{x}<br>sourness=%{y}<extra></extra>",
         "hovertext": [
          "Drink the Book: Brandy Sour"
         ],
         "legendgroup": "More Sour",
         "marker": {
          "color": "#EF553B",
          "symbol": "circle"
         },
         "mode": "markers",
         "name": "More Sour",
         "orientation": "v",
         "showlegend": true,
         "type": "scatter",
         "x": [
          1.84
         ],
         "xaxis": "x",
         "y": [
          4.89
         ],
         "yaxis": "y"
        }
       ],
       "layout": {
        "legend": {
         "title": {
          "text": "Dominant Flavor"
         },
         "tracegroupgap": 0
        },
        "margin": {
         "t": 60
        },
        "template": {
         "data": {
          "bar": [
           {
            "error_x": {
             "color": "#2a3f5f"
            },
            "error_y": {
             "color": "#2a3f5f"
            },
            "marker": {
             "line": {
              "color": "#E5ECF6",
              "width": 0.5
             },
             "pattern": {
              "fillmode": "overlay",
              "size": 10,
              "solidity": 0.2
             }
            },
            "type": "bar"
           }
          ],
          "barpolar": [
           {
            "marker": {
             "line": {
              "color": "#E5ECF6",
              "width": 0.5
             },
             "pattern": {
              "fillmode": "overlay",
              "size": 10,
              "solidity": 0.2
             }
            },
            "type": "barpolar"
           }
          ],
          "carpet": [
           {
            "aaxis": {
             "endlinecolor": "#2a3f5f",
             "gridcolor": "white",
             "linecolor": "white",
             "minorgridcolor": "white",
             "startlinecolor": "#2a3f5f"
            },
            "baxis": {
             "endlinecolor": "#2a3f5f",
             "gridcolor": "white",
             "linecolor": "white",
             "minorgridcolor": "white",
             "startlinecolor": "#2a3f5f"
            },
            "type": "carpet"
           }
          ],
          "choropleth": [
           {
            "colorbar": {
             "outlinewidth": 0,
             "ticks": ""
            },
            "type": "choropleth"
           }
          ],
          "contour": [
           {
            "colorbar": {
             "outlinewidth": 0,
             "ticks": ""
            },
            "colorscale": [
             [
              0,
              "#0d0887"
             ],
             [
              0.1111111111111111,
              "#46039f"
             ],
             [
              0.2222222222222222,
              "#7201a8"
             ],
             [
              0.3333333333333333,
              "#9c179e"
             ],
             [
              0.4444444444444444,
              "#bd3786"
             ],
             [
              0.5555555555555556,
              "#d8576b"
             ],
             [
              0.6666666666666666,
              "#ed7953"
             ],
             [
              0.7777777777777778,
              "#fb9f3a"
             ],
             [
              0.8888888888888888,
              "#fdca26"
             ],
             [
              1,
              "#f0f921"
             ]
            ],
            "type": "contour"
           }
          ],
          "contourcarpet": [
           {
            "colorbar": {
             "outlinewidth": 0,
             "ticks": ""
            },
            "type": "contourcarpet"
           }
          ],
          "heatmap": [
           {
            "colorbar": {
             "outlinewidth": 0,
             "ticks": ""
            },
            "colorscale": [
             [
              0,
              "#0d0887"
             ],
             [
              0.1111111111111111,
              "#46039f"
             ],
             [
              0.2222222222222222,
              "#7201a8"
             ],
             [
              0.3333333333333333,
              "#9c179e"
             ],
             [
              0.4444444444444444,
              "#bd3786"
             ],
             [
              0.5555555555555556,
              "#d8576b"
             ],
             [
              0.6666666666666666,
              "#ed7953"
             ],
             [
              0.7777777777777778,
              "#fb9f3a"
             ],
             [
              0.8888888888888888,
              "#fdca26"
             ],
             [
              1,
              "#f0f921"
             ]
            ],
            "type": "heatmap"
           }
          ],
          "heatmapgl": [
           {
            "colorbar": {
             "outlinewidth": 0,
             "ticks": ""
            },
            "colorscale": [
             [
              0,
              "#0d0887"
             ],
             [
              0.1111111111111111,
              "#46039f"
             ],
             [
              0.2222222222222222,
              "#7201a8"
             ],
             [
              0.3333333333333333,
              "#9c179e"
             ],
             [
              0.4444444444444444,
              "#bd3786"
             ],
             [
              0.5555555555555556,
              "#d8576b"
             ],
             [
              0.6666666666666666,
              "#ed7953"
             ],
             [
              0.7777777777777778,
              "#fb9f3a"
             ],
             [
              0.8888888888888888,
              "#fdca26"
             ],
             [
              1,
              "#f0f921"
             ]
            ],
            "type": "heatmapgl"
           }
          ],
          "histogram": [
           {
            "marker": {
             "pattern": {
              "fillmode": "overlay",
              "size": 10,
              "solidity": 0.2
             }
            },
            "type": "histogram"
           }
          ],
          "histogram2d": [
           {
            "colorbar": {
             "outlinewidth": 0,
             "ticks": ""
            },
            "colorscale": [
             [
              0,
              "#0d0887"
             ],
             [
              0.1111111111111111,
              "#46039f"
             ],
             [
              0.2222222222222222,
              "#7201a8"
             ],
             [
              0.3333333333333333,
              "#9c179e"
             ],
             [
              0.4444444444444444,
              "#bd3786"
             ],
             [
              0.5555555555555556,
              "#d8576b"
             ],
             [
              0.6666666666666666,
              "#ed7953"
             ],
             [
              0.7777777777777778,
              "#fb9f3a"
             ],
             [
              0.8888888888888888,
              "#fdca26"
             ],
             [
              1,
              "#f0f921"
             ]
            ],
            "type": "histogram2d"
           }
          ],
          "histogram2dcontour": [
           {
            "colorbar": {
             "outlinewidth": 0,
             "ticks": ""
            },
            "colorscale": [
             [
              0,
              "#0d0887"
             ],
             [
              0.1111111111111111,
              "#46039f"
             ],
             [
              0.2222222222222222,
              "#7201a8"
             ],
             [
              0.3333333333333333,
              "#9c179e"
             ],
             [
              0.4444444444444444,
              "#bd3786"
             ],
             [
              0.5555555555555556,
              "#d8576b"
             ],
             [
              0.6666666666666666,
              "#ed7953"
             ],
             [
              0.7777777777777778,
              "#fb9f3a"
             ],
             [
              0.8888888888888888,
              "#fdca26"
             ],
             [
              1,
              "#f0f921"
             ]
            ],
            "type": "histogram2dcontour"
           }
          ],
          "mesh3d": [
           {
            "colorbar": {
             "outlinewidth": 0,
             "ticks": ""
            },
            "type": "mesh3d"
           }
          ],
          "parcoords": [
           {
            "line": {
             "colorbar": {
              "outlinewidth": 0,
              "ticks": ""
             }
            },
            "type": "parcoords"
           }
          ],
          "pie": [
           {
            "automargin": true,
            "type": "pie"
           }
          ],
          "scatter": [
           {
            "fillpattern": {
             "fillmode": "overlay",
             "size": 10,
             "solidity": 0.2
            },
            "type": "scatter"
           }
          ],
          "scatter3d": [
           {
            "line": {
             "colorbar": {
              "outlinewidth": 0,
              "ticks": ""
             }
            },
            "marker": {
             "colorbar": {
              "outlinewidth": 0,
              "ticks": ""
             }
            },
            "type": "scatter3d"
           }
          ],
          "scattercarpet": [
           {
            "marker": {
             "colorbar": {
              "outlinewidth": 0,
              "ticks": ""
             }
            },
            "type": "scattercarpet"
           }
          ],
          "scattergeo": [
           {
            "marker": {
             "colorbar": {
              "outlinewidth": 0,
              "ticks": ""
             }
            },
            "type": "scattergeo"
           }
          ],
          "scattergl": [
           {
            "marker": {
             "colorbar": {
              "outlinewidth": 0,
              "ticks": ""
             }
            },
            "type": "scattergl"
           }
          ],
          "scattermapbox": [
           {
            "marker": {
             "colorbar": {
              "outlinewidth": 0,
              "ticks": ""
             }
            },
            "type": "scattermapbox"
           }
          ],
          "scatterpolar": [
           {
            "marker": {
             "colorbar": {
              "outlinewidth": 0,
              "ticks": ""
             }
            },
            "type": "scatterpolar"
           }
          ],
          "scatterpolargl": [
           {
            "marker": {
             "colorbar": {
              "outlinewidth": 0,
              "ticks": ""
             }
            },
            "type": "scatterpolargl"
           }
          ],
          "scatterternary": [
           {
            "marker": {
             "colorbar": {
              "outlinewidth": 0,
              "ticks": ""
             }
            },
            "type": "scatterternary"
           }
          ],
          "surface": [
           {
            "colorbar": {
             "outlinewidth": 0,
             "ticks": ""
            },
            "colorscale": [
             [
              0,
              "#0d0887"
             ],
             [
              0.1111111111111111,
              "#46039f"
             ],
             [
              0.2222222222222222,
              "#7201a8"
             ],
             [
              0.3333333333333333,
              "#9c179e"
             ],
             [
              0.4444444444444444,
              "#bd3786"
             ],
             [
              0.5555555555555556,
              "#d8576b"
             ],
             [
              0.6666666666666666,
              "#ed7953"
             ],
             [
              0.7777777777777778,
              "#fb9f3a"
             ],
             [
              0.8888888888888888,
              "#fdca26"
             ],
             [
              1,
              "#f0f921"
             ]
            ],
            "type": "surface"
           }
          ],
          "table": [
           {
            "cells": {
             "fill": {
              "color": "#EBF0F8"
             },
             "line": {
              "color": "white"
             }
            },
            "header": {
             "fill": {
              "color": "#C8D4E3"
             },
             "line": {
              "color": "white"
             }
            },
            "type": "table"
           }
          ]
         },
         "layout": {
          "annotationdefaults": {
           "arrowcolor": "#2a3f5f",
           "arrowhead": 0,
           "arrowwidth": 1
          },
          "autotypenumbers": "strict",
          "coloraxis": {
           "colorbar": {
            "outlinewidth": 0,
            "ticks": ""
           }
          },
          "colorscale": {
           "diverging": [
            [
             0,
             "#8e0152"
            ],
            [
             0.1,
             "#c51b7d"
            ],
            [
             0.2,
             "#de77ae"
            ],
            [
             0.3,
             "#f1b6da"
            ],
            [
             0.4,
             "#fde0ef"
            ],
            [
             0.5,
             "#f7f7f7"
            ],
            [
             0.6,
             "#e6f5d0"
            ],
            [
             0.7,
             "#b8e186"
            ],
            [
             0.8,
             "#7fbc41"
            ],
            [
             0.9,
             "#4d9221"
            ],
            [
             1,
             "#276419"
            ]
           ],
           "sequential": [
            [
             0,
             "#0d0887"
            ],
            [
             0.1111111111111111,
             "#46039f"
            ],
            [
             0.2222222222222222,
             "#7201a8"
            ],
            [
             0.3333333333333333,
             "#9c179e"
            ],
            [
             0.4444444444444444,
             "#bd3786"
            ],
            [
             0.5555555555555556,
             "#d8576b"
            ],
            [
             0.6666666666666666,
             "#ed7953"
            ],
            [
             0.7777777777777778,
             "#fb9f3a"
            ],
            [
             0.8888888888888888,
             "#fdca26"
            ],
            [
             1,
             "#f0f921"
            ]
           ],
           "sequentialminus": [
            [
             0,
             "#0d0887"
            ],
            [
             0.1111111111111111,
             "#46039f"
            ],
            [
             0.2222222222222222,
             "#7201a8"
            ],
            [
             0.3333333333333333,
             "#9c179e"
            ],
            [
             0.4444444444444444,
             "#bd3786"
            ],
            [
             0.5555555555555556,
             "#d8576b"
            ],
            [
             0.6666666666666666,
             "#ed7953"
            ],
            [
             0.7777777777777778,
             "#fb9f3a"
            ],
            [
             0.8888888888888888,
             "#fdca26"
            ],
            [
             1,
             "#f0f921"
            ]
           ]
          },
          "colorway": [
           "#636efa",
           "#EF553B",
           "#00cc96",
           "#ab63fa",
           "#FFA15A",
           "#19d3f3",
           "#FF6692",
           "#B6E880",
           "#FF97FF",
           "#FECB52"
          ],
          "font": {
           "color": "#2a3f5f"
          },
          "geo": {
           "bgcolor": "white",
           "lakecolor": "white",
           "landcolor": "#E5ECF6",
           "showlakes": true,
           "showland": true,
           "subunitcolor": "white"
          },
          "hoverlabel": {
           "align": "left"
          },
          "hovermode": "closest",
          "mapbox": {
           "style": "light"
          },
          "paper_bgcolor": "white",
          "plot_bgcolor": "#E5ECF6",
          "polar": {
           "angularaxis": {
            "gridcolor": "white",
            "linecolor": "white",
            "ticks": ""
           },
           "bgcolor": "#E5ECF6",
           "radialaxis": {
            "gridcolor": "white",
            "linecolor": "white",
            "ticks": ""
           }
          },
          "scene": {
           "xaxis": {
            "backgroundcolor": "#E5ECF6",
            "gridcolor": "white",
            "gridwidth": 2,
            "linecolor": "white",
            "showbackground": true,
            "ticks": "",
            "zerolinecolor": "white"
           },
           "yaxis": {
            "backgroundcolor": "#E5ECF6",
            "gridcolor": "white",
            "gridwidth": 2,
            "linecolor": "white",
            "showbackground": true,
            "ticks": "",
            "zerolinecolor": "white"
           },
           "zaxis": {
            "backgroundcolor": "#E5ECF6",
            "gridcolor": "white",
            "gridwidth": 2,
            "linecolor": "white",
            "showbackground": true,
            "ticks": "",
            "zerolinecolor": "white"
           }
          },
          "shapedefaults": {
           "line": {
            "color": "#2a3f5f"
           }
          },
          "ternary": {
           "aaxis": {
            "gridcolor": "white",
            "linecolor": "white",
            "ticks": ""
           },
           "baxis": {
            "gridcolor": "white",
            "linecolor": "white",
            "ticks": ""
           },
           "bgcolor": "#E5ECF6",
           "caxis": {
            "gridcolor": "white",
            "linecolor": "white",
            "ticks": ""
           }
          },
          "title": {
           "x": 0.05
          },
          "xaxis": {
           "automargin": true,
           "gridcolor": "white",
           "linecolor": "white",
           "ticks": "",
           "title": {
            "standoff": 15
           },
           "zerolinecolor": "white",
           "zerolinewidth": 2
          },
          "yaxis": {
           "automargin": true,
           "gridcolor": "white",
           "linecolor": "white",
           "ticks": "",
           "title": {
            "standoff": 15
           },
           "zerolinecolor": "white",
           "zerolinewidth": 2
          }
         }
        },
        "title": {
         "text": "Sweetness vs Sourness"
        },
        "xaxis": {
         "anchor": "y",
         "domain": [
          0,
          1
         ],
         "range": [
          0,
          15
         ],
         "title": {
          "text": "Sweetness"
         }
        },
        "yaxis": {
         "anchor": "x",
         "domain": [
          0,
          1
         ],
         "range": [
          0,
          15
         ],
         "title": {
          "text": "Sourness"
         }
        }
       }
      },
      "text/html": [
       "<div>                            <div id=\"2eb3188b-696b-4824-b37d-7ebced68f65c\" class=\"plotly-graph-div\" style=\"height:525px; width:100%;\"></div>            <script type=\"text/javascript\">                require([\"plotly\"], function(Plotly) {                    window.PLOTLYENV=window.PLOTLYENV || {};                                    if (document.getElementById(\"2eb3188b-696b-4824-b37d-7ebced68f65c\")) {                    Plotly.newPlot(                        \"2eb3188b-696b-4824-b37d-7ebced68f65c\",                        [{\"hovertemplate\":\"<b>%{hovertext}</b><br><br>sweet_greater_than_sour=More Sweet<br>sweetness=%{x}<br>sourness=%{y}<extra></extra>\",\"hovertext\":[\"Sweet and Sour Pineapple Ginger Sauce\",\"Sweet and Sour Cherry and Buckwheat Crumble\",\"Sweet and Sour Strawberry Semifreddo with Black Sesame\",\"Sweet and Sour Strawberry Semifreddo with Black Sesame\",\"Mixed berry Sweet and sour drink\",\"Panda Express Sweet and Sour Sauce (Copycat)\",\"Easter Nest Sweet Cake With Sour Cream-Royal Icing and Pistachios\",\"Fig and Sour Cream Ice Cream\",\"Brandied Sour Cherry and Pear Tartlets\",\"Peach and Sour Cream Tart\",\"Grandma's Sour Cream Raisin Pie\",\"Grandma\\u2019s Sour Cream Coffee Cake\",\"Grandma\\u2019s Sour Cream Sugar Cookies\",\"Sweet & Sour Cherry Vareniki\",\"Island Lemon Sours Bars\",\"Sweet or Sour Cream Chocolate Cake\",\"Sourdough Sandwich Loaf\",\"Buttermilk and Sour Cream Corn Bread\",\"Sour Cream and Lemon Honey Corn Muffins\",\"Peach and Maple Sour Cream Pecan Pie\",\"Sour Cherry And Chocolate Chip Scone\",\"Sour Cherry and Chocolate Chip Oatmeal Cookies\",\"Sweet Buttery Sourdough Crescent Rolls\",\"Sourpuss Turned Sweet\",\"Honey and Marmalade Sour\",\"Sandwich Bread with Sourdough Starter\",\"Sour Cream Pecan Sandies for\",\"Gluten And Dairy Free Sour Cherry And Pastry Cream G\\u00e2teau Basque\",\"Sour Cream, Cherry And Tequila Paletas\",\"Sour Cherry Scones and Ginger-Marmalade Cream\",\"Sour Cream Pancakes\\u2026and a Giveaway\",\"Banana Bread (Vegan and Sourdough!)\",\"Sour Cream, Cherry, And Tequila Paletas\",\"Brown Butter, Ginger, and Sour Cream Coffee Cake\",\"VIDEO: Strawberries and Cream Sourdough French Toast for Two\",\"Artisan Sourdough Sandwich Bread\",\"Sour Cream Muffins with Lemon and Poppy Seeds\",\"Apple Pie with Hazelnuts and Dried Sour Cherries\",\"Sour Cherry Pie With Jason Biggs And Paul Walker\",\"Sour Cream Coffee Cake With Pears And Pecans\",\"Sour Cream Coffee Cake with Pears and Pecans\",\"Banana Sour Cream Pancakes and Magelby\\u2019s Buttermilk Syrup\",\"Cranberry, Sour Cherry, And Grapefruit Chutney\",\"Sourdough Bread Pudding with Mango and Pumpkin Seeds\",\"The Sweet Melissa Baking Book: Sour Cherry Pie with Pistachio Crumble\",\"Lemon Bars with Sweet Sour Cream Topping\",\"Sour Cream Coffee Cake With Chocolate And Nuts\",\"Sour Cream Coffee Cake with Chocolate and Nuts\",\"Double-Ginger Sour Cream and Bundt Cake with Ginger-Infused Strawberries\",\"Rock Candy Jello Shooters With Midori Melon Sour\",\"Pierogi with Italian Plum Filling and Spiced Sour Cream\",\"Caramelized-Nectarine and Ginger Shortcakes with Sour Cream\",\"Yellow Cake With Strawberry Filling And Chocolate Sour Cream Fr\",\"SPONSORED: Vanilla and Oat Pancakes With Whipped Vanilla Sour Cream\",\"Quinoa With Clementines, Sour Cherries And Pecans\",\"Christmas Croissant Pudding with Sour Cream and Brown Sugar Sauce\",\"Cherry Dark Chocolate Sour Cream Bundt Cake \\u2013 Low Carb and Gluten-Free\",\"Yellow Cupcakes With Chocolate Sour Cream Frosting And Toasted\",\"Easy Blackberry Pie with Spiced Sour Cream Custard (and No-Roll Pie Crust!)\",\"Chocolate Layer Cake with Chocolate Sour Cream Frosting (Low Carb and Gluten-Free)\",\"Sour Cream Pie\",\"Sour Cherry Pie\",\"Sour Cherry Pie\",\"Sour Cherry Pie\",\"Sour Cherry Pie\",\"Sourdough Bread\",\"Sour Cream Babka\",\"Sour Cream Babka\",\"Sour Cherry Tart\",\"Sour Cream Drops\",\"Sour Cream Scones\",\"Sour Cherry Sauce\",\"Sour Cream Twists\",\"Sour Cream Loaves\",\"Sour Cream Scones\",\"Sour Cream Waffles\",\"Sour Cherry 'Clams\",\"Sourdough Biscuits\",\"Sourdough Pancakes\",\"Sour Cream Cutouts\",\"Sour Cream Waffles\",\"Sourdough Pancakes\",\"Sourdough Pancakes\",\"Sour Cherry Sorbet\",\"Sourdough Pancakes\",\"Sour Cream Bavarian\",\"Sour Cherry Compote\",\"Sour Cream Biscuits\",\"Sour Cream Cupcakes\",\"Sour Cream Brownies\",\"Sour Cream Biscotti\",\"Sour Cream Plum Pie\",\"Sour Cream Frosting\",\"Sour Cream Beignets\",\"Sour Cream Apple Pie\",\"Sour Cream Lemon Pie\",\"Sour Cream-Lemon Pie\",\"Sour Cream Apple Pie\",\"Sour Cream Apple Pie\"],\"legendgroup\":\"More Sweet\",\"marker\":{\"color\":\"#636efa\",\"symbol\":\"circle\"},\"mode\":\"markers\",\"name\":\"More Sweet\",\"orientation\":\"v\",\"showlegend\":true,\"x\":[13.51,7.46,5.46,5.46,5.18,6.77,6.28,5.99,4.56,5.4,4.4,6.48,7.44,10.05,10.24,6.59,0.73,2.22,3.27,7.15,3.27,6.55,1.91,6.45,6.35,0.86,4.44,5.9,5.67,3.23,5.62,4.1,5.67,8.15,5.37,1.18,4.59,6.83,10.07,8.22,6.44,3.43,5.66,5.5,8.37,2.76,5.85,5.85,5.65,2.46,9.19,5.74,7.05,3.48,4.76,5.3,1.5,6.06,1.63,0.91,6.39,4.36,8.66,6.26,11.22,0.7,3.05,5.41,6.64,8.11,2.73,9.06,9.77,5.49,4.65,2.7,5.97,0.42,1.16,8.37,3.91,2.53,1.14,12.34,1.04,5.43,7.45,2.47,7.28,7.86,4.72,7.03,14.03,2.19,6.87,5.06,4.39,6.4,7.14],\"xaxis\":\"x\",\"y\":[2.45,3.52,1.23,1.23,3.85,0.41,0.51,1.56,1.64,2.26,0.97,0.07,0.18,1.89,1.32,0.13,0.0,0.1,0.36,1.22,0.01,0.86,0.22,1.22,6.04,0.43,0.07,1.96,1.5,0.43,0.15,0.4,1.5,0.21,1.91,0.24,0.21,2.95,3.98,0.9,0.58,0.72,3.08,2.01,3.07,1.43,0.19,0.19,1.66,0.92,3.42,1.88,0.82,0.53,3.97,1.21,0.25,0.38,0.28,0.22,0.13,2.22,3.05,1.62,0.04,0.32,0.65,0.38,2.93,0.1,0.02,3.92,0.08,0.08,0.05,0.37,4.44,0.0,0.55,0.05,0.52,0.97,0.53,3.06,0.92,0.19,4.1,0.14,0.14,0.09,0.09,2.17,0.1,0.22,2.76,1.68,2.33,3.16,2.8],\"yaxis\":\"y\",\"type\":\"scatter\"},{\"hovertemplate\":\"<b>%{hovertext}</b><br><br>sweet_greater_than_sour=More Sour<br>sweetness=%{x}<br>sourness=%{y}<extra></extra>\",\"hovertext\":[\"Drink the Book: Brandy Sour\"],\"legendgroup\":\"More Sour\",\"marker\":{\"color\":\"#EF553B\",\"symbol\":\"circle\"},\"mode\":\"markers\",\"name\":\"More Sour\",\"orientation\":\"v\",\"showlegend\":true,\"x\":[1.84],\"xaxis\":\"x\",\"y\":[4.89],\"yaxis\":\"y\",\"type\":\"scatter\"}],                        {\"template\":{\"data\":{\"histogram2dcontour\":[{\"type\":\"histogram2dcontour\",\"colorbar\":{\"outlinewidth\":0,\"ticks\":\"\"},\"colorscale\":[[0.0,\"#0d0887\"],[0.1111111111111111,\"#46039f\"],[0.2222222222222222,\"#7201a8\"],[0.3333333333333333,\"#9c179e\"],[0.4444444444444444,\"#bd3786\"],[0.5555555555555556,\"#d8576b\"],[0.6666666666666666,\"#ed7953\"],[0.7777777777777778,\"#fb9f3a\"],[0.8888888888888888,\"#fdca26\"],[1.0,\"#f0f921\"]]}],\"choropleth\":[{\"type\":\"choropleth\",\"colorbar\":{\"outlinewidth\":0,\"ticks\":\"\"}}],\"histogram2d\":[{\"type\":\"histogram2d\",\"colorbar\":{\"outlinewidth\":0,\"ticks\":\"\"},\"colorscale\":[[0.0,\"#0d0887\"],[0.1111111111111111,\"#46039f\"],[0.2222222222222222,\"#7201a8\"],[0.3333333333333333,\"#9c179e\"],[0.4444444444444444,\"#bd3786\"],[0.5555555555555556,\"#d8576b\"],[0.6666666666666666,\"#ed7953\"],[0.7777777777777778,\"#fb9f3a\"],[0.8888888888888888,\"#fdca26\"],[1.0,\"#f0f921\"]]}],\"heatmap\":[{\"type\":\"heatmap\",\"colorbar\":{\"outlinewidth\":0,\"ticks\":\"\"},\"colorscale\":[[0.0,\"#0d0887\"],[0.1111111111111111,\"#46039f\"],[0.2222222222222222,\"#7201a8\"],[0.3333333333333333,\"#9c179e\"],[0.4444444444444444,\"#bd3786\"],[0.5555555555555556,\"#d8576b\"],[0.6666666666666666,\"#ed7953\"],[0.7777777777777778,\"#fb9f3a\"],[0.8888888888888888,\"#fdca26\"],[1.0,\"#f0f921\"]]}],\"heatmapgl\":[{\"type\":\"heatmapgl\",\"colorbar\":{\"outlinewidth\":0,\"ticks\":\"\"},\"colorscale\":[[0.0,\"#0d0887\"],[0.1111111111111111,\"#46039f\"],[0.2222222222222222,\"#7201a8\"],[0.3333333333333333,\"#9c179e\"],[0.4444444444444444,\"#bd3786\"],[0.5555555555555556,\"#d8576b\"],[0.6666666666666666,\"#ed7953\"],[0.7777777777777778,\"#fb9f3a\"],[0.8888888888888888,\"#fdca26\"],[1.0,\"#f0f921\"]]}],\"contourcarpet\":[{\"type\":\"contourcarpet\",\"colorbar\":{\"outlinewidth\":0,\"ticks\":\"\"}}],\"contour\":[{\"type\":\"contour\",\"colorbar\":{\"outlinewidth\":0,\"ticks\":\"\"},\"colorscale\":[[0.0,\"#0d0887\"],[0.1111111111111111,\"#46039f\"],[0.2222222222222222,\"#7201a8\"],[0.3333333333333333,\"#9c179e\"],[0.4444444444444444,\"#bd3786\"],[0.5555555555555556,\"#d8576b\"],[0.6666666666666666,\"#ed7953\"],[0.7777777777777778,\"#fb9f3a\"],[0.8888888888888888,\"#fdca26\"],[1.0,\"#f0f921\"]]}],\"surface\":[{\"type\":\"surface\",\"colorbar\":{\"outlinewidth\":0,\"ticks\":\"\"},\"colorscale\":[[0.0,\"#0d0887\"],[0.1111111111111111,\"#46039f\"],[0.2222222222222222,\"#7201a8\"],[0.3333333333333333,\"#9c179e\"],[0.4444444444444444,\"#bd3786\"],[0.5555555555555556,\"#d8576b\"],[0.6666666666666666,\"#ed7953\"],[0.7777777777777778,\"#fb9f3a\"],[0.8888888888888888,\"#fdca26\"],[1.0,\"#f0f921\"]]}],\"mesh3d\":[{\"type\":\"mesh3d\",\"colorbar\":{\"outlinewidth\":0,\"ticks\":\"\"}}],\"scatter\":[{\"fillpattern\":{\"fillmode\":\"overlay\",\"size\":10,\"solidity\":0.2},\"type\":\"scatter\"}],\"parcoords\":[{\"type\":\"parcoords\",\"line\":{\"colorbar\":{\"outlinewidth\":0,\"ticks\":\"\"}}}],\"scatterpolargl\":[{\"type\":\"scatterpolargl\",\"marker\":{\"colorbar\":{\"outlinewidth\":0,\"ticks\":\"\"}}}],\"bar\":[{\"error_x\":{\"color\":\"#2a3f5f\"},\"error_y\":{\"color\":\"#2a3f5f\"},\"marker\":{\"line\":{\"color\":\"#E5ECF6\",\"width\":0.5},\"pattern\":{\"fillmode\":\"overlay\",\"size\":10,\"solidity\":0.2}},\"type\":\"bar\"}],\"scattergeo\":[{\"type\":\"scattergeo\",\"marker\":{\"colorbar\":{\"outlinewidth\":0,\"ticks\":\"\"}}}],\"scatterpolar\":[{\"type\":\"scatterpolar\",\"marker\":{\"colorbar\":{\"outlinewidth\":0,\"ticks\":\"\"}}}],\"histogram\":[{\"marker\":{\"pattern\":{\"fillmode\":\"overlay\",\"size\":10,\"solidity\":0.2}},\"type\":\"histogram\"}],\"scattergl\":[{\"type\":\"scattergl\",\"marker\":{\"colorbar\":{\"outlinewidth\":0,\"ticks\":\"\"}}}],\"scatter3d\":[{\"type\":\"scatter3d\",\"line\":{\"colorbar\":{\"outlinewidth\":0,\"ticks\":\"\"}},\"marker\":{\"colorbar\":{\"outlinewidth\":0,\"ticks\":\"\"}}}],\"scattermapbox\":[{\"type\":\"scattermapbox\",\"marker\":{\"colorbar\":{\"outlinewidth\":0,\"ticks\":\"\"}}}],\"scatterternary\":[{\"type\":\"scatterternary\",\"marker\":{\"colorbar\":{\"outlinewidth\":0,\"ticks\":\"\"}}}],\"scattercarpet\":[{\"type\":\"scattercarpet\",\"marker\":{\"colorbar\":{\"outlinewidth\":0,\"ticks\":\"\"}}}],\"carpet\":[{\"aaxis\":{\"endlinecolor\":\"#2a3f5f\",\"gridcolor\":\"white\",\"linecolor\":\"white\",\"minorgridcolor\":\"white\",\"startlinecolor\":\"#2a3f5f\"},\"baxis\":{\"endlinecolor\":\"#2a3f5f\",\"gridcolor\":\"white\",\"linecolor\":\"white\",\"minorgridcolor\":\"white\",\"startlinecolor\":\"#2a3f5f\"},\"type\":\"carpet\"}],\"table\":[{\"cells\":{\"fill\":{\"color\":\"#EBF0F8\"},\"line\":{\"color\":\"white\"}},\"header\":{\"fill\":{\"color\":\"#C8D4E3\"},\"line\":{\"color\":\"white\"}},\"type\":\"table\"}],\"barpolar\":[{\"marker\":{\"line\":{\"color\":\"#E5ECF6\",\"width\":0.5},\"pattern\":{\"fillmode\":\"overlay\",\"size\":10,\"solidity\":0.2}},\"type\":\"barpolar\"}],\"pie\":[{\"automargin\":true,\"type\":\"pie\"}]},\"layout\":{\"autotypenumbers\":\"strict\",\"colorway\":[\"#636efa\",\"#EF553B\",\"#00cc96\",\"#ab63fa\",\"#FFA15A\",\"#19d3f3\",\"#FF6692\",\"#B6E880\",\"#FF97FF\",\"#FECB52\"],\"font\":{\"color\":\"#2a3f5f\"},\"hovermode\":\"closest\",\"hoverlabel\":{\"align\":\"left\"},\"paper_bgcolor\":\"white\",\"plot_bgcolor\":\"#E5ECF6\",\"polar\":{\"bgcolor\":\"#E5ECF6\",\"angularaxis\":{\"gridcolor\":\"white\",\"linecolor\":\"white\",\"ticks\":\"\"},\"radialaxis\":{\"gridcolor\":\"white\",\"linecolor\":\"white\",\"ticks\":\"\"}},\"ternary\":{\"bgcolor\":\"#E5ECF6\",\"aaxis\":{\"gridcolor\":\"white\",\"linecolor\":\"white\",\"ticks\":\"\"},\"baxis\":{\"gridcolor\":\"white\",\"linecolor\":\"white\",\"ticks\":\"\"},\"caxis\":{\"gridcolor\":\"white\",\"linecolor\":\"white\",\"ticks\":\"\"}},\"coloraxis\":{\"colorbar\":{\"outlinewidth\":0,\"ticks\":\"\"}},\"colorscale\":{\"sequential\":[[0.0,\"#0d0887\"],[0.1111111111111111,\"#46039f\"],[0.2222222222222222,\"#7201a8\"],[0.3333333333333333,\"#9c179e\"],[0.4444444444444444,\"#bd3786\"],[0.5555555555555556,\"#d8576b\"],[0.6666666666666666,\"#ed7953\"],[0.7777777777777778,\"#fb9f3a\"],[0.8888888888888888,\"#fdca26\"],[1.0,\"#f0f921\"]],\"sequentialminus\":[[0.0,\"#0d0887\"],[0.1111111111111111,\"#46039f\"],[0.2222222222222222,\"#7201a8\"],[0.3333333333333333,\"#9c179e\"],[0.4444444444444444,\"#bd3786\"],[0.5555555555555556,\"#d8576b\"],[0.6666666666666666,\"#ed7953\"],[0.7777777777777778,\"#fb9f3a\"],[0.8888888888888888,\"#fdca26\"],[1.0,\"#f0f921\"]],\"diverging\":[[0,\"#8e0152\"],[0.1,\"#c51b7d\"],[0.2,\"#de77ae\"],[0.3,\"#f1b6da\"],[0.4,\"#fde0ef\"],[0.5,\"#f7f7f7\"],[0.6,\"#e6f5d0\"],[0.7,\"#b8e186\"],[0.8,\"#7fbc41\"],[0.9,\"#4d9221\"],[1,\"#276419\"]]},\"xaxis\":{\"gridcolor\":\"white\",\"linecolor\":\"white\",\"ticks\":\"\",\"title\":{\"standoff\":15},\"zerolinecolor\":\"white\",\"automargin\":true,\"zerolinewidth\":2},\"yaxis\":{\"gridcolor\":\"white\",\"linecolor\":\"white\",\"ticks\":\"\",\"title\":{\"standoff\":15},\"zerolinecolor\":\"white\",\"automargin\":true,\"zerolinewidth\":2},\"scene\":{\"xaxis\":{\"backgroundcolor\":\"#E5ECF6\",\"gridcolor\":\"white\",\"linecolor\":\"white\",\"showbackground\":true,\"ticks\":\"\",\"zerolinecolor\":\"white\",\"gridwidth\":2},\"yaxis\":{\"backgroundcolor\":\"#E5ECF6\",\"gridcolor\":\"white\",\"linecolor\":\"white\",\"showbackground\":true,\"ticks\":\"\",\"zerolinecolor\":\"white\",\"gridwidth\":2},\"zaxis\":{\"backgroundcolor\":\"#E5ECF6\",\"gridcolor\":\"white\",\"linecolor\":\"white\",\"showbackground\":true,\"ticks\":\"\",\"zerolinecolor\":\"white\",\"gridwidth\":2}},\"shapedefaults\":{\"line\":{\"color\":\"#2a3f5f\"}},\"annotationdefaults\":{\"arrowcolor\":\"#2a3f5f\",\"arrowhead\":0,\"arrowwidth\":1},\"geo\":{\"bgcolor\":\"white\",\"landcolor\":\"#E5ECF6\",\"subunitcolor\":\"white\",\"showland\":true,\"showlakes\":true,\"lakecolor\":\"white\"},\"title\":{\"x\":0.05},\"mapbox\":{\"style\":\"light\"}}},\"xaxis\":{\"anchor\":\"y\",\"domain\":[0.0,1.0],\"title\":{\"text\":\"Sweetness\"},\"range\":[0,15]},\"yaxis\":{\"anchor\":\"x\",\"domain\":[0.0,1.0],\"title\":{\"text\":\"Sourness\"},\"range\":[0,15]},\"legend\":{\"title\":{\"text\":\"Dominant Flavor\"},\"tracegroupgap\":0},\"margin\":{\"t\":60},\"title\":{\"text\":\"Sweetness vs Sourness\"}},                        {\"responsive\": true}                    ).then(function(){\n",
       "                            \n",
       "var gd = document.getElementById('2eb3188b-696b-4824-b37d-7ebced68f65c');\n",
       "var x = new MutationObserver(function (mutations, observer) {{\n",
       "        var display = window.getComputedStyle(gd).display;\n",
       "        if (!display || display === 'none') {{\n",
       "            console.log([gd, 'removed!']);\n",
       "            Plotly.purge(gd);\n",
       "            observer.disconnect();\n",
       "        }}\n",
       "}});\n",
       "\n",
       "// Listen for the removal of the full notebook cells\n",
       "var notebookContainer = gd.closest('#notebook-container');\n",
       "if (notebookContainer) {{\n",
       "    x.observe(notebookContainer, {childList: true});\n",
       "}}\n",
       "\n",
       "// Listen for the clearing of the current output cell\n",
       "var outputEl = gd.closest('.output');\n",
       "if (outputEl) {{\n",
       "    x.observe(outputEl, {childList: true});\n",
       "}}\n",
       "\n",
       "                        })                };                });            </script>        </div>"
      ]
     },
     "metadata": {},
     "output_type": "display_data"
    }
   ],
   "source": [
    "# Create a scatterplot of sweet vs sour\n",
    "# With plotly \n",
    "# With extra data as hovertext\n",
    "import plotly.graph_objects as go\n",
    "import plotly.express as px\n",
    "# Red points are where sweetness is greater than sourness\n",
    "# Blue points are where sourness is greater than sweetness\n",
    "# Green points are where sweetness is equal to sourness\n",
    "# ADd column for when sweetness is greater than sourness or sourness is greater than sweetness\n",
    "sweet_and_sourwithflavor['sweet_greater_than_sour'] = sweet_and_sourwithflavor['sweetness'] > sweet_and_sourwithflavor['sourness']\n",
    "# Change column to text - \"Sweet\" if true, \"Sour\" if false\n",
    "sweet_and_sourwithflavor['sweet_greater_than_sour'] = sweet_and_sourwithflavor['sweet_greater_than_sour'].apply(lambda row: 'More Sweet' if row else 'More Sour')\n",
    "# Scatterplot \n",
    "fig = px.scatter(sweet_and_sourwithflavor, x='sweetness', y='sourness', color='sweet_greater_than_sour', hover_name='title')\n",
    "fig.update_layout(title='Sweetness vs Sourness')\n",
    "# Add x-axis title\n",
    "fig.update_xaxes(title_text='Sweetness')\n",
    "# Add y-axis title\n",
    "fig.update_yaxes(title_text='Sourness')\n",
    "# Change y-axis range to 0-15\n",
    "fig.update_yaxes(range=[0,15])\n",
    "# Change x-axis range to 0-15\n",
    "fig.update_xaxes(range=[0,15])\n",
    "# Update legend title\n",
    "fig.update_layout(legend_title_text='Dominant Flavor')\n",
    "\n",
    "fig.show()\n"
   ]
  },
  {
   "cell_type": "code",
   "execution_count": null,
   "metadata": {},
   "outputs": [],
   "source": []
  }
 ],
 "metadata": {
  "kernelspec": {
   "display_name": "Python 3.10.4 64-bit",
   "language": "python",
   "name": "python3"
  },
  "language_info": {
   "codemirror_mode": {
    "name": "ipython",
    "version": 3
   },
   "file_extension": ".py",
   "mimetype": "text/x-python",
   "name": "python",
   "nbconvert_exporter": "python",
   "pygments_lexer": "ipython3",
   "version": "3.10.4"
  },
  "orig_nbformat": 4,
  "vscode": {
   "interpreter": {
    "hash": "4f946df053fbf2b937619d3c5458e7af74262f9a954d8797ba0b27400bcafe06"
   }
  }
 },
 "nbformat": 4,
 "nbformat_minor": 2
}
