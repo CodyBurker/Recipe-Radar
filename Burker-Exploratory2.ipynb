{
 "cells": [
  {
   "cell_type": "code",
   "execution_count": 32,
   "metadata": {},
   "outputs": [],
   "source": [
    "import spoontacular as sp\n",
    "import pandas as pd\n",
    "import pandas as pd\n",
    "import spoontacular as sp\n",
    "import seaborn as sns\n",
    "import matplotlib.pyplot as plt\n",
    "import numpy as np\n",
    "from matplotlib.lines import Line2D\n",
    "# Read in api key from file\n",
    "with open('api_key.txt', 'r') as f:\n",
    "    api_key = f.read()"
   ]
  },
  {
   "cell_type": "code",
   "execution_count": 2,
   "metadata": {},
   "outputs": [],
   "source": [
    "flavors = ['sweetness','saltiness','sourness','bitterness','savoriness','fattiness','spiciness']\n",
    "sweet_and_sour = sp.get_recipe('sweet and sour', api_key, number=100)\n",
    "sweet_and_sour['taste_profile'] = sweet_and_sour['id'].apply(lambda row: sp.get_taste(row, api_key))\n",
    "sweet_and_sourwithflavor = sweet_and_sour.copy()\n",
    "for falvor in flavors:\n",
    "    sweet_and_sourwithflavor[falvor] = sweet_and_sour['taste_profile'].apply(lambda row: row[falvor])"
   ]
  },
  {
   "cell_type": "code",
   "execution_count": 39,
   "metadata": {},
   "outputs": [
    {
     "data": {
      "image/png": "[encoded data removed]",
      "text/plain": [
       "<Figure size 432x288 with 1 Axes>"
      ]
     },
     "metadata": {
      "needs_background": "light"
     },
     "output_type": "display_data"
    }
   ],
   "source": [
    "# Create a scatterplot of sweet vs sour \n",
    "sns.scatterplot(x='sweetness', y='sourness', data=sweet_and_sourwithflavor, color='black')\n",
    "# Fill everything above y=x with a color\n",
    "# And everything below  y=x with a different color\n",
    "x = np.linspace(0, 10, 100)\n",
    "y1 = x\n",
    "# y2 is an array the same length as x but with all values equal to 100\n",
    "y2 = np.full(len(x), 100)\n",
    "plt.fill_between(x, y1, y2, color='red', alpha=0.3)\n",
    "plt.fill_between(x,y1, color='blue', alpha=0.3)\n",
    "# Add a legend to the plot\n",
    "# Blue = \"Sweet\"\n",
    "# Red = \"Sour\"\n",
    "# both are boxes with colors\n",
    "legend_elements = [Line2D([0], [0], color='blue', lw=4, label='More Sweet',alpha=0.3),\n",
    "                     Line2D([0], [0], color='red', lw=4, label='More Sour', alpha=0.3)]\n",
    "plt.legend(\n",
    "    handles=legend_elements,\n",
    "    loc='upper left')  \n",
    "# Make it a square plot\n",
    "plt.axis('square')\n",
    "plt.ylim(0, 8)\n",
    "plt.xlim(0,8)\n",
    "plt.title('Sweetness vs Sourness')\n",
    "plt.show()"
   ]
  },
  {
   "cell_type": "code",
   "execution_count": 71,
   "metadata": {},
   "outputs": [
    {
     "data": {
      "application/vnd.plotly.v1+json": {
       "config": {
        "plotlyServerURL": "https://plot.ly"
       },
       "data": [
        {
         "hovertemplate": "<b>%{hovertext}</b><br><br>sweet_greater_than_sour=More Sweet<br>sweetness=%{x}<br>sourness=%{y}<extra></extra>",
         "hovertext": [
          "Sweet and Sour Pineapple Ginger Sauce",
          "Sweet and Sour Cherry and Buckwheat Crumble",
          "Sweet and Sour Strawberry Semifreddo with Black Sesame",
          "Sweet and Sour Strawberry Semifreddo with Black Sesame",
          "Mixed berry Sweet and sour drink",
          "Panda Express Sweet and Sour Sauce (Copycat)",
          "Easter Nest Sweet Cake With Sour Cream-Royal Icing and Pistachios",
          "Fig and Sour Cream Ice Cream",
          "Brandied Sour Cherry and Pear Tartlets",
          "Peach and Sour Cream Tart",
          "Grandma's Sour Cream Raisin Pie",
          "Grandma’s Sour Cream Coffee Cake",
          "Grandma’s Sour Cream Sugar Cookies",
          "Sweet & Sour Cherry Vareniki",
          "Island Lemon Sours Bars",
          "Sweet or Sour Cream Chocolate Cake",
          "Sourdough Sandwich Loaf",
          "Buttermilk and Sour Cream Corn Bread",
          "Sour Cream and Lemon Honey Corn Muffins",
          "Peach and Maple Sour Cream Pecan Pie",
          "Sour Cherry And Chocolate Chip Scone",
          "Sour Cherry and Chocolate Chip Oatmeal Cookies",
          "Sweet Buttery Sourdough Crescent Rolls",
          "Sourpuss Turned Sweet",
          "Honey and Marmalade Sour",
          "Sandwich Bread with Sourdough Starter",
          "Sour Cream Pecan Sandies for",
          "Gluten And Dairy Free Sour Cherry And Pastry Cream Gâteau Basque",
          "Sour Cream, Cherry And Tequila Paletas",
          "Sour Cherry Scones and Ginger-Marmalade Cream",
          "Sour Cream Pancakes…and a Giveaway",
          "Banana Bread (Vegan and Sourdough!)",
          "Sour Cream, Cherry, And Tequila Paletas",
          "Brown Butter, Ginger, and Sour Cream Coffee Cake",
          "VIDEO: Strawberries and Cream Sourdough French Toast for Two",
          "Artisan Sourdough Sandwich Bread",
          "Sour Cream Muffins with Lemon and Poppy Seeds",
          "Apple Pie with Hazelnuts and Dried Sour Cherries",
          "Sour Cherry Pie With Jason Biggs And Paul Walker",
          "Sour Cream Coffee Cake With Pears And Pecans",
          "Sour Cream Coffee Cake with Pears and Pecans",
          "Banana Sour Cream Pancakes and Magelby’s Buttermilk Syrup",
          "Cranberry, Sour Cherry, And Grapefruit Chutney",
          "Sourdough Bread Pudding with Mango and Pumpkin Seeds",
          "The Sweet Melissa Baking Book: Sour Cherry Pie with Pistachio Crumble",
          "Lemon Bars with Sweet Sour Cream Topping",
          "Sour Cream Coffee Cake With Chocolate And Nuts",
          "Sour Cream Coffee Cake with Chocolate and Nuts",
          "Double-Ginger Sour Cream and Bundt Cake with Ginger-Infused Strawberries",
          "Rock Candy Jello Shooters With Midori Melon Sour",
          "Pierogi with Italian Plum Filling and Spiced Sour Cream",
          "Caramelized-Nectarine and Ginger Shortcakes with Sour Cream",
          "Yellow Cake With Strawberry Filling And Chocolate Sour Cream Fr",
          "SPONSORED: Vanilla and Oat Pancakes With Whipped Vanilla Sour Cream",
          "Quinoa With Clementines, Sour Cherries And Pecans",
          "Christmas Croissant Pudding with Sour Cream and Brown Sugar Sauce",
          "Cherry Dark Chocolate Sour Cream Bundt Cake – Low Carb and Gluten-Free",
          "Yellow Cupcakes With Chocolate Sour Cream Frosting And Toasted",
          "Easy Blackberry Pie with Spiced Sour Cream Custard (and No-Roll Pie Crust!)",
          "Chocolate Layer Cake with Chocolate Sour Cream Frosting (Low Carb and Gluten-Free)",
          "Sour Cream Pie",
          "Sour Cherry Pie",
          "Sour Cherry Pie",
          "Sour Cherry Pie",
          "Sour Cherry Pie",
          "Sourdough Bread",
          "Sour Cream Babka",
          "Sour Cream Babka",
          "Sour Cherry Tart",
          "Sour Cream Drops",
          "Sour Cream Scones",
          "Sour Cherry Sauce",
          "Sour Cream Twists",
          "Sour Cream Loaves",
          "Sour Cream Scones",
          "Sour Cream Waffles",
          "Sour Cherry 'Clams",
          "Sourdough Biscuits",
          "Sourdough Pancakes",
          "Sour Cream Cutouts",
          "Sour Cream Waffles",
          "Sourdough Pancakes",
          "Sourdough Pancakes",
          "Sour Cherry Sorbet",
          "Sourdough Pancakes",
          "Sour Cream Bavarian",
          "Sour Cherry Compote",
          "Sour Cream Biscuits",
          "Sour Cream Cupcakes",
          "Sour Cream Brownies",
          "Sour Cream Biscotti",
          "Sour Cream Plum Pie",
          "Sour Cream Frosting",
          "Sour Cream Beignets",
          "Sour Cream Apple Pie",
          "Sour Cream Lemon Pie",
          "Sour Cream-Lemon Pie",
          "Sour Cream Apple Pie",
          "Sour Cream Apple Pie"
         ],
         "legendgroup": "More Sweet",
         "marker": {
          "color": "#636efa",
          "symbol": "circle"
         },
         "mode": "markers",
         "name": "More Sweet",
         "orientation": "v",
         "showlegend": true,
         "type": "scatter",
         "x": [
          13.51,
          7.46,
          5.46,
          5.46,
          5.18,
          6.77,
          6.28,
          5.99,
          4.56,
          5.4,
          4.4,
          6.48,
          7.44,
          10.05,
          10.24,
          6.59,
          0.73,
          2.22,
          3.27,
          7.15,
          3.27,
          6.55,
          1.91,
          6.45,
          6.35,
          0.86,
          4.44,
          5.9,
          5.67,
          3.23,
          5.62,
          4.1,
          5.67,
          8.15,
          5.37,
          1.18,
          4.59,
          6.83,
          10.07,
          8.22,
          6.44,
          3.43,
          5.66,
          5.5,
          8.37,
          2.76,
          5.85,
          5.85,
          5.65,
          2.46,
          9.19,
          5.74,
          7.05,
          3.48,
          4.76,
          5.3,
          1.5,
          6.06,
          1.63,
          0.91,
          6.39,
          4.36,
          8.66,
          6.26,
          11.22,
          0.7,
          3.05,
          5.41,
          6.64,
          8.11,
          2.73,
          9.06,
          9.77,
          5.49,
          4.65,
          2.7,
          5.97,
          0.42,
          1.16,
          8.37,
          3.91,
          2.53,
          1.14,
          12.34,
          1.04,
          5.43,
          7.45,
          2.47,
          7.28,
          7.86,
          4.72,
          7.03,
          14.03,
          2.19,
          6.87,
          5.06,
          4.39,
          6.4,
          7.14
         ],
         "xaxis": "x",
         "y": [
          2.45,
          3.52,
          1.23,
          1.23,
          3.85,
          0.41,
          0.51,
          1.56,
          1.64,
          2.26,
          0.97,
          0.07,
          0.18,
          1.89,
          1.32,
          0.13,
          0,
          0.1,
          0.36,
          1.22,
          0.01,
          0.86,
          0.22,
          1.22,
          6.04,
          0.43,
          0.07,
          1.96,
          1.5,
          0.43,
          0.15,
          0.4,
          1.5,
          0.21,
          1.91,
          0.24,
          0.21,
          2.95,
          3.98,
          0.9,
          0.58,
          0.72,
          3.08,
          2.01,
          3.07,
          1.43,
          0.19,
          0.19,
          1.66,
          0.92,
          3.42,
          1.88,
          0.82,
          0.53,
          3.97,
          1.21,
          0.25,
          0.38,
          0.28,
          0.22,
          0.13,
          2.22,
          3.05,
          1.62,
          0.04,
          0.32,
          0.65,
          0.38,
          2.93,
          0.1,
          0.02,
          3.92,
          0.08,
          0.08,
          0.05,
          0.37,
          4.44,
          0,
          0.55,
          0.05,
          0.52,
          0.97,
          0.53,
          3.06,
          0.92,
          0.19,
          4.1,
          0.14,
          0.14,
          0.09,
          0.09,
          2.17,
          0.1,
          0.22,
          2.76,
          1.68,
          2.33,
          3.16,
          2.8
         ],
         "yaxis": "y"
        },
        {
         "hovertemplate": "<b>%{hovertext}</b><br><br>sweet_greater_than_sour=More Sour<br>sweetness=%{x}<br>sourness=%{y}<extra></extra>",
         "hovertext": [
          "Drink the Book: Brandy Sour"
         ],
         "legendgroup": "More Sour",
         "marker": {
          "color": "#EF553B",
          "symbol": "circle"
         },
         "mode": "markers",
         "name": "More Sour",
         "orientation": "v",
         "showlegend": true,
         "type": "scatter",
         "x": [
          1.84
         ],
         "xaxis": "x",
         "y": [
          4.89
         ],
         "yaxis": "y"
        }
       ],
       "layout": {
        "legend": {
         "title": {
          "text": "Dominant Flavor"
         },
         "tracegroupgap": 0
        },
        "margin": {
         "t": 60
        },
        "template": {
         "data": {
          "bar": [
           {
            "error_x": {
             "color": "#2a3f5f"
            },
            "error_y": {
             "color": "#2a3f5f"
            },
            "marker": {
             "line": {
              "color": "#E5ECF6",
              "width": 0.5
             },
             "pattern": {
              "fillmode": "overlay",
              "size": 10,
              "solidity": 0.2
             }
            },
            "type": "bar"
           }
          ],
          "barpolar": [
           {
            "marker": {
             "line": {
              "color": "#E5ECF6",
              "width": 0.5
             },
             "pattern": {
              "fillmode": "overlay",
              "size": 10,
              "solidity": 0.2
             }
            },
            "type": "barpolar"
           }
          ],
          "carpet": [
           {
            "aaxis": {
             "endlinecolor": "#2a3f5f",
             "gridcolor": "white",
             "linecolor": "white",
             "minorgridcolor": "white",
             "startlinecolor": "#2a3f5f"
            },
            "baxis": {
             "endlinecolor": "#2a3f5f",
             "gridcolor": "white",
             "linecolor": "white",
             "minorgridcolor": "white",
             "startlinecolor": "#2a3f5f"
            },
            "type": "carpet"
           }
          ],
          "choropleth": [
           {
            "colorbar": {
             "outlinewidth": 0,
             "ticks": ""
            },
            "type": "choropleth"
           }
          ],
          "contour": [
           {
            "colorbar": {
             "outlinewidth": 0,
             "ticks": ""
            },
            "colorscale": [
             [
              0,
              "#0d0887"
             ],
             [
              0.1111111111111111,
              "#46039f"
             ],
             [
              0.2222222222222222,
              "#7201a8"
             ],
             [
              0.3333333333333333,
              "#9c179e"
             ],
             [
              0.4444444444444444,
              "#bd3786"
             ],
             [
              0.5555555555555556,
              "#d8576b"
             ],
             [
              0.6666666666666666,
              "#ed7953"
             ],
             [
              0.7777777777777778,
              "#fb9f3a"
             ],
             [
              0.8888888888888888,
              "#fdca26"
             ],
             [
              1,
              "#f0f921"
             ]
            ],
            "type": "contour"
           }
          ],
          "contourcarpet": [
           {
            "colorbar": {
             "outlinewidth": 0,
             "ticks": ""
            },
            "type": "contourcarpet"
           }
          ],
          "heatmap": [
           {
            "colorbar": {
             "outlinewidth": 0,
             "ticks": ""
            },
            "colorscale": [
             [
              0,
              "#0d0887"
             ],
             [
              0.1111111111111111,
              "#46039f"
             ],
             [
              0.2222222222222222,
              "#7201a8"
             ],
             [
              0.3333333333333333,
              "#9c179e"
             ],
             [
              0.4444444444444444,
              "#bd3786"
             ],
             [
              0.5555555555555556,
              "#d8576b"
             ],
             [
              0.6666666666666666,
              "#ed7953"
             ],
             [
              0.7777777777777778,
              "#fb9f3a"
             ],
             [
              0.8888888888888888,
              "#fdca26"
             ],
             [
              1,
              "#f0f921"
             ]
            ],
            "type": "heatmap"
           }
          ],
          "heatmapgl": [
           {
            "colorbar": {
             "outlinewidth": 0,
             "ticks": ""
            },
            "colorscale": [
             [
              0,
              "#0d0887"
             ],
             [
              0.1111111111111111,
              "#46039f"
             ],
             [
              0.2222222222222222,
              "#7201a8"
             ],
             [
              0.3333333333333333,
              "#9c179e"
             ],
             [
              0.4444444444444444,
              "#bd3786"
             ],
             [
              0.5555555555555556,
              "#d8576b"
             ],
             [
              0.6666666666666666,
              "#ed7953"
             ],
             [
              0.7777777777777778,
              "#fb9f3a"
             ],
             [
              0.8888888888888888,
              "#fdca26"
             ],
             [
              1,
              "#f0f921"
             ]
            ],
            "type": "heatmapgl"
           }
          ],
          "histogram": [
           {
            "marker": {
             "pattern": {
              "fillmode": "overlay",
              "size": 10,
              "solidity": 0.2
             }
            },
            "type": "histogram"
           }
          ],
          "histogram2d": [
           {
            "colorbar": {
             "outlinewidth": 0,
             "ticks": ""
            },
            "colorscale": [
             [
              0,
              "#0d0887"
             ],
             [
              0.1111111111111111,
              "#46039f"
             ],
             [
              0.2222222222222222,
              "#7201a8"
             ],
             [
              0.3333333333333333,
              "#9c179e"
             ],
             [
              0.4444444444444444,
              "#bd3786"
             ],
             [
              0.5555555555555556,
              "#d8576b"
             ],
             [
              0.6666666666666666,
              "#ed7953"
             ],
             [
              0.7777777777777778,
              "#fb9f3a"
             ],
             [
              0.8888888888888888,
              "#fdca26"
             ],
             [
              1,
              "#f0f921"
             ]
            ],
            "type": "histogram2d"
           }
          ],
          "histogram2dcontour": [
           {
            "colorbar": {
             "outlinewidth": 0,
             "ticks": ""
            },
            "colorscale": [
             [
              0,
              "#0d0887"
             ],
             [
              0.1111111111111111,
              "#46039f"
             ],
             [
              0.2222222222222222,
              "#7201a8"
             ],
             [
              0.3333333333333333,
              "#9c179e"
             ],
             [
              0.4444444444444444,
              "#bd3786"
             ],
             [
              0.5555555555555556,
              "#d8576b"
             ],
             [
              0.6666666666666666,
              "#ed7953"
             ],
             [
              0.7777777777777778,
              "#fb9f3a"
             ],
             [
              0.8888888888888888,
              "#fdca26"
             ],
             [
              1,
              "#f0f921"
             ]
            ],
            "type": "histogram2dcontour"
           }
          ],
          "mesh3d": [
           {
            "colorbar": {
             "outlinewidth": 0,
             "ticks": ""
            },
            "type": "mesh3d"
           }
          ],
          "parcoords": [
           {
            "line": {
             "colorbar": {
              "outlinewidth": 0,
              "ticks": ""
             }
            },
            "type": "parcoords"
           }
          ],
          "pie": [
           {
            "automargin": true,
            "type": "pie"
           }
          ],
          "scatter": [
           {
            "fillpattern": {
             "fillmode": "overlay",
             "size": 10,
             "solidity": 0.2
            },
            "type": "scatter"
           }
          ],
          "scatter3d": [
           {
            "line": {
             "colorbar": {
              "outlinewidth": 0,
              "ticks": ""
             }
            },
            "marker": {
             "colorbar": {
              "outlinewidth": 0,
              "ticks": ""
             }
            },
            "type": "scatter3d"
           }
          ],
          "scattercarpet": [
           {
            "marker": {
             "colorbar": {
              "outlinewidth": 0,
              "ticks": ""
             }
            },
            "type": "scattercarpet"
           }
          ],
          "scattergeo": [
           {
            "marker": {
             "colorbar": {
              "outlinewidth": 0,
              "ticks": ""
             }
            },
            "type": "scattergeo"
           }
          ],
          "scattergl": [
           {
            "marker": {
             "colorbar": {
              "outlinewidth": 0,
              "ticks": ""
             }
            },
            "type": "scattergl"
           }
          ],
          "scattermapbox": [
           {
            "marker": {
             "colorbar": {
              "outlinewidth": 0,
              "ticks": ""
             }
            },
            "type": "scattermapbox"
           }
          ],
          "scatterpolar": [
           {
            "marker": {
             "colorbar": {
              "outlinewidth": 0,
              "ticks": ""
             }
            },
            "type": "scatterpolar"
           }
          ],
          "scatterpolargl": [
           {
            "marker": {
             "colorbar": {
              "outlinewidth": 0,
              "ticks": ""
             }
            },
            "type": "scatterpolargl"
           }
          ],
          "scatterternary": [
           {
            "marker": {
             "colorbar": {
              "outlinewidth": 0,
              "ticks": ""
             }
            },
            "type": "scatterternary"
           }
          ],
          "surface": [
           {
            "colorbar": {
             "outlinewidth": 0,
             "ticks": ""
            },
            "colorscale": [
             [
              0,
              "#0d0887"
             ],
             [
              0.1111111111111111,
              "#46039f"
             ],
             [
              0.2222222222222222,
              "#7201a8"
             ],
             [
              0.3333333333333333,
              "#9c179e"
             ],
             [
              0.4444444444444444,
              "#bd3786"
             ],
             [
              0.5555555555555556,
              "#d8576b"
             ],
             [
              0.6666666666666666,
              "#ed7953"
             ],
             [
              0.7777777777777778,
              "#fb9f3a"
             ],
             [
              0.8888888888888888,
              "#fdca26"
             ],
             [
              1,
              "#f0f921"
             ]
            ],
            "type": "surface"
           }
          ],
          "table": [
           {
            "cells": {
             "fill": {
              "color": "#EBF0F8"
             },
             "line": {
              "color": "white"
             }
            },
            "header": {
             "fill": {
              "color": "#C8D4E3"
             },
             "line": {
              "color": "white"
             }
            },
            "type": "table"
           }
          ]
         },
         "layout": {
          "annotationdefaults": {
           "arrowcolor": "#2a3f5f",
           "arrowhead": 0,
           "arrowwidth": 1
          },
          "autotypenumbers": "strict",
          "coloraxis": {
           "colorbar": {
            "outlinewidth": 0,
            "ticks": ""
           }
          },
          "colorscale": {
           "diverging": [
            [
             0,
             "#8e0152"
            ],
            [
             0.1,
             "#c51b7d"
            ],
            [
             0.2,
             "#de77ae"
            ],
            [
             0.3,
             "#f1b6da"
            ],
            [
             0.4,
             "#fde0ef"
            ],
            [
             0.5,
             "#f7f7f7"
            ],
            [
             0.6,
             "#e6f5d0"
            ],
            [
             0.7,
             "#b8e186"
            ],
            [
             0.8,
             "#7fbc41"
            ],
            [
             0.9,
             "#4d9221"
            ],
            [
             1,
             "#276419"
            ]
           ],
           "sequential": [
            [
             0,
             "#0d0887"
            ],
            [
             0.1111111111111111,
             "#46039f"
            ],
            [
             0.2222222222222222,
             "#7201a8"
            ],
            [
             0.3333333333333333,
             "#9c179e"
            ],
            [
             0.4444444444444444,
             "#bd3786"
            ],
            [
             0.5555555555555556,
             "#d8576b"
            ],
            [
             0.6666666666666666,
             "#ed7953"
            ],
            [
             0.7777777777777778,
             "#fb9f3a"
            ],
            [
             0.8888888888888888,
             "#fdca26"
            ],
            [
             1,
             "#f0f921"
            ]
           ],
           "sequentialminus": [
            [
             0,
             "#0d0887"
            ],
            [
             0.1111111111111111,
             "#46039f"
            ],
            [
             0.2222222222222222,
             "#7201a8"
            ],
            [
             0.3333333333333333,
             "#9c179e"
            ],
            [
             0.4444444444444444,
             "#bd3786"
            ],
            [
             0.5555555555555556,
             "#d8576b"
            ],
            [
             0.6666666666666666,
             "#ed7953"
            ],
            [
             0.7777777777777778,
             "#fb9f3a"
            ],
            [
             0.8888888888888888,
             "#fdca26"
            ],
            [
             1,
             "#f0f921"
            ]
           ]
          },
          "colorway": [
           "#636efa",
           "#EF553B",
           "#00cc96",
           "#ab63fa",
           "#FFA15A",
           "#19d3f3",
           "#FF6692",
           "#B6E880",
           "#FF97FF",
           "#FECB52"
          ],
          "font": {
           "color": "#2a3f5f"
          },
          "geo": {
           "bgcolor": "white",
           "lakecolor": "white",
           "landcolor": "#E5ECF6",
           "showlakes": true,
           "showland": true,
           "subunitcolor": "white"
          },
          "hoverlabel": {
           "align": "left"
          },
          "hovermode": "closest",
          "mapbox": {
           "style": "light"
          },
          "paper_bgcolor": "white",
          "plot_bgcolor": "#E5ECF6",
          "polar": {
           "angularaxis": {
            "gridcolor": "white",
            "linecolor": "white",
            "ticks": ""
           },
           "bgcolor": "#E5ECF6",
           "radialaxis": {
            "gridcolor": "white",
            "linecolor": "white",
            "ticks": ""
           }
          },
          "scene": {
           "xaxis": {
            "backgroundcolor": "#E5ECF6",
            "gridcolor": "white",
            "gridwidth": 2,
            "linecolor": "white",
            "showbackground": true,
            "ticks": "",
            "zerolinecolor": "white"
           },
           "yaxis": {
            "backgroundcolor": "#E5ECF6",
            "gridcolor": "white",
            "gridwidth": 2,
            "linecolor": "white",
            "showbackground": true,
            "ticks": "",
            "zerolinecolor": "white"
           },
           "zaxis": {
            "backgroundcolor": "#E5ECF6",
            "gridcolor": "white",
            "gridwidth": 2,
            "linecolor": "white",
            "showbackground": true,
            "ticks": "",
            "zerolinecolor": "white"
           }
          },
          "shapedefaults": {
           "line": {
            "color": "#2a3f5f"
           }
          },
          "ternary": {
           "aaxis": {
            "gridcolor": "white",
            "linecolor": "white",
            "ticks": ""
           },
           "baxis": {
            "gridcolor": "white",
            "linecolor": "white",
            "ticks": ""
           },
           "bgcolor": "#E5ECF6",
           "caxis": {
            "gridcolor": "white",
            "linecolor": "white",
            "ticks": ""
           }
          },
          "title": {
           "x": 0.05
          },
          "xaxis": {
           "automargin": true,
           "gridcolor": "white",
           "linecolor": "white",
           "ticks": "",
           "title": {
            "standoff": 15
           },
           "zerolinecolor": "white",
           "zerolinewidth": 2
          },
          "yaxis": {
           "automargin": true,
           "gridcolor": "white",
           "linecolor": "white",
           "ticks": "",
           "title": {
            "standoff": 15
           },
           "zerolinecolor": "white",
           "zerolinewidth": 2
          }
         }
        },
        "title": {
         "text": "Sweetness vs Sourness"
        },
        "xaxis": {
         "anchor": "y",
         "domain": [
          0,
          1
         ],
         "range": [
          0,
          15
         ],
         "title": {
          "text": "Sweetness"
         }
        },
        "yaxis": {
         "anchor": "x",
         "domain": [
          0,
          1
         ],
         "range": [
          0,
          15
         ],
         "title": {
          "text": "Sourness"
         }
        }
       }
      },
      "text/html": [
       "<div>                            <div id=\"2eb3188b-696b-4824-b37d-7ebced68f65c\" class=\"plotly-graph-div\" style=\"height:525px; width:100%;\"></div>            <script type=\"text/javascript\">                require([\"plotly\"], function(Plotly) {                    window.PLOTLYENV=window.PLOTLYENV || {};                                    if (document.getElementById(\"2eb3188b-696b-4824-b37d-7ebced68f65c\")) {                    Plotly.newPlot(                        \"2eb3188b-696b-4824-b37d-7ebced68f65c\",                        [{\"hovertemplate\":\"<b>%{hovertext}</b><br><br>sweet_greater_than_sour=More Sweet<br>sweetness=%{x}<br>sourness=%{y}<extra></extra>\",\"hovertext\":[\"Sweet and Sour Pineapple Ginger Sauce\",\"Sweet and Sour Cherry and Buckwheat Crumble\",\"Sweet and Sour Strawberry Semifreddo with Black Sesame\",\"Sweet and Sour Strawberry Semifreddo with Black Sesame\",\"Mixed berry Sweet and sour drink\",\"Panda Express Sweet and Sour Sauce (Copycat)\",\"Easter Nest Sweet Cake With Sour Cream-Royal Icing and Pistachios\",\"Fig and Sour Cream Ice Cream\",\"Brandied Sour Cherry and Pear Tartlets\",\"Peach and Sour Cream Tart\",\"Grandma's Sour Cream Raisin Pie\",\"Grandma\\u2019s Sour Cream Coffee Cake\",\"Grandma\\u2019s Sour Cream Sugar Cookies\",\"Sweet & Sour Cherry Vareniki\",\"Island Lemon Sours Bars\",\"Sweet or Sour Cream Chocolate Cake\",\"Sourdough Sandwich Loaf\",\"Buttermilk and Sour Cream Corn Bread\",\"Sour Cream and Lemon Honey Corn Muffins\",\"Peach and Maple Sour Cream Pecan Pie\",\"Sour Cherry And Chocolate Chip Scone\",\"Sour Cherry and Chocolate Chip Oatmeal Cookies\",\"Sweet Buttery Sourdough Crescent Rolls\",\"Sourpuss Turned Sweet\",\"Honey and Marmalade Sour\",\"Sandwich Bread with Sourdough Starter\",\"Sour Cream Pecan Sandies for\",\"Gluten And Dairy Free Sour Cherry And Pastry Cream G\\u00e2teau Basque\",\"Sour Cream, Cherry And Tequila Paletas\",\"Sour Cherry Scones and Ginger-Marmalade Cream\",\"Sour Cream Pancakes\\u2026and a Giveaway\",\"Banana Bread (Vegan and Sourdough!)\",\"Sour Cream, Cherry, And Tequila Paletas\",\"Brown Butter, Ginger, and Sour Cream Coffee Cake\",\"VIDEO: Strawberries and Cream Sourdough French Toast for Two\",\"Artisan Sourdough Sandwich Bread\",\"Sour Cream Muffins with Lemon and Poppy Seeds\",\"Apple Pie with Hazelnuts and Dried Sour Cherries\",\"Sour Cherry Pie With Jason Biggs And Paul Walker\",\"Sour Cream Coffee Cake With Pears And Pecans\",\"Sour Cream Coffee Cake with Pears and Pecans\",\"Banana Sour Cream Pancakes and Magelby\\u2019s Buttermilk Syrup\",\"Cranberry, Sour Cherry, And Grapefruit Chutney\",\"Sourdough Bread Pudding with Mango and Pumpkin Seeds\",\"The Sweet Melissa Baking Book: Sour Cherry Pie with Pistachio Crumble\",\"Lemon Bars with Sweet Sour Cream Topping\",\"Sour Cream Coffee Cake With Chocolate And Nuts\",\"Sour Cream Coffee Cake with Chocolate and Nuts\",\"Double-Ginger Sour Cream and Bundt Cake with Ginger-Infused Strawberries\",\"Rock Candy Jello Shooters With Midori Melon Sour\",\"Pierogi with Italian Plum Filling and Spiced Sour Cream\",\"Caramelized-Nectarine and Ginger Shortcakes with Sour Cream\",\"Yellow Cake With Strawberry Filling And Chocolate Sour Cream Fr\",\"SPONSORED: Vanilla and Oat Pancakes With Whipped Vanilla Sour Cream\",\"Quinoa With Clementines, Sour Cherries And Pecans\",\"Christmas Croissant Pudding with Sour Cream and Brown Sugar Sauce\",\"Cherry Dark Chocolate Sour Cream Bundt Cake \\u2013 Low Carb and Gluten-Free\",\"Yellow Cupcakes With Chocolate Sour Cream Frosting And Toasted\",\"Easy Blackberry Pie with Spiced Sour Cream Custard (and No-Roll Pie Crust!)\",\"Chocolate Layer Cake with Chocolate Sour Cream Frosting (Low Carb and Gluten-Free)\",\"Sour Cream Pie\",\"Sour Cherry Pie\",\"Sour Cherry Pie\",\"Sour Cherry Pie\",\"Sour Cherry Pie\",\"Sourdough Bread\",\"Sour Cream Babka\",\"Sour Cream Babka\",\"Sour Cherry Tart\",\"Sour Cream Drops\",\"Sour Cream Scones\",\"Sour Cherry Sauce\",\"Sour Cream Twists\",\"Sour Cream Loaves\",\"Sour Cream Scones\",\"Sour Cream Waffles\",\"Sour Cherry 'Clams\",\"Sourdough Biscuits\",\"Sourdough Pancakes\",\"Sour Cream Cutouts\",\"Sour Cream Waffles\",\"Sourdough Pancakes\",\"Sourdough Pancakes\",\"Sour Cherry Sorbet\",\"Sourdough Pancakes\",\"Sour Cream Bavarian\",\"Sour Cherry Compote\",\"Sour Cream Biscuits\",\"Sour Cream Cupcakes\",\"Sour Cream Brownies\",\"Sour Cream Biscotti\",\"Sour Cream Plum Pie\",\"Sour Cream Frosting\",\"Sour Cream Beignets\",\"Sour Cream Apple Pie\",\"Sour Cream Lemon Pie\",\"Sour Cream-Lemon Pie\",\"Sour Cream Apple Pie\",\"Sour Cream Apple Pie\"],\"legendgroup\":\"More Sweet\",\"marker\":{\"color\":\"#636efa\",\"symbol\":\"circle\"},\"mode\":\"markers\",\"name\":\"More Sweet\",\"orientation\":\"v\",\"showlegend\":true,\"x\":[13.51,7.46,5.46,5.46,5.18,6.77,6.28,5.99,4.56,5.4,4.4,6.48,7.44,10.05,10.24,6.59,0.73,2.22,3.27,7.15,3.27,6.55,1.91,6.45,6.35,0.86,4.44,5.9,5.67,3.23,5.62,4.1,5.67,8.15,5.37,1.18,4.59,6.83,10.07,8.22,6.44,3.43,5.66,5.5,8.37,2.76,5.85,5.85,5.65,2.46,9.19,5.74,7.05,3.48,4.76,5.3,1.5,6.06,1.63,0.91,6.39,4.36,8.66,6.26,11.22,0.7,3.05,5.41,6.64,8.11,2.73,9.06,9.77,5.49,4.65,2.7,5.97,0.42,1.16,8.37,3.91,2.53,1.14,12.34,1.04,5.43,7.45,2.47,7.28,7.86,4.72,7.03,14.03,2.19,6.87,5.06,4.39,6.4,7.14],\"xaxis\":\"x\",\"y\":[2.45,3.52,1.23,1.23,3.85,0.41,0.51,1.56,1.64,2.26,0.97,0.07,0.18,1.89,1.32,0.13,0.0,0.1,0.36,1.22,0.01,0.86,0.22,1.22,6.04,0.43,0.07,1.96,1.5,0.43,0.15,0.4,1.5,0.21,1.91,0.24,0.21,2.95,3.98,0.9,0.58,0.72,3.08,2.01,3.07,1.43,0.19,0.19,1.66,0.92,3.42,1.88,0.82,0.53,3.97,1.21,0.25,0.38,0.28,0.22,0.13,2.22,3.05,1.62,0.04,0.32,0.65,0.38,2.93,0.1,0.02,3.92,0.08,0.08,0.05,0.37,4.44,0.0,0.55,0.05,0.52,0.97,0.53,3.06,0.92,0.19,4.1,0.14,0.14,0.09,0.09,2.17,0.1,0.22,2.76,1.68,2.33,3.16,2.8],\"yaxis\":\"y\",\"type\":\"scatter\"},{\"hovertemplate\":\"<b>%{hovertext}</b><br><br>sweet_greater_than_sour=More Sour<br>sweetness=%{x}<br>sourness=%{y}<extra></extra>\",\"hovertext\":[\"Drink the Book: Brandy Sour\"],\"legendgroup\":\"More Sour\",\"marker\":{\"color\":\"#EF553B\",\"symbol\":\"circle\"},\"mode\":\"markers\",\"name\":\"More Sour\",\"orientation\":\"v\",\"showlegend\":true,\"x\":[1.84],\"xaxis\":\"x\",\"y\":[4.89],\"yaxis\":\"y\",\"type\":\"scatter\"}],                        {\"template\":{\"data\":{\"histogram2dcontour\":[{\"type\":\"histogram2dcontour\",\"colorbar\":{\"outlinewidth\":0,\"ticks\":\"\"},\"colorscale\":[[0.0,\"#0d0887\"],[0.1111111111111111,\"#46039f\"],[0.2222222222222222,\"#7201a8\"],[0.3333333333333333,\"#9c179e\"],[0.4444444444444444,\"#bd3786\"],[0.5555555555555556,\"#d8576b\"],[0.6666666666666666,\"#ed7953\"],[0.7777777777777778,\"#fb9f3a\"],[0.8888888888888888,\"#fdca26\"],[1.0,\"#f0f921\"]]}],\"choropleth\":[{\"type\":\"choropleth\",\"colorbar\":{\"outlinewidth\":0,\"ticks\":\"\"}}],\"histogram2d\":[{\"type\":\"histogram2d\",\"colorbar\":{\"outlinewidth\":0,\"ticks\":\"\"},\"colorscale\":[[0.0,\"#0d0887\"],[0.1111111111111111,\"#46039f\"],[0.2222222222222222,\"#7201a8\"],[0.3333333333333333,\"#9c179e\"],[0.4444444444444444,\"#bd3786\"],[0.5555555555555556,\"#d8576b\"],[0.6666666666666666,\"#ed7953\"],[0.7777777777777778,\"#fb9f3a\"],[0.8888888888888888,\"#fdca26\"],[1.0,\"#f0f921\"]]}],\"heatmap\":[{\"type\":\"heatmap\",\"colorbar\":{\"outlinewidth\":0,\"ticks\":\"\"},\"colorscale\":[[0.0,\"#0d0887\"],[0.1111111111111111,\"#46039f\"],[0.2222222222222222,\"#7201a8\"],[0.3333333333333333,\"#9c179e\"],[0.4444444444444444,\"#bd3786\"],[0.5555555555555556,\"#d8576b\"],[0.6666666666666666,\"#ed7953\"],[0.7777777777777778,\"#fb9f3a\"],[0.8888888888888888,\"#fdca26\"],[1.0,\"#f0f921\"]]}],\"heatmapgl\":[{\"type\":\"heatmapgl\",\"colorbar\":{\"outlinewidth\":0,\"ticks\":\"\"},\"colorscale\":[[0.0,\"#0d0887\"],[0.1111111111111111,\"#46039f\"],[0.2222222222222222,\"#7201a8\"],[0.3333333333333333,\"#9c179e\"],[0.4444444444444444,\"#bd3786\"],[0.5555555555555556,\"#d8576b\"],[0.6666666666666666,\"#ed7953\"],[0.7777777777777778,\"#fb9f3a\"],[0.8888888888888888,\"#fdca26\"],[1.0,\"#f0f921\"]]}],\"contourcarpet\":[{\"type\":\"contourcarpet\",\"colorbar\":{\"outlinewidth\":0,\"ticks\":\"\"}}],\"contour\":[{\"type\":\"contour\",\"colorbar\":{\"outlinewidth\":0,\"ticks\":\"\"},\"colorscale\":[[0.0,\"#0d0887\"],[0.1111111111111111,\"#46039f\"],[0.2222222222222222,\"#7201a8\"],[0.3333333333333333,\"#9c179e\"],[0.4444444444444444,\"#bd3786\"],[0.5555555555555556,\"#d8576b\"],[0.6666666666666666,\"#ed7953\"],[0.7777777777777778,\"#fb9f3a\"],[0.8888888888888888,\"#fdca26\"],[1.0,\"#f0f921\"]]}],\"surface\":[{\"type\":\"surface\",\"colorbar\":{\"outlinewidth\":0,\"ticks\":\"\"},\"colorscale\":[[0.0,\"#0d0887\"],[0.1111111111111111,\"#46039f\"],[0.2222222222222222,\"#7201a8\"],[0.3333333333333333,\"#9c179e\"],[0.4444444444444444,\"#bd3786\"],[0.5555555555555556,\"#d8576b\"],[0.6666666666666666,\"#ed7953\"],[0.7777777777777778,\"#fb9f3a\"],[0.8888888888888888,\"#fdca26\"],[1.0,\"#f0f921\"]]}],\"mesh3d\":[{\"type\":\"mesh3d\",\"colorbar\":{\"outlinewidth\":0,\"ticks\":\"\"}}],\"scatter\":[{\"fillpattern\":{\"fillmode\":\"overlay\",\"size\":10,\"solidity\":0.2},\"type\":\"scatter\"}],\"parcoords\":[{\"type\":\"parcoords\",\"line\":{\"colorbar\":{\"outlinewidth\":0,\"ticks\":\"\"}}}],\"scatterpolargl\":[{\"type\":\"scatterpolargl\",\"marker\":{\"colorbar\":{\"outlinewidth\":0,\"ticks\":\"\"}}}],\"bar\":[{\"error_x\":{\"color\":\"#2a3f5f\"},\"error_y\":{\"color\":\"#2a3f5f\"},\"marker\":{\"line\":{\"color\":\"#E5ECF6\",\"width\":0.5},\"pattern\":{\"fillmode\":\"overlay\",\"size\":10,\"solidity\":0.2}},\"type\":\"bar\"}],\"scattergeo\":[{\"type\":\"scattergeo\",\"marker\":{\"colorbar\":{\"outlinewidth\":0,\"ticks\":\"\"}}}],\"scatterpolar\":[{\"type\":\"scatterpolar\",\"marker\":{\"colorbar\":{\"outlinewidth\":0,\"ticks\":\"\"}}}],\"histogram\":[{\"marker\":{\"pattern\":{\"fillmode\":\"overlay\",\"size\":10,\"solidity\":0.2}},\"type\":\"histogram\"}],\"scattergl\":[{\"type\":\"scattergl\",\"marker\":{\"colorbar\":{\"outlinewidth\":0,\"ticks\":\"\"}}}],\"scatter3d\":[{\"type\":\"scatter3d\",\"line\":{\"colorbar\":{\"outlinewidth\":0,\"ticks\":\"\"}},\"marker\":{\"colorbar\":{\"outlinewidth\":0,\"ticks\":\"\"}}}],\"scattermapbox\":[{\"type\":\"scattermapbox\",\"marker\":{\"colorbar\":{\"outlinewidth\":0,\"ticks\":\"\"}}}],\"scatterternary\":[{\"type\":\"scatterternary\",\"marker\":{\"colorbar\":{\"outlinewidth\":0,\"ticks\":\"\"}}}],\"scattercarpet\":[{\"type\":\"scattercarpet\",\"marker\":{\"colorbar\":{\"outlinewidth\":0,\"ticks\":\"\"}}}],\"carpet\":[{\"aaxis\":{\"endlinecolor\":\"#2a3f5f\",\"gridcolor\":\"white\",\"linecolor\":\"white\",\"minorgridcolor\":\"white\",\"startlinecolor\":\"#2a3f5f\"},\"baxis\":{\"endlinecolor\":\"#2a3f5f\",\"gridcolor\":\"white\",\"linecolor\":\"white\",\"minorgridcolor\":\"white\",\"startlinecolor\":\"#2a3f5f\"},\"type\":\"carpet\"}],\"table\":[{\"cells\":{\"fill\":{\"color\":\"#EBF0F8\"},\"line\":{\"color\":\"white\"}},\"header\":{\"fill\":{\"color\":\"#C8D4E3\"},\"line\":{\"color\":\"white\"}},\"type\":\"table\"}],\"barpolar\":[{\"marker\":{\"line\":{\"color\":\"#E5ECF6\",\"width\":0.5},\"pattern\":{\"fillmode\":\"overlay\",\"size\":10,\"solidity\":0.2}},\"type\":\"barpolar\"}],\"pie\":[{\"automargin\":true,\"type\":\"pie\"}]},\"layout\":{\"autotypenumbers\":\"strict\",\"colorway\":[\"#636efa\",\"#EF553B\",\"#00cc96\",\"#ab63fa\",\"#FFA15A\",\"#19d3f3\",\"#FF6692\",\"#B6E880\",\"#FF97FF\",\"#FECB52\"],\"font\":{\"color\":\"#2a3f5f\"},\"hovermode\":\"closest\",\"hoverlabel\":{\"align\":\"left\"},\"paper_bgcolor\":\"white\",\"plot_bgcolor\":\"#E5ECF6\",\"polar\":{\"bgcolor\":\"#E5ECF6\",\"angularaxis\":{\"gridcolor\":\"white\",\"linecolor\":\"white\",\"ticks\":\"\"},\"radialaxis\":{\"gridcolor\":\"white\",\"linecolor\":\"white\",\"ticks\":\"\"}},\"ternary\":{\"bgcolor\":\"#E5ECF6\",\"aaxis\":{\"gridcolor\":\"white\",\"linecolor\":\"white\",\"ticks\":\"\"},\"baxis\":{\"gridcolor\":\"white\",\"linecolor\":\"white\",\"ticks\":\"\"},\"caxis\":{\"gridcolor\":\"white\",\"linecolor\":\"white\",\"ticks\":\"\"}},\"coloraxis\":{\"colorbar\":{\"outlinewidth\":0,\"ticks\":\"\"}},\"colorscale\":{\"sequential\":[[0.0,\"#0d0887\"],[0.1111111111111111,\"#46039f\"],[0.2222222222222222,\"#7201a8\"],[0.3333333333333333,\"#9c179e\"],[0.4444444444444444,\"#bd3786\"],[0.5555555555555556,\"#d8576b\"],[0.6666666666666666,\"#ed7953\"],[0.7777777777777778,\"#fb9f3a\"],[0.8888888888888888,\"#fdca26\"],[1.0,\"#f0f921\"]],\"sequentialminus\":[[0.0,\"#0d0887\"],[0.1111111111111111,\"#46039f\"],[0.2222222222222222,\"#7201a8\"],[0.3333333333333333,\"#9c179e\"],[0.4444444444444444,\"#bd3786\"],[0.5555555555555556,\"#d8576b\"],[0.6666666666666666,\"#ed7953\"],[0.7777777777777778,\"#fb9f3a\"],[0.8888888888888888,\"#fdca26\"],[1.0,\"#f0f921\"]],\"diverging\":[[0,\"#8e0152\"],[0.1,\"#c51b7d\"],[0.2,\"#de77ae\"],[0.3,\"#f1b6da\"],[0.4,\"#fde0ef\"],[0.5,\"#f7f7f7\"],[0.6,\"#e6f5d0\"],[0.7,\"#b8e186\"],[0.8,\"#7fbc41\"],[0.9,\"#4d9221\"],[1,\"#276419\"]]},\"xaxis\":{\"gridcolor\":\"white\",\"linecolor\":\"white\",\"ticks\":\"\",\"title\":{\"standoff\":15},\"zerolinecolor\":\"white\",\"automargin\":true,\"zerolinewidth\":2},\"yaxis\":{\"gridcolor\":\"white\",\"linecolor\":\"white\",\"ticks\":\"\",\"title\":{\"standoff\":15},\"zerolinecolor\":\"white\",\"automargin\":true,\"zerolinewidth\":2},\"scene\":{\"xaxis\":{\"backgroundcolor\":\"#E5ECF6\",\"gridcolor\":\"white\",\"linecolor\":\"white\",\"showbackground\":true,\"ticks\":\"\",\"zerolinecolor\":\"white\",\"gridwidth\":2},\"yaxis\":{\"backgroundcolor\":\"#E5ECF6\",\"gridcolor\":\"white\",\"linecolor\":\"white\",\"showbackground\":true,\"ticks\":\"\",\"zerolinecolor\":\"white\",\"gridwidth\":2},\"zaxis\":{\"backgroundcolor\":\"#E5ECF6\",\"gridcolor\":\"white\",\"linecolor\":\"white\",\"showbackground\":true,\"ticks\":\"\",\"zerolinecolor\":\"white\",\"gridwidth\":2}},\"shapedefaults\":{\"line\":{\"color\":\"#2a3f5f\"}},\"annotationdefaults\":{\"arrowcolor\":\"#2a3f5f\",\"arrowhead\":0,\"arrowwidth\":1},\"geo\":{\"bgcolor\":\"white\",\"landcolor\":\"#E5ECF6\",\"subunitcolor\":\"white\",\"showland\":true,\"showlakes\":true,\"lakecolor\":\"white\"},\"title\":{\"x\":0.05},\"mapbox\":{\"style\":\"light\"}}},\"xaxis\":{\"anchor\":\"y\",\"domain\":[0.0,1.0],\"title\":{\"text\":\"Sweetness\"},\"range\":[0,15]},\"yaxis\":{\"anchor\":\"x\",\"domain\":[0.0,1.0],\"title\":{\"text\":\"Sourness\"},\"range\":[0,15]},\"legend\":{\"title\":{\"text\":\"Dominant Flavor\"},\"tracegroupgap\":0},\"margin\":{\"t\":60},\"title\":{\"text\":\"Sweetness vs Sourness\"}},                        {\"responsive\": true}                    ).then(function(){\n",
       "                            \n",
       "var gd = document.getElementById('2eb3188b-696b-4824-b37d-7ebced68f65c');\n",
       "var x = new MutationObserver(function (mutations, observer) {{\n",
       "        var display = window.getComputedStyle(gd).display;\n",
       "        if (!display || display === 'none') {{\n",
       "            console.log([gd, 'removed!']);\n",
       "            Plotly.purge(gd);\n",
       "            observer.disconnect();\n",
       "        }}\n",
       "}});\n",
       "\n",
       "// Listen for the removal of the full notebook cells\n",
       "var notebookContainer = gd.closest('#notebook-container');\n",
       "if (notebookContainer) {{\n",
       "    x.observe(notebookContainer, {childList: true});\n",
       "}}\n",
       "\n",
       "// Listen for the clearing of the current output cell\n",
       "var outputEl = gd.closest('.output');\n",
       "if (outputEl) {{\n",
       "    x.observe(outputEl, {childList: true});\n",
       "}}\n",
       "\n",
       "                        })                };                });            </script>        </div>"
      ]
     },
     "metadata": {},
     "output_type": "display_data"
    }
   ],
   "source": [
    "# Create a scatterplot of sweet vs sour\n",
    "# With plotly \n",
    "# With extra data as hovertext\n",
    "import plotly.graph_objects as go\n",
    "import plotly.express as px\n",
    "# Red points are where sweetness is greater than sourness\n",
    "# Blue points are where sourness is greater than sweetness\n",
    "# Green points are where sweetness is equal to sourness\n",
    "# ADd column for when sweetness is greater than sourness or sourness is greater than sweetness\n",
    "sweet_and_sourwithflavor['sweet_greater_than_sour'] = sweet_and_sourwithflavor['sweetness'] > sweet_and_sourwithflavor['sourness']\n",
    "# Change column to text - \"Sweet\" if true, \"Sour\" if false\n",
    "sweet_and_sourwithflavor['sweet_greater_than_sour'] = sweet_and_sourwithflavor['sweet_greater_than_sour'].apply(lambda row: 'More Sweet' if row else 'More Sour')\n",
    "# Scatterplot \n",
    "fig = px.scatter(sweet_and_sourwithflavor, x='sweetness', y='sourness', color='sweet_greater_than_sour', hover_name='title')\n",
    "fig.update_layout(title='Sweetness vs Sourness')\n",
    "# Add x-axis title\n",
    "fig.update_xaxes(title_text='Sweetness')\n",
    "# Add y-axis title\n",
    "fig.update_yaxes(title_text='Sourness')\n",
    "# Change y-axis range to 0-15\n",
    "fig.update_yaxes(range=[0,15])\n",
    "# Change x-axis range to 0-15\n",
    "fig.update_xaxes(range=[0,15])\n",
    "# Update legend title\n",
    "fig.update_layout(legend_title_text='Dominant Flavor')\n",
    "\n",
    "fig.show()\n"
   ]
  },
  {
   "cell_type": "code",
   "execution_count": 82,
   "metadata": {},
   "outputs": [
    {
     "data": {
      "text/html": [
       "\n",
       "<div id=\"altair-viz-89edd5ec768840118900055043e81e73\"></div>\n",
       "<script type=\"text/javascript\">\n",
       "  var VEGA_DEBUG = (typeof VEGA_DEBUG == \"undefined\") ? {} : VEGA_DEBUG;\n",
       "  (function(spec, embedOpt){\n",
       "    let outputDiv = document.currentScript.previousElementSibling;\n",
       "    if (outputDiv.id !== \"altair-viz-89edd5ec768840118900055043e81e73\") {\n",
       "      outputDiv = document.getElementById(\"altair-viz-89edd5ec768840118900055043e81e73\");\n",
       "    }\n",
       "    const paths = {\n",
       "      \"vega\": \"https://cdn.jsdelivr.net/npm//vega@5?noext\",\n",
       "      \"vega-lib\": \"https://cdn.jsdelivr.net/npm//vega-lib?noext\",\n",
       "      \"vega-lite\": \"https://cdn.jsdelivr.net/npm//vega-lite@4.17.0?noext\",\n",
       "      \"vega-embed\": \"https://cdn.jsdelivr.net/npm//vega-embed@6?noext\",\n",
       "    };\n",
       "\n",
       "    function maybeLoadScript(lib, version) {\n",
       "      var key = `${lib.replace(\"-\", \"\")}_version`;\n",
       "      return (VEGA_DEBUG[key] == version) ?\n",
       "        Promise.resolve(paths[lib]) :\n",
       "        new Promise(function(resolve, reject) {\n",
       "          var s = document.createElement('script');\n",
       "          document.getElementsByTagName(\"head\")[0].appendChild(s);\n",
       "          s.async = true;\n",
       "          s.onload = () => {\n",
       "            VEGA_DEBUG[key] = version;\n",
       "            return resolve(paths[lib]);\n",
       "          };\n",
       "          s.onerror = () => reject(`Error loading script: ${paths[lib]}`);\n",
       "          s.src = paths[lib];\n",
       "        });\n",
       "    }\n",
       "\n",
       "    function showError(err) {\n",
       "      outputDiv.innerHTML = `<div class=\"error\" style=\"color:red;\">${err}</div>`;\n",
       "      throw err;\n",
       "    }\n",
       "\n",
       "    function displayChart(vegaEmbed) {\n",
       "      vegaEmbed(outputDiv, spec, embedOpt)\n",
       "        .catch(err => showError(`Javascript Error: ${err.message}<br>This usually means there's a typo in your chart specification. See the javascript console for the full traceback.`));\n",
       "    }\n",
       "\n",
       "    if(typeof define === \"function\" && define.amd) {\n",
       "      requirejs.config({paths});\n",
       "      require([\"vega-embed\"], displayChart, err => showError(`Error loading script: ${err.message}`));\n",
       "    } else {\n",
       "      maybeLoadScript(\"vega\", \"5\")\n",
       "        .then(() => maybeLoadScript(\"vega-lite\", \"4.17.0\"))\n",
       "        .then(() => maybeLoadScript(\"vega-embed\", \"6\"))\n",
       "        .catch(showError)\n",
       "        .then(() => displayChart(vegaEmbed));\n",
       "    }\n",
       "  })({\"config\": {\"view\": {\"continuousWidth\": 400, \"continuousHeight\": 300}}, \"data\": {\"name\": \"data-d5060665c22fe91fb30a339176f47132\"}, \"mark\": \"point\", \"encoding\": {\"color\": {\"field\": \"sweet_greater_than_sour\", \"type\": \"nominal\"}, \"tooltip\": [{\"field\": \"title\", \"type\": \"nominal\"}, {\"field\": \"sweetness\", \"type\": \"quantitative\"}, {\"field\": \"sourness\", \"type\": \"quantitative\"}], \"x\": {\"field\": \"sweetness\", \"type\": \"quantitative\"}, \"y\": {\"field\": \"sourness\", \"type\": \"quantitative\"}}, \"$schema\": \"https://vega.github.io/schema/vega-lite/v4.17.0.json\", \"datasets\": {\"data-d5060665c22fe91fb30a339176f47132\": [{\"id\": 249994, \"title\": \"Sweet and Sour Pineapple Ginger Sauce\", \"image\": \"https://spoonacular.com/recipeImages/249994-312x231.jpg\", \"imageType\": \"jpg\", \"taste_profile\": {\"sweetness\": 13.51, \"saltiness\": 0.53, \"sourness\": 2.45, \"bitterness\": 1.41, \"savoriness\": 0.0, \"fattiness\": 0.51, \"spiciness\": 0.0}, \"sweetness\": 13.51, \"saltiness\": 0.53, \"sourness\": 2.45, \"bitterness\": 1.41, \"savoriness\": 0.0, \"fattiness\": 0.51, \"spiciness\": 0.0, \"sweet_greater_than_sour\": \"More Sweet\"}, {\"id\": 186499, \"title\": \"Sweet and Sour Cherry and Buckwheat Crumble\", \"image\": \"https://spoonacular.com/recipeImages/186499-312x231.jpg\", \"imageType\": \"jpg\", \"taste_profile\": {\"sweetness\": 7.46, \"saltiness\": 0.09, \"sourness\": 3.52, \"bitterness\": 2.09, \"savoriness\": 0.69, \"fattiness\": 1.88, \"spiciness\": 0.0}, \"sweetness\": 7.46, \"saltiness\": 0.09, \"sourness\": 3.52, \"bitterness\": 2.09, \"savoriness\": 0.69, \"fattiness\": 1.88, \"spiciness\": 0.0, \"sweet_greater_than_sour\": \"More Sweet\"}, {\"id\": 716452, \"title\": \"Sweet and Sour Strawberry Semifreddo with Black Sesame\", \"image\": \"https://spoonacular.com/recipeImages/716452-312x231.jpg\", \"imageType\": \"jpg\", \"taste_profile\": {\"sweetness\": 5.46, \"saltiness\": 0.26, \"sourness\": 1.23, \"bitterness\": 0.23, \"savoriness\": 0.21, \"fattiness\": 3.52, \"spiciness\": 0.0}, \"sweetness\": 5.46, \"saltiness\": 0.26, \"sourness\": 1.23, \"bitterness\": 0.23, \"savoriness\": 0.21, \"fattiness\": 3.52, \"spiciness\": 0.0, \"sweet_greater_than_sour\": \"More Sweet\"}, {\"id\": 879046, \"title\": \"Sweet and Sour Strawberry Semifreddo with Black Sesame\", \"image\": \"https://spoonacular.com/recipeImages/879046-312x231.jpg\", \"imageType\": \"jpg\", \"taste_profile\": {\"sweetness\": 5.46, \"saltiness\": 0.26, \"sourness\": 1.23, \"bitterness\": 0.23, \"savoriness\": 0.21, \"fattiness\": 3.52, \"spiciness\": 0.0}, \"sweetness\": 5.46, \"saltiness\": 0.26, \"sourness\": 1.23, \"bitterness\": 0.23, \"savoriness\": 0.21, \"fattiness\": 3.52, \"spiciness\": 0.0, \"sweet_greater_than_sour\": \"More Sweet\"}, {\"id\": 553266, \"title\": \"Mixed berry Sweet and sour drink\", \"image\": \"https://spoonacular.com/recipeImages/553266-312x231.jpg\", \"imageType\": \"jpg\", \"taste_profile\": {\"sweetness\": 5.18, \"saltiness\": 0.22, \"sourness\": 3.85, \"bitterness\": 1.95, \"savoriness\": 0.64, \"fattiness\": 0.29, \"spiciness\": 0.0}, \"sweetness\": 5.18, \"saltiness\": 0.22, \"sourness\": 3.85, \"bitterness\": 1.95, \"savoriness\": 0.64, \"fattiness\": 0.29, \"spiciness\": 0.0, \"sweet_greater_than_sour\": \"More Sweet\"}, {\"id\": 997134, \"title\": \"Panda Express Sweet and Sour Sauce (Copycat)\", \"image\": \"https://spoonacular.com/recipeImages/997134-312x231.jpg\", \"imageType\": \"jpg\", \"taste_profile\": {\"sweetness\": 6.77, \"saltiness\": 0.8, \"sourness\": 0.41, \"bitterness\": 1.13, \"savoriness\": 0.15, \"fattiness\": 0.1, \"spiciness\": 0.0}, \"sweetness\": 6.77, \"saltiness\": 0.8, \"sourness\": 0.41, \"bitterness\": 1.13, \"savoriness\": 0.15, \"fattiness\": 0.1, \"spiciness\": 0.0, \"sweet_greater_than_sour\": \"More Sweet\"}, {\"id\": 641799, \"title\": \"Easter Nest Sweet Cake With Sour Cream-Royal Icing and Pistachios\", \"image\": \"https://spoonacular.com/recipeImages/641799-312x231.jpg\", \"imageType\": \"jpg\", \"taste_profile\": {\"sweetness\": 6.28, \"saltiness\": 2.97, \"sourness\": 0.51, \"bitterness\": 0.95, \"savoriness\": 1.28, \"fattiness\": 4.24, \"spiciness\": 0.0}, \"sweetness\": 6.28, \"saltiness\": 2.97, \"sourness\": 0.51, \"bitterness\": 0.95, \"savoriness\": 1.28, \"fattiness\": 4.24, \"spiciness\": 0.0, \"sweet_greater_than_sour\": \"More Sweet\"}, {\"id\": 265424, \"title\": \"Fig and Sour Cream Ice Cream\", \"image\": \"https://spoonacular.com/recipeImages/265424-312x231.jpg\", \"imageType\": \"jpg\", \"taste_profile\": {\"sweetness\": 5.99, \"saltiness\": 1.61, \"sourness\": 1.56, \"bitterness\": 1.13, \"savoriness\": 2.13, \"fattiness\": 3.35, \"spiciness\": 0.0}, \"sweetness\": 5.99, \"saltiness\": 1.61, \"sourness\": 1.56, \"bitterness\": 1.13, \"savoriness\": 2.13, \"fattiness\": 3.35, \"spiciness\": 0.0, \"sweet_greater_than_sour\": \"More Sweet\"}, {\"id\": 242549, \"title\": \"Brandied Sour Cherry and Pear Tartlets\", \"image\": \"https://spoonacular.com/recipeImages/242549-312x231.jpg\", \"imageType\": \"jpg\", \"taste_profile\": {\"sweetness\": 4.56, \"saltiness\": 0.44, \"sourness\": 1.64, \"bitterness\": 1.46, \"savoriness\": 0.63, \"fattiness\": 3.33, \"spiciness\": 0.0}, \"sweetness\": 4.56, \"saltiness\": 0.44, \"sourness\": 1.64, \"bitterness\": 1.46, \"savoriness\": 0.63, \"fattiness\": 3.33, \"spiciness\": 0.0, \"sweet_greater_than_sour\": \"More Sweet\"}, {\"id\": 307492, \"title\": \"Peach and Sour Cream Tart\", \"image\": \"https://spoonacular.com/recipeImages/307492-312x231.jpg\", \"imageType\": \"jpg\", \"taste_profile\": {\"sweetness\": 5.4, \"saltiness\": 0.13, \"sourness\": 2.26, \"bitterness\": 1.0, \"savoriness\": 0.5, \"fattiness\": 2.41, \"spiciness\": 0.0}, \"sweetness\": 5.4, \"saltiness\": 0.13, \"sourness\": 2.26, \"bitterness\": 1.0, \"savoriness\": 0.5, \"fattiness\": 2.41, \"spiciness\": 0.0, \"sweet_greater_than_sour\": \"More Sweet\"}, {\"id\": 391594, \"title\": \"Grandma's Sour Cream Raisin Pie\", \"image\": \"https://spoonacular.com/recipeImages/391594-312x231.jpg\", \"imageType\": \"jpg\", \"taste_profile\": {\"sweetness\": 4.4, \"saltiness\": 1.93, \"sourness\": 0.97, \"bitterness\": 0.74, \"savoriness\": 1.03, \"fattiness\": 4.88, \"spiciness\": 0.0}, \"sweetness\": 4.4, \"saltiness\": 1.93, \"sourness\": 0.97, \"bitterness\": 0.74, \"savoriness\": 1.03, \"fattiness\": 4.88, \"spiciness\": 0.0, \"sweet_greater_than_sour\": \"More Sweet\"}, {\"id\": 835752, \"title\": \"Grandma\\u2019s Sour Cream Coffee Cake\", \"image\": \"https://spoonacular.com/recipeImages/835752-312x231.jpg\", \"imageType\": \"jpg\", \"taste_profile\": {\"sweetness\": 6.48, \"saltiness\": 0.63, \"sourness\": 0.07, \"bitterness\": 0.04, \"savoriness\": 0.34, \"fattiness\": 5.23, \"spiciness\": 0.0}, \"sweetness\": 6.48, \"saltiness\": 0.63, \"sourness\": 0.07, \"bitterness\": 0.04, \"savoriness\": 0.34, \"fattiness\": 5.23, \"spiciness\": 0.0, \"sweet_greater_than_sour\": \"More Sweet\"}, {\"id\": 832110, \"title\": \"Grandma\\u2019s Sour Cream Sugar Cookies\", \"image\": \"https://spoonacular.com/recipeImages/832110-312x231.jpg\", \"imageType\": \"jpg\", \"taste_profile\": {\"sweetness\": 7.44, \"saltiness\": 0.89, \"sourness\": 0.18, \"bitterness\": 0.1, \"savoriness\": 0.55, \"fattiness\": 3.4, \"spiciness\": 0.0}, \"sweetness\": 7.44, \"saltiness\": 0.89, \"sourness\": 0.18, \"bitterness\": 0.1, \"savoriness\": 0.55, \"fattiness\": 3.4, \"spiciness\": 0.0, \"sweet_greater_than_sour\": \"More Sweet\"}, {\"id\": 606246, \"title\": \"Sweet & Sour Cherry Vareniki\", \"image\": \"https://spoonacular.com/recipeImages/606246-312x231.jpg\", \"imageType\": \"jpg\", \"taste_profile\": {\"sweetness\": 10.05, \"saltiness\": 0.39, \"sourness\": 1.89, \"bitterness\": 1.77, \"savoriness\": 0.51, \"fattiness\": 4.93, \"spiciness\": 0.0}, \"sweetness\": 10.05, \"saltiness\": 0.39, \"sourness\": 1.89, \"bitterness\": 1.77, \"savoriness\": 0.51, \"fattiness\": 4.93, \"spiciness\": 0.0, \"sweet_greater_than_sour\": \"More Sweet\"}, {\"id\": 127987, \"title\": \"Island Lemon Sours Bars\", \"image\": \"https://spoonacular.com/recipeImages/127987-312x231.jpg\", \"imageType\": \"jpg\", \"taste_profile\": {\"sweetness\": 10.24, \"saltiness\": 1.36, \"sourness\": 1.32, \"bitterness\": 0.66, \"savoriness\": 0.81, \"fattiness\": 3.11, \"spiciness\": 0.0}, \"sweetness\": 10.24, \"saltiness\": 1.36, \"sourness\": 1.32, \"bitterness\": 0.66, \"savoriness\": 0.81, \"fattiness\": 3.11, \"spiciness\": 0.0, \"sweet_greater_than_sour\": \"More Sweet\"}, {\"id\": 131588, \"title\": \"Sweet or Sour Cream Chocolate Cake\", \"image\": \"https://spoonacular.com/recipeImages/131588-312x231.jpg\", \"imageType\": \"jpg\", \"taste_profile\": {\"sweetness\": 6.59, \"saltiness\": 1.17, \"sourness\": 0.13, \"bitterness\": 0.06, \"savoriness\": 0.6, \"fattiness\": 2.84, \"spiciness\": 0.0}, \"sweetness\": 6.59, \"saltiness\": 1.17, \"sourness\": 0.13, \"bitterness\": 0.06, \"savoriness\": 0.6, \"fattiness\": 2.84, \"spiciness\": 0.0, \"sweet_greater_than_sour\": \"More Sweet\"}, {\"id\": 758671, \"title\": \"Sourdough Sandwich Loaf\", \"image\": \"https://spoonacular.com/recipeImages/758671-312x231.jpg\", \"imageType\": \"jpg\", \"taste_profile\": {\"sweetness\": 0.73, \"saltiness\": 0.27, \"sourness\": 0.0, \"bitterness\": 0.0, \"savoriness\": 0.0, \"fattiness\": 0.22, \"spiciness\": 0.0}, \"sweetness\": 0.73, \"saltiness\": 0.27, \"sourness\": 0.0, \"bitterness\": 0.0, \"savoriness\": 0.0, \"fattiness\": 0.22, \"spiciness\": 0.0, \"sweet_greater_than_sour\": \"More Sweet\"}, {\"id\": 295774, \"title\": \"Buttermilk and Sour Cream Corn Bread\", \"image\": \"https://spoonacular.com/recipeImages/295774-312x231.jpeg\", \"imageType\": \"jpeg\", \"taste_profile\": {\"sweetness\": 2.22, \"saltiness\": 0.97, \"sourness\": 0.1, \"bitterness\": 0.05, \"savoriness\": 0.46, \"fattiness\": 3.27, \"spiciness\": 0.0}, \"sweetness\": 2.22, \"saltiness\": 0.97, \"sourness\": 0.1, \"bitterness\": 0.05, \"savoriness\": 0.46, \"fattiness\": 3.27, \"spiciness\": 0.0, \"sweet_greater_than_sour\": \"More Sweet\"}, {\"id\": 295266, \"title\": \"Sour Cream and Lemon Honey Corn Muffins\", \"image\": \"https://spoonacular.com/recipeImages/295266-312x231.jpeg\", \"imageType\": \"jpeg\", \"taste_profile\": {\"sweetness\": 3.27, \"saltiness\": 1.5, \"sourness\": 0.36, \"bitterness\": 0.23, \"savoriness\": 0.74, \"fattiness\": 4.03, \"spiciness\": 0.0}, \"sweetness\": 3.27, \"saltiness\": 1.5, \"sourness\": 0.36, \"bitterness\": 0.23, \"savoriness\": 0.74, \"fattiness\": 4.03, \"spiciness\": 0.0, \"sweet_greater_than_sour\": \"More Sweet\"}, {\"id\": 248674, \"title\": \"Peach and Maple Sour Cream Pecan Pie\", \"image\": \"https://spoonacular.com/recipeImages/248674-312x231.jpg\", \"imageType\": \"jpg\", \"taste_profile\": {\"sweetness\": 7.15, \"saltiness\": 0.34, \"sourness\": 1.22, \"bitterness\": 0.54, \"savoriness\": 0.43, \"fattiness\": 3.97, \"spiciness\": 0.0}, \"sweetness\": 7.15, \"saltiness\": 0.34, \"sourness\": 1.22, \"bitterness\": 0.54, \"savoriness\": 0.43, \"fattiness\": 3.97, \"spiciness\": 0.0, \"sweet_greater_than_sour\": \"More Sweet\"}, {\"id\": 52794, \"title\": \"Sour Cherry And Chocolate Chip Scone\", \"image\": \"https://spoonacular.com/recipeImages/52794-312x231.jpg\", \"imageType\": \"jpg\", \"taste_profile\": {\"sweetness\": 3.27, \"saltiness\": 0.06, \"sourness\": 0.01, \"bitterness\": 0.0, \"savoriness\": 0.0, \"fattiness\": 5.86, \"spiciness\": 0.0}, \"sweetness\": 3.27, \"saltiness\": 0.06, \"sourness\": 0.01, \"bitterness\": 0.0, \"savoriness\": 0.0, \"fattiness\": 5.86, \"spiciness\": 0.0, \"sweet_greater_than_sour\": \"More Sweet\"}, {\"id\": 612318, \"title\": \"Sour Cherry and Chocolate Chip Oatmeal Cookies\", \"image\": \"https://spoonacular.com/recipeImages/612318-312x231.jpg\", \"imageType\": \"jpg\", \"taste_profile\": {\"sweetness\": 6.55, \"saltiness\": 0.47, \"sourness\": 0.86, \"bitterness\": 2.74, \"savoriness\": 0.34, \"fattiness\": 5.08, \"spiciness\": 0.0}, \"sweetness\": 6.55, \"saltiness\": 0.47, \"sourness\": 0.86, \"bitterness\": 2.74, \"savoriness\": 0.34, \"fattiness\": 5.08, \"spiciness\": 0.0, \"sweet_greater_than_sour\": \"More Sweet\"}, {\"id\": 1071659, \"title\": \"Sweet Buttery Sourdough Crescent Rolls\", \"image\": \"https://spoonacular.com/recipeImages/1071659-312x231.jpg\", \"imageType\": \"jpg\", \"taste_profile\": {\"sweetness\": 1.91, \"saltiness\": 1.06, \"sourness\": 0.22, \"bitterness\": 0.46, \"savoriness\": 0.38, \"fattiness\": 1.33, \"spiciness\": 0.0}, \"sweetness\": 1.91, \"saltiness\": 1.06, \"sourness\": 0.22, \"bitterness\": 0.46, \"savoriness\": 0.38, \"fattiness\": 1.33, \"spiciness\": 0.0, \"sweet_greater_than_sour\": \"More Sweet\"}, {\"id\": 592732, \"title\": \"Sourpuss Turned Sweet\", \"image\": \"https://spoonacular.com/recipeImages/592732-312x231.jpeg\", \"imageType\": \"jpeg\", \"taste_profile\": {\"sweetness\": 6.45, \"saltiness\": 1.49, \"sourness\": 1.22, \"bitterness\": 0.76, \"savoriness\": 1.06, \"fattiness\": 1.36, \"spiciness\": 0.0}, \"sweetness\": 6.45, \"saltiness\": 1.49, \"sourness\": 1.22, \"bitterness\": 0.76, \"savoriness\": 1.06, \"fattiness\": 1.36, \"spiciness\": 0.0, \"sweet_greater_than_sour\": \"More Sweet\"}, {\"id\": 666156, \"title\": \"Honey and Marmalade Sour\", \"image\": \"https://spoonacular.com/recipeImages/666156-312x231.jpg\", \"imageType\": \"jpg\", \"taste_profile\": {\"sweetness\": 6.35, \"saltiness\": 0.45, \"sourness\": 6.04, \"bitterness\": 5.72, \"savoriness\": 2.73, \"fattiness\": 1.22, \"spiciness\": 0.0}, \"sweetness\": 6.35, \"saltiness\": 0.45, \"sourness\": 6.04, \"bitterness\": 5.72, \"savoriness\": 2.73, \"fattiness\": 1.22, \"spiciness\": 0.0, \"sweet_greater_than_sour\": \"More Sweet\"}, {\"id\": 539828, \"title\": \"Sandwich Bread with Sourdough Starter\", \"image\": \"https://spoonacular.com/recipeImages/539828-312x231.jpg\", \"imageType\": \"jpg\", \"taste_profile\": {\"sweetness\": 0.86, \"saltiness\": 1.87, \"sourness\": 0.43, \"bitterness\": 0.9, \"savoriness\": 0.75, \"fattiness\": 2.25, \"spiciness\": 0.0}, \"sweetness\": 0.86, \"saltiness\": 1.87, \"sourness\": 0.43, \"bitterness\": 0.9, \"savoriness\": 0.75, \"fattiness\": 2.25, \"spiciness\": 0.0, \"sweet_greater_than_sour\": \"More Sweet\"}, {\"id\": 709282, \"title\": \"Sour Cream Pecan Sandies for\", \"image\": \"https://spoonacular.com/recipeImages/709282-312x231.jpg\", \"imageType\": \"jpg\", \"taste_profile\": {\"sweetness\": 4.44, \"saltiness\": 0.59, \"sourness\": 0.07, \"bitterness\": 0.03, \"savoriness\": 0.31, \"fattiness\": 6.26, \"spiciness\": 0.0}, \"sweetness\": 4.44, \"saltiness\": 0.59, \"sourness\": 0.07, \"bitterness\": 0.03, \"savoriness\": 0.31, \"fattiness\": 6.26, \"spiciness\": 0.0, \"sweet_greater_than_sour\": \"More Sweet\"}, {\"id\": 69121, \"title\": \"Gluten And Dairy Free Sour Cherry And Pastry Cream G\\u00e2teau Basque\", \"image\": \"https://spoonacular.com/recipeImages/69121-312x231.jpg\", \"imageType\": \"jpg\", \"taste_profile\": {\"sweetness\": 5.9, \"saltiness\": 1.49, \"sourness\": 1.96, \"bitterness\": 0.84, \"savoriness\": 1.37, \"fattiness\": 4.49, \"spiciness\": 0.0}, \"sweetness\": 5.9, \"saltiness\": 1.49, \"sourness\": 1.96, \"bitterness\": 0.84, \"savoriness\": 1.37, \"fattiness\": 4.49, \"spiciness\": 0.0, \"sweet_greater_than_sour\": \"More Sweet\"}, {\"id\": 207071, \"title\": \"Drink the Book: Brandy Sour\", \"image\": \"https://spoonacular.com/recipeImages/207071-312x231.jpg\", \"imageType\": \"jpg\", \"taste_profile\": {\"sweetness\": 1.84, \"saltiness\": 0.35, \"sourness\": 4.89, \"bitterness\": 4.45, \"savoriness\": 1.93, \"fattiness\": 0.89, \"spiciness\": 0.0}, \"sweetness\": 1.84, \"saltiness\": 0.35, \"sourness\": 4.89, \"bitterness\": 4.45, \"savoriness\": 1.93, \"fattiness\": 0.89, \"spiciness\": 0.0, \"sweet_greater_than_sour\": \"More Sour\"}, {\"id\": 52932, \"title\": \"Sour Cream, Cherry And Tequila Paletas\", \"image\": \"https://spoonacular.com/recipeImages/52932-312x231.jpg\", \"imageType\": \"jpg\", \"taste_profile\": {\"sweetness\": 5.67, \"saltiness\": 0.93, \"sourness\": 1.5, \"bitterness\": 0.94, \"savoriness\": 0.89, \"fattiness\": 2.39, \"spiciness\": 0.0}, \"sweetness\": 5.67, \"saltiness\": 0.93, \"sourness\": 1.5, \"bitterness\": 0.94, \"savoriness\": 0.89, \"fattiness\": 2.39, \"spiciness\": 0.0, \"sweet_greater_than_sour\": \"More Sweet\"}, {\"id\": 42179, \"title\": \"Sour Cherry Scones and Ginger-Marmalade Cream\", \"image\": \"https://spoonacular.com/recipeImages/42179-312x231.jpg\", \"imageType\": \"jpg\", \"taste_profile\": {\"sweetness\": 3.23, \"saltiness\": 0.11, \"sourness\": 0.43, \"bitterness\": 0.26, \"savoriness\": 0.08, \"fattiness\": 3.31, \"spiciness\": 0.0}, \"sweetness\": 3.23, \"saltiness\": 0.11, \"sourness\": 0.43, \"bitterness\": 0.26, \"savoriness\": 0.08, \"fattiness\": 3.31, \"spiciness\": 0.0, \"sweet_greater_than_sour\": \"More Sweet\"}, {\"id\": 880671, \"title\": \"Sour Cream Pancakes\\u2026and a Giveaway\", \"image\": \"https://spoonacular.com/recipeImages/880671-312x231.jpg\", \"imageType\": \"jpg\", \"taste_profile\": {\"sweetness\": 5.62, \"saltiness\": 1.39, \"sourness\": 0.15, \"bitterness\": 0.08, \"savoriness\": 0.72, \"fattiness\": 3.77, \"spiciness\": 0.0}, \"sweetness\": 5.62, \"saltiness\": 1.39, \"sourness\": 0.15, \"bitterness\": 0.08, \"savoriness\": 0.72, \"fattiness\": 3.77, \"spiciness\": 0.0, \"sweet_greater_than_sour\": \"More Sweet\"}, {\"id\": 1450921, \"title\": \"Banana Bread (Vegan and Sourdough!)\", \"image\": \"https://spoonacular.com/recipeImages/1450921-312x231.jpg\", \"imageType\": \"jpg\", \"taste_profile\": {\"sweetness\": 4.1, \"saltiness\": 0.27, \"sourness\": 0.4, \"bitterness\": 0.48, \"savoriness\": 0.16, \"fattiness\": 2.3, \"spiciness\": 0.0}, \"sweetness\": 4.1, \"saltiness\": 0.27, \"sourness\": 0.4, \"bitterness\": 0.48, \"savoriness\": 0.16, \"fattiness\": 2.3, \"spiciness\": 0.0, \"sweet_greater_than_sour\": \"More Sweet\"}, {\"id\": 52849, \"title\": \"Sour Cream, Cherry, And Tequila Paletas\", \"image\": \"https://spoonacular.com/recipeImages/52849-312x231.jpg\", \"imageType\": \"jpg\", \"taste_profile\": {\"sweetness\": 5.67, \"saltiness\": 0.93, \"sourness\": 1.5, \"bitterness\": 0.94, \"savoriness\": 0.89, \"fattiness\": 2.39, \"spiciness\": 0.0}, \"sweetness\": 5.67, \"saltiness\": 0.93, \"sourness\": 1.5, \"bitterness\": 0.94, \"savoriness\": 0.89, \"fattiness\": 2.39, \"spiciness\": 0.0, \"sweet_greater_than_sour\": \"More Sweet\"}, {\"id\": 186558, \"title\": \"Brown Butter, Ginger, and Sour Cream Coffee Cake\", \"image\": \"https://spoonacular.com/recipeImages/186558-312x231.jpg\", \"imageType\": \"jpg\", \"taste_profile\": {\"sweetness\": 8.15, \"saltiness\": 1.37, \"sourness\": 0.21, \"bitterness\": 0.12, \"savoriness\": 0.69, \"fattiness\": 2.3, \"spiciness\": 0.0}, \"sweetness\": 8.15, \"saltiness\": 1.37, \"sourness\": 0.21, \"bitterness\": 0.12, \"savoriness\": 0.69, \"fattiness\": 2.3, \"spiciness\": 0.0, \"sweet_greater_than_sour\": \"More Sweet\"}, {\"id\": 842695, \"title\": \"VIDEO: Strawberries and Cream Sourdough French Toast for Two\", \"image\": \"https://spoonacular.com/recipeImages/842695-312x231.png\", \"imageType\": \"png\", \"taste_profile\": {\"sweetness\": 5.37, \"saltiness\": 2.43, \"sourness\": 1.91, \"bitterness\": 0.43, \"savoriness\": 1.46, \"fattiness\": 2.49, \"spiciness\": 0.0}, \"sweetness\": 5.37, \"saltiness\": 2.43, \"sourness\": 1.91, \"bitterness\": 0.43, \"savoriness\": 1.46, \"fattiness\": 2.49, \"spiciness\": 0.0, \"sweet_greater_than_sour\": \"More Sweet\"}, {\"id\": 1081831, \"title\": \"Artisan Sourdough Sandwich Bread\", \"image\": \"https://spoonacular.com/recipeImages/1081831-312x231.jpg\", \"imageType\": \"jpg\", \"taste_profile\": {\"sweetness\": 1.18, \"saltiness\": 1.12, \"sourness\": 0.24, \"bitterness\": 0.5, \"savoriness\": 0.4, \"fattiness\": 1.12, \"spiciness\": 0.0}, \"sweetness\": 1.18, \"saltiness\": 1.12, \"sourness\": 0.24, \"bitterness\": 0.5, \"savoriness\": 0.4, \"fattiness\": 1.12, \"spiciness\": 0.0, \"sweet_greater_than_sour\": \"More Sweet\"}, {\"id\": 65899, \"title\": \"Sour Cream Muffins with Lemon and Poppy Seeds\", \"image\": \"https://spoonacular.com/recipeImages/65899-312x231.jpg\", \"imageType\": \"jpg\", \"taste_profile\": {\"sweetness\": 4.59, \"saltiness\": 0.9, \"sourness\": 0.21, \"bitterness\": 0.13, \"savoriness\": 0.47, \"fattiness\": 3.96, \"spiciness\": 0.0}, \"sweetness\": 4.59, \"saltiness\": 0.9, \"sourness\": 0.21, \"bitterness\": 0.13, \"savoriness\": 0.47, \"fattiness\": 3.96, \"spiciness\": 0.0, \"sweet_greater_than_sour\": \"More Sweet\"}, {\"id\": 70412, \"title\": \"Apple Pie with Hazelnuts and Dried Sour Cherries\", \"image\": \"https://spoonacular.com/recipeImages/70412-312x231.jpg\", \"imageType\": \"jpg\", \"taste_profile\": {\"sweetness\": 6.83, \"saltiness\": 0.35, \"sourness\": 2.95, \"bitterness\": 1.39, \"savoriness\": 0.44, \"fattiness\": 3.31, \"spiciness\": 0.0}, \"sweetness\": 6.83, \"saltiness\": 0.35, \"sourness\": 2.95, \"bitterness\": 1.39, \"savoriness\": 0.44, \"fattiness\": 3.31, \"spiciness\": 0.0, \"sweet_greater_than_sour\": \"More Sweet\"}, {\"id\": 52731, \"title\": \"Sour Cherry Pie With Jason Biggs And Paul Walker\", \"image\": \"https://spoonacular.com/recipeImages/52731-312x231.jpg\", \"imageType\": \"jpg\", \"taste_profile\": {\"sweetness\": 10.07, \"saltiness\": 0.6, \"sourness\": 3.98, \"bitterness\": 2.52, \"savoriness\": 0.87, \"fattiness\": 1.12, \"spiciness\": 0.0}, \"sweetness\": 10.07, \"saltiness\": 0.6, \"sourness\": 3.98, \"bitterness\": 2.52, \"savoriness\": 0.87, \"fattiness\": 1.12, \"spiciness\": 0.0, \"sweet_greater_than_sour\": \"More Sweet\"}, {\"id\": 63133, \"title\": \"Sour Cream Coffee Cake With Pears And Pecans\", \"image\": \"https://spoonacular.com/recipeImages/63133-312x231.jpg\", \"imageType\": \"jpg\", \"taste_profile\": {\"sweetness\": 8.22, \"saltiness\": 1.58, \"sourness\": 0.9, \"bitterness\": 0.6, \"savoriness\": 1.02, \"fattiness\": 4.45, \"spiciness\": 0.0}, \"sweetness\": 8.22, \"saltiness\": 1.58, \"sourness\": 0.9, \"bitterness\": 0.6, \"savoriness\": 1.02, \"fattiness\": 4.45, \"spiciness\": 0.0, \"sweet_greater_than_sour\": \"More Sweet\"}, {\"id\": 188979, \"title\": \"Sour Cream Coffee Cake with Pears and Pecans\", \"image\": \"https://spoonacular.com/recipeImages/188979-312x231.jpg\", \"imageType\": \"jpg\", \"taste_profile\": {\"sweetness\": 6.44, \"saltiness\": 1.02, \"sourness\": 0.58, \"bitterness\": 0.39, \"savoriness\": 0.66, \"fattiness\": 4.92, \"spiciness\": 0.0}, \"sweetness\": 6.44, \"saltiness\": 1.02, \"sourness\": 0.58, \"bitterness\": 0.39, \"savoriness\": 0.66, \"fattiness\": 4.92, \"spiciness\": 0.0, \"sweet_greater_than_sour\": \"More Sweet\"}, {\"id\": 549208, \"title\": \"Banana Sour Cream Pancakes and Magelby\\u2019s Buttermilk Syrup\", \"image\": \"https://spoonacular.com/recipeImages/549208-312x231.jpg\", \"imageType\": \"jpg\", \"taste_profile\": {\"sweetness\": 3.43, \"saltiness\": 1.29, \"sourness\": 0.72, \"bitterness\": 0.55, \"savoriness\": 0.9, \"fattiness\": 4.5, \"spiciness\": 0.0}, \"sweetness\": 3.43, \"saltiness\": 1.29, \"sourness\": 0.72, \"bitterness\": 0.55, \"savoriness\": 0.9, \"fattiness\": 4.5, \"spiciness\": 0.0, \"sweet_greater_than_sour\": \"More Sweet\"}, {\"id\": 53033, \"title\": \"Cranberry, Sour Cherry, And Grapefruit Chutney\", \"image\": \"https://spoonacular.com/recipeImages/53033-312x231.jpg\", \"imageType\": \"jpg\", \"taste_profile\": {\"sweetness\": 5.66, \"saltiness\": 0.06, \"sourness\": 3.08, \"bitterness\": 4.35, \"savoriness\": 0.93, \"fattiness\": 0.09, \"spiciness\": 0.0}, \"sweetness\": 5.66, \"saltiness\": 0.06, \"sourness\": 3.08, \"bitterness\": 4.35, \"savoriness\": 0.93, \"fattiness\": 0.09, \"spiciness\": 0.0, \"sweet_greater_than_sour\": \"More Sweet\"}, {\"id\": 1581097, \"title\": \"Sourdough Bread Pudding with Mango and Pumpkin Seeds\", \"image\": \"https://spoonacular.com/recipeImages/1581097-312x231.jpg\", \"imageType\": \"jpg\", \"taste_profile\": {\"sweetness\": 5.5, \"saltiness\": 3.33, \"sourness\": 2.01, \"bitterness\": 1.22, \"savoriness\": 1.5, \"fattiness\": 3.58, \"spiciness\": 0.0}, \"sweetness\": 5.5, \"saltiness\": 3.33, \"sourness\": 2.01, \"bitterness\": 1.22, \"savoriness\": 1.5, \"fattiness\": 3.58, \"spiciness\": 0.0, \"sweet_greater_than_sour\": \"More Sweet\"}, {\"id\": 196632, \"title\": \"The Sweet Melissa Baking Book: Sour Cherry Pie with Pistachio Crumble\", \"image\": \"https://spoonacular.com/recipeImages/196632-312x231.jpg\", \"imageType\": \"jpg\", \"taste_profile\": {\"sweetness\": 8.37, \"saltiness\": 0.08, \"sourness\": 3.07, \"bitterness\": 1.83, \"savoriness\": 0.6, \"fattiness\": 1.65, \"spiciness\": 0.0}, \"sweetness\": 8.37, \"saltiness\": 0.08, \"sourness\": 3.07, \"bitterness\": 1.83, \"savoriness\": 0.6, \"fattiness\": 1.65, \"spiciness\": 0.0, \"sweet_greater_than_sour\": \"More Sweet\"}, {\"id\": 526998, \"title\": \"Lemon Bars with Sweet Sour Cream Topping\", \"image\": \"https://spoonacular.com/recipeImages/526998-312x231.jpg\", \"imageType\": \"jpg\", \"taste_profile\": {\"sweetness\": 2.76, \"saltiness\": 1.58, \"sourness\": 1.43, \"bitterness\": 0.98, \"savoriness\": 0.94, \"fattiness\": 4.94, \"spiciness\": 0.0}, \"sweetness\": 2.76, \"saltiness\": 1.58, \"sourness\": 1.43, \"bitterness\": 0.98, \"savoriness\": 0.94, \"fattiness\": 4.94, \"spiciness\": 0.0, \"sweet_greater_than_sour\": \"More Sweet\"}, {\"id\": 63011, \"title\": \"Sour Cream Coffee Cake With Chocolate And Nuts\", \"image\": \"https://spoonacular.com/recipeImages/63011-312x231.jpg\", \"imageType\": \"jpg\", \"taste_profile\": {\"sweetness\": 5.85, \"saltiness\": 1.3, \"sourness\": 0.19, \"bitterness\": 0.11, \"savoriness\": 0.74, \"fattiness\": 5.01, \"spiciness\": 0.0}, \"sweetness\": 5.85, \"saltiness\": 1.3, \"sourness\": 0.19, \"bitterness\": 0.11, \"savoriness\": 0.74, \"fattiness\": 5.01, \"spiciness\": 0.0, \"sweet_greater_than_sour\": \"More Sweet\"}, {\"id\": 538850, \"title\": \"Sour Cream Coffee Cake with Chocolate and Nuts\", \"image\": \"https://spoonacular.com/recipeImages/538850-312x231.jpg\", \"imageType\": \"jpg\", \"taste_profile\": {\"sweetness\": 5.85, \"saltiness\": 1.3, \"sourness\": 0.19, \"bitterness\": 0.11, \"savoriness\": 0.74, \"fattiness\": 5.01, \"spiciness\": 0.0}, \"sweetness\": 5.85, \"saltiness\": 1.3, \"sourness\": 0.19, \"bitterness\": 0.11, \"savoriness\": 0.74, \"fattiness\": 5.01, \"spiciness\": 0.0, \"sweet_greater_than_sour\": \"More Sweet\"}, {\"id\": 61100, \"title\": \"Double-Ginger Sour Cream and Bundt Cake with Ginger-Infused Strawberries\", \"image\": \"https://spoonacular.com/recipeImages/61100-312x231.jpg\", \"imageType\": \"jpg\", \"taste_profile\": {\"sweetness\": 5.65, \"saltiness\": 0.92, \"sourness\": 1.66, \"bitterness\": 0.46, \"savoriness\": 0.5, \"fattiness\": 2.46, \"spiciness\": 0.0}, \"sweetness\": 5.65, \"saltiness\": 0.92, \"sourness\": 1.66, \"bitterness\": 0.46, \"savoriness\": 0.5, \"fattiness\": 2.46, \"spiciness\": 0.0, \"sweet_greater_than_sour\": \"More Sweet\"}, {\"id\": 27470, \"title\": \"Rock Candy Jello Shooters With Midori Melon Sour\", \"image\": \"https://spoonacular.com/recipeImages/27470-312x231.jpg\", \"imageType\": \"jpg\", \"taste_profile\": {\"sweetness\": 2.46, \"saltiness\": 1.21, \"sourness\": 0.92, \"bitterness\": 1.95, \"savoriness\": 0.72, \"fattiness\": 0.33, \"spiciness\": 0.0}, \"sweetness\": 2.46, \"saltiness\": 1.21, \"sourness\": 0.92, \"bitterness\": 1.95, \"savoriness\": 0.72, \"fattiness\": 0.33, \"spiciness\": 0.0, \"sweet_greater_than_sour\": \"More Sweet\"}, {\"id\": 138800, \"title\": \"Pierogi with Italian Plum Filling and Spiced Sour Cream\", \"image\": \"https://spoonacular.com/recipeImages/138800-312x231.png\", \"imageType\": \"png\", \"taste_profile\": {\"sweetness\": 9.19, \"saltiness\": 0.19, \"sourness\": 3.42, \"bitterness\": 3.23, \"savoriness\": 0.53, \"fattiness\": 1.23, \"spiciness\": 0.0}, \"sweetness\": 9.19, \"saltiness\": 0.19, \"sourness\": 3.42, \"bitterness\": 3.23, \"savoriness\": 0.53, \"fattiness\": 1.23, \"spiciness\": 0.0, \"sweet_greater_than_sour\": \"More Sweet\"}, {\"id\": 189521, \"title\": \"Caramelized-Nectarine and Ginger Shortcakes with Sour Cream\", \"image\": \"https://spoonacular.com/recipeImages/189521-312x231.jpg\", \"imageType\": \"jpg\", \"taste_profile\": {\"sweetness\": 5.74, \"saltiness\": 0.4, \"sourness\": 1.88, \"bitterness\": 0.87, \"savoriness\": 0.34, \"fattiness\": 2.59, \"spiciness\": 0.0}, \"sweetness\": 5.74, \"saltiness\": 0.4, \"sourness\": 1.88, \"bitterness\": 0.87, \"savoriness\": 0.34, \"fattiness\": 2.59, \"spiciness\": 0.0, \"sweet_greater_than_sour\": \"More Sweet\"}, {\"id\": 60639, \"title\": \"Yellow Cake With Strawberry Filling And Chocolate Sour Cream Fr\", \"image\": \"https://spoonacular.com/recipeImages/60639-312x231.jpg\", \"imageType\": \"jpg\", \"taste_profile\": {\"sweetness\": 7.05, \"saltiness\": 1.75, \"sourness\": 0.82, \"bitterness\": 0.41, \"savoriness\": 0.97, \"fattiness\": 4.53, \"spiciness\": 0.0}, \"sweetness\": 7.05, \"saltiness\": 1.75, \"sourness\": 0.82, \"bitterness\": 0.41, \"savoriness\": 0.97, \"fattiness\": 4.53, \"spiciness\": 0.0, \"sweet_greater_than_sour\": \"More Sweet\"}, {\"id\": 920721, \"title\": \"SPONSORED: Vanilla and Oat Pancakes With Whipped Vanilla Sour Cream\", \"image\": \"https://spoonacular.com/recipeImages/920721-312x231.jpg\", \"imageType\": \"jpg\", \"taste_profile\": {\"sweetness\": 3.48, \"saltiness\": 1.44, \"sourness\": 0.53, \"bitterness\": 0.33, \"savoriness\": 1.0, \"fattiness\": 2.46, \"spiciness\": 0.0}, \"sweetness\": 3.48, \"saltiness\": 1.44, \"sourness\": 0.53, \"bitterness\": 0.33, \"savoriness\": 1.0, \"fattiness\": 2.46, \"spiciness\": 0.0, \"sweet_greater_than_sour\": \"More Sweet\"}, {\"id\": 53114, \"title\": \"Quinoa With Clementines, Sour Cherries And Pecans\", \"image\": \"https://spoonacular.com/recipeImages/53114-312x231.jpg\", \"imageType\": \"jpg\", \"taste_profile\": {\"sweetness\": 4.76, \"saltiness\": 4.02, \"sourness\": 3.97, \"bitterness\": 2.03, \"savoriness\": 2.75, \"fattiness\": 2.78, \"spiciness\": 0.0}, \"sweetness\": 4.76, \"saltiness\": 4.02, \"sourness\": 3.97, \"bitterness\": 2.03, \"savoriness\": 2.75, \"fattiness\": 2.78, \"spiciness\": 0.0, \"sweet_greater_than_sour\": \"More Sweet\"}, {\"id\": 68800, \"title\": \"Christmas Croissant Pudding with Sour Cream and Brown Sugar Sauce\", \"image\": \"https://spoonacular.com/recipeImages/68800-312x231.jpg\", \"imageType\": \"jpg\", \"taste_profile\": {\"sweetness\": 5.3, \"saltiness\": 1.99, \"sourness\": 1.21, \"bitterness\": 1.07, \"savoriness\": 1.52, \"fattiness\": 4.47, \"spiciness\": 0.0}, \"sweetness\": 5.3, \"saltiness\": 1.99, \"sourness\": 1.21, \"bitterness\": 1.07, \"savoriness\": 1.52, \"fattiness\": 4.47, \"spiciness\": 0.0, \"sweet_greater_than_sour\": \"More Sweet\"}, {\"id\": 768102, \"title\": \"Cherry Dark Chocolate Sour Cream Bundt Cake \\u2013 Low Carb and Gluten-Free\", \"image\": \"https://spoonacular.com/recipeImages/768102-312x231.jpg\", \"imageType\": \"jpg\", \"taste_profile\": {\"sweetness\": 1.5, \"saltiness\": 0.85, \"sourness\": 0.25, \"bitterness\": 0.14, \"savoriness\": 0.48, \"fattiness\": 6.29, \"spiciness\": 0.0}, \"sweetness\": 1.5, \"saltiness\": 0.85, \"sourness\": 0.25, \"bitterness\": 0.14, \"savoriness\": 0.48, \"fattiness\": 6.29, \"spiciness\": 0.0, \"sweet_greater_than_sour\": \"More Sweet\"}, {\"id\": 63962, \"title\": \"Yellow Cupcakes With Chocolate Sour Cream Frosting And Toasted\", \"image\": \"https://spoonacular.com/recipeImages/63962-312x231.jpg\", \"imageType\": \"jpg\", \"taste_profile\": {\"sweetness\": 6.06, \"saltiness\": 1.69, \"sourness\": 0.38, \"bitterness\": 0.23, \"savoriness\": 0.98, \"fattiness\": 4.41, \"spiciness\": 0.0}, \"sweetness\": 6.06, \"saltiness\": 1.69, \"sourness\": 0.38, \"bitterness\": 0.23, \"savoriness\": 0.98, \"fattiness\": 4.41, \"spiciness\": 0.0, \"sweet_greater_than_sour\": \"More Sweet\"}, {\"id\": 611831, \"title\": \"Easy Blackberry Pie with Spiced Sour Cream Custard (and No-Roll Pie Crust!)\", \"image\": \"https://spoonacular.com/recipeImages/611831-312x231.jpg\", \"imageType\": \"jpg\", \"taste_profile\": {\"sweetness\": 1.63, \"saltiness\": 0.16, \"sourness\": 0.28, \"bitterness\": 0.33, \"savoriness\": 0.27, \"fattiness\": 3.53, \"spiciness\": 0.0}, \"sweetness\": 1.63, \"saltiness\": 0.16, \"sourness\": 0.28, \"bitterness\": 0.33, \"savoriness\": 0.27, \"fattiness\": 3.53, \"spiciness\": 0.0, \"sweet_greater_than_sour\": \"More Sweet\"}, {\"id\": 989603, \"title\": \"Chocolate Layer Cake with Chocolate Sour Cream Frosting (Low Carb and Gluten-Free)\", \"image\": \"https://spoonacular.com/recipeImages/989603-312x231.jpg\", \"imageType\": \"jpg\", \"taste_profile\": {\"sweetness\": 0.91, \"saltiness\": 1.21, \"sourness\": 0.22, \"bitterness\": 0.13, \"savoriness\": 0.72, \"fattiness\": 4.31, \"spiciness\": 0.0}, \"sweetness\": 0.91, \"saltiness\": 1.21, \"sourness\": 0.22, \"bitterness\": 0.13, \"savoriness\": 0.72, \"fattiness\": 4.31, \"spiciness\": 0.0, \"sweet_greater_than_sour\": \"More Sweet\"}, {\"id\": 128624, \"title\": \"Sour Cream Pie\", \"image\": \"https://spoonacular.com/recipeImages/128624-312x231.jpg\", \"imageType\": \"jpg\", \"taste_profile\": {\"sweetness\": 6.39, \"saltiness\": 1.1, \"sourness\": 0.13, \"bitterness\": 0.07, \"savoriness\": 0.62, \"fattiness\": 3.48, \"spiciness\": 0.0}, \"sweetness\": 6.39, \"saltiness\": 1.1, \"sourness\": 0.13, \"bitterness\": 0.07, \"savoriness\": 0.62, \"fattiness\": 3.48, \"spiciness\": 0.0, \"sweet_greater_than_sour\": \"More Sweet\"}, {\"id\": 52777, \"title\": \"Sour Cherry Pie\", \"image\": \"https://spoonacular.com/recipeImages/52777-312x231.jpg\", \"imageType\": \"jpg\", \"taste_profile\": {\"sweetness\": 4.36, \"saltiness\": 0.26, \"sourness\": 2.22, \"bitterness\": 1.44, \"savoriness\": 0.45, \"fattiness\": 3.7, \"spiciness\": 0.0}, \"sweetness\": 4.36, \"saltiness\": 0.26, \"sourness\": 2.22, \"bitterness\": 1.44, \"savoriness\": 0.45, \"fattiness\": 3.7, \"spiciness\": 0.0, \"sweet_greater_than_sour\": \"More Sweet\"}, {\"id\": 52685, \"title\": \"Sour Cherry Pie\", \"image\": \"https://spoonacular.com/recipeImages/52685-312x231.jpg\", \"imageType\": \"jpg\", \"taste_profile\": {\"sweetness\": 8.66, \"saltiness\": 0.69, \"sourness\": 3.05, \"bitterness\": 1.83, \"savoriness\": 0.92, \"fattiness\": 1.39, \"spiciness\": 0.0}, \"sweetness\": 8.66, \"saltiness\": 0.69, \"sourness\": 3.05, \"bitterness\": 1.83, \"savoriness\": 0.92, \"fattiness\": 1.39, \"spiciness\": 0.0, \"sweet_greater_than_sour\": \"More Sweet\"}, {\"id\": 52717, \"title\": \"Sour Cherry Pie\", \"image\": \"https://spoonacular.com/recipeImages/52717-312x231.jpg\", \"imageType\": \"jpg\", \"taste_profile\": {\"sweetness\": 6.26, \"saltiness\": 0.32, \"sourness\": 1.62, \"bitterness\": 0.96, \"savoriness\": 0.46, \"fattiness\": 2.51, \"spiciness\": 0.0}, \"sweetness\": 6.26, \"saltiness\": 0.32, \"sourness\": 1.62, \"bitterness\": 0.96, \"savoriness\": 0.46, \"fattiness\": 2.51, \"spiciness\": 0.0, \"sweet_greater_than_sour\": \"More Sweet\"}, {\"id\": 49093, \"title\": \"Sour Cherry Pie\", \"image\": \"https://spoonacular.com/recipeImages/49093-312x231.jpg\", \"imageType\": \"jpg\", \"taste_profile\": {\"sweetness\": 11.22, \"saltiness\": 0.41, \"sourness\": 0.04, \"bitterness\": 0.02, \"savoriness\": 0.19, \"fattiness\": 5.14, \"spiciness\": 0.0}, \"sweetness\": 11.22, \"saltiness\": 0.41, \"sourness\": 0.04, \"bitterness\": 0.02, \"savoriness\": 0.19, \"fattiness\": 5.14, \"spiciness\": 0.0, \"sweet_greater_than_sour\": \"More Sweet\"}, {\"id\": 140681, \"title\": \"Sourdough Bread\", \"image\": \"https://spoonacular.com/recipeImages/140681-312x231.png\", \"imageType\": \"png\", \"taste_profile\": {\"sweetness\": 0.7, \"saltiness\": 0.77, \"sourness\": 0.32, \"bitterness\": 0.9, \"savoriness\": 0.12, \"fattiness\": 0.62, \"spiciness\": 0.0}, \"sweetness\": 0.7, \"saltiness\": 0.77, \"sourness\": 0.32, \"bitterness\": 0.9, \"savoriness\": 0.12, \"fattiness\": 0.62, \"spiciness\": 0.0, \"sweet_greater_than_sour\": \"More Sweet\"}, {\"id\": 129218, \"title\": \"Sour Cream Babka\", \"image\": \"https://spoonacular.com/recipeImages/129218-312x231.jpg\", \"imageType\": \"jpg\", \"taste_profile\": {\"sweetness\": 3.05, \"saltiness\": 1.31, \"sourness\": 0.65, \"bitterness\": 1.41, \"savoriness\": 0.34, \"fattiness\": 1.12, \"spiciness\": 0.0}, \"sweetness\": 3.05, \"saltiness\": 1.31, \"sourness\": 0.65, \"bitterness\": 1.41, \"savoriness\": 0.34, \"fattiness\": 1.12, \"spiciness\": 0.0, \"sweet_greater_than_sour\": \"More Sweet\"}, {\"id\": 129083, \"title\": \"Sour Cream Babka\", \"image\": \"https://spoonacular.com/recipeImages/129083-312x231.jpg\", \"imageType\": \"jpg\", \"taste_profile\": {\"sweetness\": 5.41, \"saltiness\": 0.8, \"sourness\": 0.38, \"bitterness\": 0.35, \"savoriness\": 0.33, \"fattiness\": 1.97, \"spiciness\": 0.0}, \"sweetness\": 5.41, \"saltiness\": 0.8, \"sourness\": 0.38, \"bitterness\": 0.35, \"savoriness\": 0.33, \"fattiness\": 1.97, \"spiciness\": 0.0, \"sweet_greater_than_sour\": \"More Sweet\"}, {\"id\": 53199, \"title\": \"Sour Cherry Tart\", \"image\": \"https://spoonacular.com/recipeImages/53199-312x231.jpg\", \"imageType\": \"jpg\", \"taste_profile\": {\"sweetness\": 6.64, \"saltiness\": 0.45, \"sourness\": 2.93, \"bitterness\": 1.74, \"savoriness\": 0.79, \"fattiness\": 2.26, \"spiciness\": 0.0}, \"sweetness\": 6.64, \"saltiness\": 0.45, \"sourness\": 2.93, \"bitterness\": 1.74, \"savoriness\": 0.79, \"fattiness\": 2.26, \"spiciness\": 0.0, \"sweet_greater_than_sour\": \"More Sweet\"}, {\"id\": 144115, \"title\": \"Sour Cream Drops\", \"image\": \"https://spoonacular.com/recipeImages/144115-312x231.png\", \"imageType\": \"png\", \"taste_profile\": {\"sweetness\": 8.11, \"saltiness\": 0.77, \"sourness\": 0.1, \"bitterness\": 0.1, \"savoriness\": 0.39, \"fattiness\": 4.05, \"spiciness\": 0.0}, \"sweetness\": 8.11, \"saltiness\": 0.77, \"sourness\": 0.1, \"bitterness\": 0.1, \"savoriness\": 0.39, \"fattiness\": 4.05, \"spiciness\": 0.0, \"sweet_greater_than_sour\": \"More Sweet\"}, {\"id\": 80323, \"title\": \"Sour Cream Scones\", \"image\": \"https://spoonacular.com/recipeImages/80323-312x231.jpg\", \"imageType\": \"jpg\", \"taste_profile\": {\"sweetness\": 2.73, \"saltiness\": 0.33, \"sourness\": 0.02, \"bitterness\": 0.01, \"savoriness\": 0.11, \"fattiness\": 4.13, \"spiciness\": 0.0}, \"sweetness\": 2.73, \"saltiness\": 0.33, \"sourness\": 0.02, \"bitterness\": 0.01, \"savoriness\": 0.11, \"fattiness\": 4.13, \"spiciness\": 0.0, \"sweet_greater_than_sour\": \"More Sweet\"}, {\"id\": 151080, \"title\": \"Sour Cherry Sauce\", \"image\": \"https://spoonacular.com/recipeImages/151080-312x231.jpg\", \"imageType\": \"jpg\", \"taste_profile\": {\"sweetness\": 9.06, \"saltiness\": 0.11, \"sourness\": 3.92, \"bitterness\": 2.24, \"savoriness\": 0.74, \"fattiness\": 0.56, \"spiciness\": 0.0}, \"sweetness\": 9.06, \"saltiness\": 0.11, \"sourness\": 3.92, \"bitterness\": 2.24, \"savoriness\": 0.74, \"fattiness\": 0.56, \"spiciness\": 0.0, \"sweet_greater_than_sour\": \"More Sweet\"}, {\"id\": 374025, \"title\": \"Sour Cream Twists\", \"image\": \"https://spoonacular.com/recipeImages/374025-312x231.jpg\", \"imageType\": \"jpg\", \"taste_profile\": {\"sweetness\": 9.77, \"saltiness\": 0.56, \"sourness\": 0.08, \"bitterness\": 0.11, \"savoriness\": 0.26, \"fattiness\": 3.06, \"spiciness\": 0.0}, \"sweetness\": 9.77, \"saltiness\": 0.56, \"sourness\": 0.08, \"bitterness\": 0.11, \"savoriness\": 0.26, \"fattiness\": 3.06, \"spiciness\": 0.0, \"sweet_greater_than_sour\": \"More Sweet\"}, {\"id\": 438175, \"title\": \"Sour Cream Loaves\", \"image\": \"https://spoonacular.com/recipeImages/438175-312x231.jpg\", \"imageType\": \"jpg\", \"taste_profile\": {\"sweetness\": 5.49, \"saltiness\": 0.84, \"sourness\": 0.08, \"bitterness\": 0.04, \"savoriness\": 0.39, \"fattiness\": 6.0, \"spiciness\": 0.0}, \"sweetness\": 5.49, \"saltiness\": 0.84, \"sourness\": 0.08, \"bitterness\": 0.04, \"savoriness\": 0.39, \"fattiness\": 6.0, \"spiciness\": 0.0, \"sweet_greater_than_sour\": \"More Sweet\"}, {\"id\": 56371, \"title\": \"Sour Cream Scones\", \"image\": \"https://spoonacular.com/recipeImages/56371-312x231.jpg\", \"imageType\": \"jpg\", \"taste_profile\": {\"sweetness\": 4.65, \"saltiness\": 0.51, \"sourness\": 0.05, \"bitterness\": 0.03, \"savoriness\": 0.25, \"fattiness\": 2.06, \"spiciness\": 0.0}, \"sweetness\": 4.65, \"saltiness\": 0.51, \"sourness\": 0.05, \"bitterness\": 0.03, \"savoriness\": 0.25, \"fattiness\": 2.06, \"spiciness\": 0.0, \"sweet_greater_than_sour\": \"More Sweet\"}, {\"id\": 771325, \"title\": \"Sour Cream Waffles\", \"image\": \"https://spoonacular.com/recipeImages/771325-312x231.jpeg\", \"imageType\": \"jpeg\", \"taste_profile\": {\"sweetness\": 2.7, \"saltiness\": 1.5, \"sourness\": 0.37, \"bitterness\": 0.22, \"savoriness\": 0.91, \"fattiness\": 5.11, \"spiciness\": 0.0}, \"sweetness\": 2.7, \"saltiness\": 1.5, \"sourness\": 0.37, \"bitterness\": 0.22, \"savoriness\": 0.91, \"fattiness\": 5.11, \"spiciness\": 0.0, \"sweet_greater_than_sour\": \"More Sweet\"}, {\"id\": 206498, \"title\": \"Sour Cherry 'Clams\", \"image\": \"https://spoonacular.com/recipeImages/206498-312x231.jpg\", \"imageType\": \"jpg\", \"taste_profile\": {\"sweetness\": 5.97, \"saltiness\": 0.42, \"sourness\": 4.44, \"bitterness\": 2.88, \"savoriness\": 0.74, \"fattiness\": 2.83, \"spiciness\": 0.0}, \"sweetness\": 5.97, \"saltiness\": 0.42, \"sourness\": 4.44, \"bitterness\": 2.88, \"savoriness\": 0.74, \"fattiness\": 2.83, \"spiciness\": 0.0, \"sweet_greater_than_sour\": \"More Sweet\"}, {\"id\": 1504291, \"title\": \"Sourdough Biscuits\", \"image\": \"https://spoonacular.com/recipeImages/1504291-312x231.jpg\", \"imageType\": \"jpg\", \"taste_profile\": {\"sweetness\": 0.42, \"saltiness\": 0.22, \"sourness\": 0.0, \"bitterness\": 0.0, \"savoriness\": 0.0, \"fattiness\": 2.84, \"spiciness\": 0.0}, \"sweetness\": 0.42, \"saltiness\": 0.22, \"sourness\": 0.0, \"bitterness\": 0.0, \"savoriness\": 0.0, \"fattiness\": 2.84, \"spiciness\": 0.0, \"sweet_greater_than_sour\": \"More Sweet\"}, {\"id\": 591445, \"title\": \"Sourdough Pancakes\", \"image\": \"https://spoonacular.com/recipeImages/591445-312x231.jpg\", \"imageType\": \"jpg\", \"taste_profile\": {\"sweetness\": 1.16, \"saltiness\": 1.33, \"sourness\": 0.55, \"bitterness\": 0.95, \"savoriness\": 0.62, \"fattiness\": 0.87, \"spiciness\": 0.0}, \"sweetness\": 1.16, \"saltiness\": 1.33, \"sourness\": 0.55, \"bitterness\": 0.95, \"savoriness\": 0.62, \"fattiness\": 0.87, \"spiciness\": 0.0, \"sweet_greater_than_sour\": \"More Sweet\"}, {\"id\": 367199, \"title\": \"Sour Cream Cutouts\", \"image\": \"https://spoonacular.com/recipeImages/367199-312x231.jpg\", \"imageType\": \"jpg\", \"taste_profile\": {\"sweetness\": 8.37, \"saltiness\": 0.5, \"sourness\": 0.05, \"bitterness\": 0.03, \"savoriness\": 0.26, \"fattiness\": 3.49, \"spiciness\": 0.0}, \"sweetness\": 8.37, \"saltiness\": 0.5, \"sourness\": 0.05, \"bitterness\": 0.03, \"savoriness\": 0.26, \"fattiness\": 3.49, \"spiciness\": 0.0, \"sweet_greater_than_sour\": \"More Sweet\"}, {\"id\": 555472, \"title\": \"Sour Cream Waffles\", \"image\": \"https://spoonacular.com/recipeImages/555472-312x231.jpg\", \"imageType\": \"jpg\", \"taste_profile\": {\"sweetness\": 3.91, \"saltiness\": 2.11, \"sourness\": 0.52, \"bitterness\": 0.31, \"savoriness\": 1.34, \"fattiness\": 4.27, \"spiciness\": 0.0}, \"sweetness\": 3.91, \"saltiness\": 2.11, \"sourness\": 0.52, \"bitterness\": 0.31, \"savoriness\": 1.34, \"fattiness\": 4.27, \"spiciness\": 0.0, \"sweet_greater_than_sour\": \"More Sweet\"}, {\"id\": 309442, \"title\": \"Sourdough Pancakes\", \"image\": \"https://spoonacular.com/recipeImages/309442-312x231.jpeg\", \"imageType\": \"jpeg\", \"taste_profile\": {\"sweetness\": 2.53, \"saltiness\": 2.38, \"sourness\": 0.97, \"bitterness\": 0.77, \"savoriness\": 1.61, \"fattiness\": 3.15, \"spiciness\": 0.0}, \"sweetness\": 2.53, \"saltiness\": 2.38, \"sourness\": 0.97, \"bitterness\": 0.77, \"savoriness\": 1.61, \"fattiness\": 3.15, \"spiciness\": 0.0, \"sweet_greater_than_sour\": \"More Sweet\"}, {\"id\": 144246, \"title\": \"Sourdough Pancakes\", \"image\": \"https://spoonacular.com/recipeImages/144246-312x231.png\", \"imageType\": \"png\", \"taste_profile\": {\"sweetness\": 1.14, \"saltiness\": 1.55, \"sourness\": 0.53, \"bitterness\": 1.1, \"savoriness\": 0.65, \"fattiness\": 0.77, \"spiciness\": 0.0}, \"sweetness\": 1.14, \"saltiness\": 1.55, \"sourness\": 0.53, \"bitterness\": 1.1, \"savoriness\": 0.65, \"fattiness\": 0.77, \"spiciness\": 0.0, \"sweet_greater_than_sour\": \"More Sweet\"}, {\"id\": 372129, \"title\": \"Sour Cherry Sorbet\", \"image\": \"https://spoonacular.com/recipeImages/372129-312x231.jpg\", \"imageType\": \"jpg\", \"taste_profile\": {\"sweetness\": 12.34, \"saltiness\": 0.2, \"sourness\": 3.06, \"bitterness\": 1.85, \"savoriness\": 0.48, \"fattiness\": 0.59, \"spiciness\": 0.0}, \"sweetness\": 12.34, \"saltiness\": 0.2, \"sourness\": 3.06, \"bitterness\": 1.85, \"savoriness\": 0.48, \"fattiness\": 0.59, \"spiciness\": 0.0, \"sweet_greater_than_sour\": \"More Sweet\"}, {\"id\": 126986, \"title\": \"Sourdough Pancakes\", \"image\": \"https://spoonacular.com/recipeImages/126986-312x231.jpg\", \"imageType\": \"jpg\", \"taste_profile\": {\"sweetness\": 1.04, \"saltiness\": 1.1, \"sourness\": 0.92, \"bitterness\": 1.33, \"savoriness\": 0.38, \"fattiness\": 0.79, \"spiciness\": 0.0}, \"sweetness\": 1.04, \"saltiness\": 1.1, \"sourness\": 0.92, \"bitterness\": 1.33, \"savoriness\": 0.38, \"fattiness\": 0.79, \"spiciness\": 0.0, \"sweet_greater_than_sour\": \"More Sweet\"}, {\"id\": 427974, \"title\": \"Sour Cream Bavarian\", \"image\": \"https://spoonacular.com/recipeImages/427974-312x231.jpg\", \"imageType\": \"jpg\", \"taste_profile\": {\"sweetness\": 5.43, \"saltiness\": 0.38, \"sourness\": 0.19, \"bitterness\": 0.52, \"savoriness\": 0.07, \"fattiness\": 1.33, \"spiciness\": 0.0}, \"sweetness\": 5.43, \"saltiness\": 0.38, \"sourness\": 0.19, \"bitterness\": 0.52, \"savoriness\": 0.07, \"fattiness\": 1.33, \"spiciness\": 0.0, \"sweet_greater_than_sour\": \"More Sweet\"}, {\"id\": 52835, \"title\": \"Sour Cherry Compote\", \"image\": \"https://spoonacular.com/recipeImages/52835-312x231.jpg\", \"imageType\": \"jpg\", \"taste_profile\": {\"sweetness\": 7.45, \"saltiness\": 0.51, \"sourness\": 4.1, \"bitterness\": 3.02, \"savoriness\": 0.67, \"fattiness\": 0.57, \"spiciness\": 0.0}, \"sweetness\": 7.45, \"saltiness\": 0.51, \"sourness\": 4.1, \"bitterness\": 3.02, \"savoriness\": 0.67, \"fattiness\": 0.57, \"spiciness\": 0.0, \"sweet_greater_than_sour\": \"More Sweet\"}, {\"id\": 1164694, \"title\": \"Sour Cream Biscuits\", \"image\": \"https://spoonacular.com/recipeImages/1164694-312x231.jpg\", \"imageType\": \"jpg\", \"taste_profile\": {\"sweetness\": 2.47, \"saltiness\": 0.46, \"sourness\": 0.14, \"bitterness\": 0.09, \"savoriness\": 0.22, \"fattiness\": 4.13, \"spiciness\": 0.0}, \"sweetness\": 2.47, \"saltiness\": 0.46, \"sourness\": 0.14, \"bitterness\": 0.09, \"savoriness\": 0.22, \"fattiness\": 4.13, \"spiciness\": 0.0, \"sweet_greater_than_sour\": \"More Sweet\"}, {\"id\": 319736, \"title\": \"Sour Cream Cupcakes\", \"image\": \"https://spoonacular.com/recipeImages/319736-312x231.jpeg\", \"imageType\": \"jpeg\", \"taste_profile\": {\"sweetness\": 7.28, \"saltiness\": 0.66, \"sourness\": 0.14, \"bitterness\": 0.08, \"savoriness\": 0.41, \"fattiness\": 6.89, \"spiciness\": 0.0}, \"sweetness\": 7.28, \"saltiness\": 0.66, \"sourness\": 0.14, \"bitterness\": 0.08, \"savoriness\": 0.41, \"fattiness\": 6.89, \"spiciness\": 0.0, \"sweet_greater_than_sour\": \"More Sweet\"}, {\"id\": 538150, \"title\": \"Sour Cream Brownies\", \"image\": \"https://spoonacular.com/recipeImages/538150-312x231.jpg\", \"imageType\": \"jpg\", \"taste_profile\": {\"sweetness\": 7.86, \"saltiness\": 0.77, \"sourness\": 0.09, \"bitterness\": 0.04, \"savoriness\": 0.41, \"fattiness\": 5.69, \"spiciness\": 0.0}, \"sweetness\": 7.86, \"saltiness\": 0.77, \"sourness\": 0.09, \"bitterness\": 0.04, \"savoriness\": 0.41, \"fattiness\": 5.69, \"spiciness\": 0.0, \"sweet_greater_than_sour\": \"More Sweet\"}, {\"id\": 464147, \"title\": \"Sour Cream Biscotti\", \"image\": \"https://spoonacular.com/recipeImages/464147-312x231.jpg\", \"imageType\": \"jpg\", \"taste_profile\": {\"sweetness\": 4.72, \"saltiness\": 0.82, \"sourness\": 0.09, \"bitterness\": 0.05, \"savoriness\": 0.44, \"fattiness\": 5.04, \"spiciness\": 0.0}, \"sweetness\": 4.72, \"saltiness\": 0.82, \"sourness\": 0.09, \"bitterness\": 0.05, \"savoriness\": 0.44, \"fattiness\": 5.04, \"spiciness\": 0.0, \"sweet_greater_than_sour\": \"More Sweet\"}, {\"id\": 396733, \"title\": \"Sour Cream Plum Pie\", \"image\": \"https://spoonacular.com/recipeImages/396733-312x231.jpg\", \"imageType\": \"jpg\", \"taste_profile\": {\"sweetness\": 7.03, \"saltiness\": 0.33, \"sourness\": 2.17, \"bitterness\": 2.04, \"savoriness\": 0.45, \"fattiness\": 1.91, \"spiciness\": 0.0}, \"sweetness\": 7.03, \"saltiness\": 0.33, \"sourness\": 2.17, \"bitterness\": 2.04, \"savoriness\": 0.45, \"fattiness\": 1.91, \"spiciness\": 0.0, \"sweet_greater_than_sour\": \"More Sweet\"}, {\"id\": 624461, \"title\": \"Sour Cream Frosting\", \"image\": \"https://spoonacular.com/recipeImages/624461-312x231.jpg\", \"imageType\": \"jpg\", \"taste_profile\": {\"sweetness\": 14.03, \"saltiness\": 0.09, \"sourness\": 0.1, \"bitterness\": 0.07, \"savoriness\": 0.01, \"fattiness\": 2.91, \"spiciness\": 0.0}, \"sweetness\": 14.03, \"saltiness\": 0.09, \"sourness\": 0.1, \"bitterness\": 0.07, \"savoriness\": 0.01, \"fattiness\": 2.91, \"spiciness\": 0.0, \"sweet_greater_than_sour\": \"More Sweet\"}, {\"id\": 278394, \"title\": \"Sour Cream Beignets\", \"image\": \"https://spoonacular.com/recipeImages/278394-312x231.jpg\", \"imageType\": \"jpg\", \"taste_profile\": {\"sweetness\": 2.19, \"saltiness\": 0.46, \"sourness\": 0.22, \"bitterness\": 0.2, \"savoriness\": 0.3, \"fattiness\": 8.97, \"spiciness\": 0.0}, \"sweetness\": 2.19, \"saltiness\": 0.46, \"sourness\": 0.22, \"bitterness\": 0.2, \"savoriness\": 0.3, \"fattiness\": 8.97, \"spiciness\": 0.0, \"sweet_greater_than_sour\": \"More Sweet\"}, {\"id\": 70374, \"title\": \"Sour Cream Apple Pie\", \"image\": \"https://spoonacular.com/recipeImages/70374-312x231.jpg\", \"imageType\": \"jpg\", \"taste_profile\": {\"sweetness\": 6.87, \"saltiness\": 0.31, \"sourness\": 2.76, \"bitterness\": 1.03, \"savoriness\": 0.43, \"fattiness\": 2.29, \"spiciness\": 0.0}, \"sweetness\": 6.87, \"saltiness\": 0.31, \"sourness\": 2.76, \"bitterness\": 1.03, \"savoriness\": 0.43, \"fattiness\": 2.29, \"spiciness\": 0.0, \"sweet_greater_than_sour\": \"More Sweet\"}, {\"id\": 280729, \"title\": \"Sour Cream Lemon Pie\", \"image\": \"https://spoonacular.com/recipeImages/280729-312x231.jpg\", \"imageType\": \"jpg\", \"taste_profile\": {\"sweetness\": 5.06, \"saltiness\": 1.56, \"sourness\": 1.68, \"bitterness\": 1.14, \"savoriness\": 1.15, \"fattiness\": 3.58, \"spiciness\": 0.0}, \"sweetness\": 5.06, \"saltiness\": 1.56, \"sourness\": 1.68, \"bitterness\": 1.14, \"savoriness\": 1.15, \"fattiness\": 3.58, \"spiciness\": 0.0, \"sweet_greater_than_sour\": \"More Sweet\"}, {\"id\": 436592, \"title\": \"Sour Cream-Lemon Pie\", \"image\": \"https://spoonacular.com/recipeImages/436592-312x231.jpg\", \"imageType\": \"jpg\", \"taste_profile\": {\"sweetness\": 4.39, \"saltiness\": 0.98, \"sourness\": 2.33, \"bitterness\": 1.63, \"savoriness\": 0.75, \"fattiness\": 3.95, \"spiciness\": 0.0}, \"sweetness\": 4.39, \"saltiness\": 0.98, \"sourness\": 2.33, \"bitterness\": 1.63, \"savoriness\": 0.75, \"fattiness\": 3.95, \"spiciness\": 0.0, \"sweet_greater_than_sour\": \"More Sweet\"}, {\"id\": 771315, \"title\": \"Sour Cream Apple Pie\", \"image\": \"https://spoonacular.com/recipeImages/771315-312x231.jpeg\", \"imageType\": \"jpeg\", \"taste_profile\": {\"sweetness\": 6.4, \"saltiness\": 0.26, \"sourness\": 3.16, \"bitterness\": 1.02, \"savoriness\": 0.34, \"fattiness\": 2.82, \"spiciness\": 0.0}, \"sweetness\": 6.4, \"saltiness\": 0.26, \"sourness\": 3.16, \"bitterness\": 1.02, \"savoriness\": 0.34, \"fattiness\": 2.82, \"spiciness\": 0.0, \"sweet_greater_than_sour\": \"More Sweet\"}, {\"id\": 70424, \"title\": \"Sour Cream Apple Pie\", \"image\": \"https://spoonacular.com/recipeImages/70424-312x231.jpg\", \"imageType\": \"jpg\", \"taste_profile\": {\"sweetness\": 7.14, \"saltiness\": 0.27, \"sourness\": 2.8, \"bitterness\": 0.83, \"savoriness\": 0.35, \"fattiness\": 2.81, \"spiciness\": 0.0}, \"sweetness\": 7.14, \"saltiness\": 0.27, \"sourness\": 2.8, \"bitterness\": 0.83, \"savoriness\": 0.35, \"fattiness\": 2.81, \"spiciness\": 0.0, \"sweet_greater_than_sour\": \"More Sweet\"}]}}, {\"mode\": \"vega-lite\"});\n",
       "</script>"
      ],
      "text/plain": [
       "alt.Chart(...)"
      ]
     },
     "execution_count": 82,
     "metadata": {},
     "output_type": "execute_result"
    }
   ],
   "source": [
    "# Import altair\n",
    "import altair as alt\n",
    "# Create scatterplot of sweet vs sour\n",
    "alt.Chart(sweet_and_sourwithflavor).mark_point().encode(\n",
    "    x='sweetness',\n",
    "    y='sourness',\n",
    "    color='sweet_greater_than_sour',\n",
    "    tooltip=['title', 'sweetness', 'sourness']\n",
    ")\n",
    "\n"
   ]
  },
  {
   "cell_type": "code",
   "execution_count": null,
   "metadata": {},
   "outputs": [],
   "source": [
    "%%html\n",
    "<script src=\"https://cdn.rawgit.com/parente/4c3e6936d0d7a46fd071/raw/65b816fb9bdd3c28b4ddf3af602bfd6015486383/code_toggle.js\"></script>"
   ]
  }
 ],
 "metadata": {
  "kernelspec": {
   "display_name": "Python 3.10.4 64-bit",
   "language": "python",
   "name": "python3"
  },
  "language_info": {
   "codemirror_mode": {
    "name": "ipython",
    "version": 3
   },
   "file_extension": ".py",
   "mimetype": "text/x-python",
   "name": "python",
   "nbconvert_exporter": "python",
   "pygments_lexer": "ipython3",
   "version": "3.10.4"
  },
  "orig_nbformat": 4,
  "vscode": {
   "interpreter": {
    "hash": "4f946df053fbf2b937619d3c5458e7af74262f9a954d8797ba0b27400bcafe06"
   }
  }
 },
 "nbformat": 4,
 "nbformat_minor": 2
}
