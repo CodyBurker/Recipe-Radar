{
 "cells": [
  {
   "cell_type": "code",
   "execution_count": 1,
   "metadata": {
    "executionInfo": {
     "elapsed": 737,
     "status": "ok",
     "timestamp": 1656027881403,
     "user": {
      "displayName": "Johnathan Mah",
      "userId": "05127135824558352763"
     },
     "user_tz": 420
    },
    "id": "paWAP20C8_ox"
   },
   "outputs": [],
   "source": [
    "import pandas as pd\n",
    "import requests\n",
    "import altair as alt\n",
    "import json\n",
    "import re"
   ]
  },
  {
   "cell_type": "code",
   "execution_count": 181,
   "metadata": {
    "executionInfo": {
     "elapsed": 180,
     "status": "ok",
     "timestamp": 1656027884286,
     "user": {
      "displayName": "Johnathan Mah",
      "userId": "05127135824558352763"
     },
     "user_tz": 420
    },
    "id": "OUuLv2Ac8_o4"
   },
   "outputs": [],
   "source": [
    "# Define Functions for the various endpoints. No point in parameterizing widget, less clear. \n",
    "\n",
    "# Add your API KEY here\n",
    "API_KEY = \"\"\n",
    "RAPID_API_HOST = \"spoonacular-recipe-food-nutrition-v1.p.rapidapi.com\"\n",
    "\n",
    "def spoonacularRecipeAPI(params):\n",
    "    url = \"https://spoonacular-recipe-food-nutrition-v1.p.rapidapi.com/recipes/complexSearch\"\n",
    "    headers = {\n",
    "            \"X-RapidAPI-Key\": API_KEY,\n",
    "            \"X-RapidAPI-Host\": RAPID_API_HOST\n",
    "            }\n",
    "    response = requests.request(\"GET\", url, headers=headers, params=params)\n",
    "    return response.json()\n",
    "\n",
    "def spoonacularNutritionAPI(ID):\n",
    "    url = \"https://spoonacular-recipe-food-nutrition-v1.p.rapidapi.com/recipes/\" + ID + \"/nutritionWidget.json\"\n",
    "    headers = {\n",
    "            \"X-RapidAPI-Key\": API_KEY,\n",
    "            \"X-RapidAPI-Host\": RAPID_API_HOST\n",
    "            }\n",
    "    response = requests.request(\"GET\", url, headers=headers)\n",
    "    return response.json()\n",
    "\n",
    "def spoonacularIngredientsAPI(ID):\n",
    "    url = \"https://spoonacular-recipe-food-nutrition-v1.p.rapidapi.com/recipes/\" + ID + \"/ingredientWidget.json\"\n",
    "    headers = {\n",
    "            \"X-RapidAPI-Key\": API_KEY,\n",
    "            \"X-RapidAPI-Host\": RAPID_API_HOST\n",
    "            }\n",
    "    response = requests.request(\"GET\", url, headers=headers)\n",
    "    return response.json()\n",
    "\n",
    "def spoonacularTasteAPI(ID):\n",
    "    url = \"https://spoonacular-recipe-food-nutrition-v1.p.rapidapi.com/recipes/\" + ID + \"/tasteWidget.json\"\n",
    "    headers = {\n",
    "            \"X-RapidAPI-Key\": API_KEY,\n",
    "            \"X-RapidAPI-Host\": RAPID_API_HOST\n",
    "            }\n",
    "    response = requests.request(\"GET\", url, headers=headers)\n",
    "    return response.json()"
   ]
  },
  {
   "cell_type": "markdown",
   "metadata": {
    "id": "Tkt8np5K8_o6"
   },
   "source": [
    "### Grab 500 Recipes for Each Cuisine"
   ]
  },
  {
   "cell_type": "markdown",
   "metadata": {
    "id": "BkTQfI778_o6"
   },
   "source": [
    "There are 26 Cuisines - Grab 500 Recipes for Each (13,000 recipes total).\n",
    "\n",
    "**Spoonacular is returning 0 results for Japanese, Greek, and Mexican"
   ]
  },
  {
   "cell_type": "code",
   "execution_count": 3,
   "metadata": {},
   "outputs": [],
   "source": [
    "cuisineList = [\n",
    "    'African',\n",
    "    'American',\n",
    "    'British',\n",
    "    'Cajun',\n",
    "    'Caribbean',\n",
    "    'Chinese',\n",
    "    'Eastern European',\n",
    "    'European',\n",
    "    'French',\n",
    "    'German',\n",
    "    'Greek',\n",
    "    'Indian',\n",
    "    'Irish',\n",
    "    'Italian',\n",
    "    'Japanese',\n",
    "    'Jewish',\n",
    "    'Korean',\n",
    "    'Latin American',\n",
    "    'Mediterranean',\n",
    "    'Mexican',\n",
    "    'Middle Eastern',\n",
    "    'Nordic',\n",
    "    'Southern',\n",
    "    'Spanish',\n",
    "    'Thai',\n",
    "    'Vietnamese'\n",
    "]"
   ]
  },
  {
   "cell_type": "code",
   "execution_count": 15,
   "metadata": {},
   "outputs": [
    {
     "data": {
      "text/html": [
       "<div>\n",
       "<style scoped>\n",
       "    .dataframe tbody tr th:only-of-type {\n",
       "        vertical-align: middle;\n",
       "    }\n",
       "\n",
       "    .dataframe tbody tr th {\n",
       "        vertical-align: top;\n",
       "    }\n",
       "\n",
       "    .dataframe thead th {\n",
       "        text-align: right;\n",
       "    }\n",
       "</style>\n",
       "<table border=\"1\" class=\"dataframe\">\n",
       "  <thead>\n",
       "    <tr style=\"text-align: right;\">\n",
       "      <th></th>\n",
       "      <th>id</th>\n",
       "      <th>title</th>\n",
       "      <th>image</th>\n",
       "      <th>imageType</th>\n",
       "      <th>cuisine</th>\n",
       "    </tr>\n",
       "  </thead>\n",
       "  <tbody>\n",
       "    <tr>\n",
       "      <th>0</th>\n",
       "      <td>510493</td>\n",
       "      <td>Vegetable Spring Rolls with Peanut Sauce</td>\n",
       "      <td>https://spoonacular.com/recipeImages/510493-31...</td>\n",
       "      <td>jpg</td>\n",
       "      <td>Vietnamese</td>\n",
       "    </tr>\n",
       "    <tr>\n",
       "      <th>1</th>\n",
       "      <td>759328</td>\n",
       "      <td>Vietnamese Hot Pot</td>\n",
       "      <td>https://spoonacular.com/recipeImages/759328-31...</td>\n",
       "      <td>jpg</td>\n",
       "      <td>Vietnamese</td>\n",
       "    </tr>\n",
       "    <tr>\n",
       "      <th>2</th>\n",
       "      <td>577598</td>\n",
       "      <td>Grilled Asparagus and Chili-Orange Quinoa Spri...</td>\n",
       "      <td>https://spoonacular.com/recipeImages/577598-31...</td>\n",
       "      <td>jpg</td>\n",
       "      <td>Vietnamese</td>\n",
       "    </tr>\n",
       "    <tr>\n",
       "      <th>3</th>\n",
       "      <td>511604</td>\n",
       "      <td>Spring Rolls With Salmon</td>\n",
       "      <td>https://spoonacular.com/recipeImages/511604-31...</td>\n",
       "      <td>jpg</td>\n",
       "      <td>Vietnamese</td>\n",
       "    </tr>\n",
       "    <tr>\n",
       "      <th>4</th>\n",
       "      <td>550072</td>\n",
       "      <td>Deconstructed Vietnamase Chicken, Avocado + Le...</td>\n",
       "      <td>https://spoonacular.com/recipeImages/550072-31...</td>\n",
       "      <td>jpg</td>\n",
       "      <td>Vietnamese</td>\n",
       "    </tr>\n",
       "    <tr>\n",
       "      <th>...</th>\n",
       "      <td>...</td>\n",
       "      <td>...</td>\n",
       "      <td>...</td>\n",
       "      <td>...</td>\n",
       "      <td>...</td>\n",
       "    </tr>\n",
       "    <tr>\n",
       "      <th>11495</th>\n",
       "      <td>35610</td>\n",
       "      <td>African Peanut Soup</td>\n",
       "      <td>https://spoonacular.com/recipeImages/35610-312...</td>\n",
       "      <td>jpg</td>\n",
       "      <td>African</td>\n",
       "    </tr>\n",
       "    <tr>\n",
       "      <th>11496</th>\n",
       "      <td>100227</td>\n",
       "      <td>Spicy African Peanut Soup With Chickpeas</td>\n",
       "      <td>https://spoonacular.com/recipeImages/100227-31...</td>\n",
       "      <td>jpg</td>\n",
       "      <td>African</td>\n",
       "    </tr>\n",
       "    <tr>\n",
       "      <th>11497</th>\n",
       "      <td>125438</td>\n",
       "      <td>East African Curry</td>\n",
       "      <td>https://spoonacular.com/recipeImages/125438-31...</td>\n",
       "      <td>jpg</td>\n",
       "      <td>African</td>\n",
       "    </tr>\n",
       "    <tr>\n",
       "      <th>11498</th>\n",
       "      <td>1598569</td>\n",
       "      <td>West African Pot Roast</td>\n",
       "      <td>https://spoonacular.com/recipeImages/1598569-3...</td>\n",
       "      <td>jpg</td>\n",
       "      <td>African</td>\n",
       "    </tr>\n",
       "    <tr>\n",
       "      <th>11499</th>\n",
       "      <td>124721</td>\n",
       "      <td>Sosaties (South African Kebabs)</td>\n",
       "      <td>https://spoonacular.com/recipeImages/124721-31...</td>\n",
       "      <td>jpg</td>\n",
       "      <td>African</td>\n",
       "    </tr>\n",
       "  </tbody>\n",
       "</table>\n",
       "<p>11500 rows × 5 columns</p>\n",
       "</div>"
      ],
      "text/plain": [
       "            id                                              title  \\\n",
       "0       510493           Vegetable Spring Rolls with Peanut Sauce   \n",
       "1       759328                                 Vietnamese Hot Pot   \n",
       "2       577598  Grilled Asparagus and Chili-Orange Quinoa Spri...   \n",
       "3       511604                           Spring Rolls With Salmon   \n",
       "4       550072  Deconstructed Vietnamase Chicken, Avocado + Le...   \n",
       "...        ...                                                ...   \n",
       "11495    35610                                African Peanut Soup   \n",
       "11496   100227           Spicy African Peanut Soup With Chickpeas   \n",
       "11497   125438                                 East African Curry   \n",
       "11498  1598569                             West African Pot Roast   \n",
       "11499   124721                    Sosaties (South African Kebabs)   \n",
       "\n",
       "                                                   image imageType     cuisine  \n",
       "0      https://spoonacular.com/recipeImages/510493-31...       jpg  Vietnamese  \n",
       "1      https://spoonacular.com/recipeImages/759328-31...       jpg  Vietnamese  \n",
       "2      https://spoonacular.com/recipeImages/577598-31...       jpg  Vietnamese  \n",
       "3      https://spoonacular.com/recipeImages/511604-31...       jpg  Vietnamese  \n",
       "4      https://spoonacular.com/recipeImages/550072-31...       jpg  Vietnamese  \n",
       "...                                                  ...       ...         ...  \n",
       "11495  https://spoonacular.com/recipeImages/35610-312...       jpg     African  \n",
       "11496  https://spoonacular.com/recipeImages/100227-31...       jpg     African  \n",
       "11497  https://spoonacular.com/recipeImages/125438-31...       jpg     African  \n",
       "11498  https://spoonacular.com/recipeImages/1598569-3...       jpg     African  \n",
       "11499  https://spoonacular.com/recipeImages/124721-31...       jpg     African  \n",
       "\n",
       "[11500 rows x 5 columns]"
      ]
     },
     "execution_count": 15,
     "metadata": {},
     "output_type": "execute_result"
    }
   ],
   "source": [
    "baselineRecipeDF = pd.DataFrame(columns=['id', 'title', 'image', 'imageType'])\n",
    "\n",
    "for cuisine in cuisineList:\n",
    "    for i in range(5):\n",
    "        cuisineRecipes = spoonacularRecipeAPI({'number': 100, 'cuisine': cuisine, 'offset': i})\n",
    "        cuisineRecipesDF = pd.json_normalize(cuisineRecipes, record_path = ['results'])\n",
    "        cuisineRecipesDF['cuisine'] = cuisine\n",
    "        baselineRecipeDF = pd.concat([cuisineRecipesDF, baselineRecipeDF], \n",
    "                              ignore_index=True, \n",
    "                              sort=False)\n",
    "        \n",
    "baselineRecipeDF"
   ]
  },
  {
   "cell_type": "code",
   "execution_count": 25,
   "metadata": {},
   "outputs": [],
   "source": [
    "# Drop image related columns, export to CSV\n",
    "baselineRecipeDF.drop(['image', 'imageType'], axis=1, inplace=True)\n",
    "baselineRecipeDF.to_csv('cuisineRecipes.csv', encoding='utf-8', index=False)"
   ]
  },
  {
   "cell_type": "code",
   "execution_count": 187,
   "metadata": {},
   "outputs": [],
   "source": [
    "##########################################################################################\n",
    "# This is some jank code, I would parallelize API calls, but this is just to get something working for now\n",
    "# Due to API Limit we'll slowly loop over this list to grab data - Adjust as we build\n",
    "# 5000 Limit per day, to be safe we will do 4500 calls\n",
    "# Nutrition, Taste, Ingredients = 1500 API Calls per cuisine\n",
    "# So Each API Key = 3 Cuisines per day\n",
    "# If you haven't run the above cells you want to run \n",
    "# baselineRecipeDF = pd.read_csv('cuisineRecipes.csv')  \n",
    "##########################################################################################\n",
    "apiCount = 0\n",
    "# Change this to whatever cuisine data you are grabbing (each 1 you put in = 1500 requests)\n",
    "tempCuisineList = ['Cajun']"
   ]
  },
  {
   "cell_type": "markdown",
   "metadata": {},
   "source": [
    "### Grab Taste/Nutrition/Ingredients Profiles for each recipe of a cuisine"
   ]
  },
  {
   "cell_type": "code",
   "execution_count": 188,
   "metadata": {},
   "outputs": [
    {
     "name": "stdout",
     "output_type": "stream",
     "text": [
      "Cajun\n"
     ]
    }
   ],
   "source": [
    "for cuisine in tempCuisineList:\n",
    "    baselineTasteDF = pd.DataFrame(columns=['sweetness', 'saltiness', 'sourness', \n",
    "                                        'bitterness', 'savoriness', 'fattiness', \n",
    "                                        'spiciness'])\n",
    "    baselineNutritionDF = pd.DataFrame(columns=['badNutrition', 'goodNutrition'])\n",
    "    baselineIngredientsDF = pd.DataFrame(columns=['ingredients'])\n",
    "    \n",
    "    # Current cuisines recipes\n",
    "    currentCuisineRecipesDF = baselineRecipeDF.loc[baselineRecipeDF['cuisine'] == cuisine]\n",
    "    print(cuisine)\n",
    "    for index, row in currentCuisineRecipesDF.iterrows():\n",
    "        # Taste\n",
    "        taste = spoonacularTasteAPI(str(row['id']))\n",
    "        tasteDF = pd.json_normalize(taste)\n",
    "        baselineTasteDF = pd.concat([tasteDF, baselineTasteDF], \n",
    "                                      ignore_index=True, \n",
    "                                      sort=False)\n",
    "        \n",
    "        # Nutrition\n",
    "        nutrition = spoonacularNutritionAPI(str(row['id']))\n",
    "\n",
    "        badNutrition = {'badNutrition': nutrition['bad']}\n",
    "        goodNutrition = {'goodNutrition': nutrition['good']}\n",
    "\n",
    "        badNutritionDF = pd.json_normalize(badNutrition)\n",
    "        goodNutritionDF = pd.json_normalize(goodNutrition)\n",
    "        joinGoodBadDF = badNutritionDF.join(goodNutritionDF)\n",
    "\n",
    "        baselineNutritionDF = pd.concat([joinGoodBadDF, baselineNutritionDF], \n",
    "                                          ignore_index=True, \n",
    "                                          sort=False)\n",
    "        \n",
    "        # Ingredients\n",
    "        ingredients = spoonacularIngredientsAPI(str(row['id']))\n",
    "        ingredientsDF =  pd.json_normalize(ingredients)\n",
    "        baselineIngredientsDF = pd.concat([ingredientsDF, baselineIngredientsDF], \n",
    "                                          ignore_index=True, \n",
    "                                          sort=False)\n",
    "        # Track API Count\n",
    "        apiCount = apiCount + 3\n",
    "    \n",
    "    # Add Taste to Recipes\n",
    "    cuisineTasteDF = pd.concat([baselineTasteDF.reset_index(drop=True), currentCuisineRecipesDF.reset_index(drop=True)], axis=1)\n",
    "    cuisineTasteDF.to_csv(cuisine + 'Taste' + '.csv', encoding='utf-8', index=False)\n",
    "    \n",
    "    # Add Nutrition to Taste+Recipes\n",
    "    cuisineNutritionDF = pd.concat([baselineNutritionDF.reset_index(drop=True), currentCuisineRecipesDF.reset_index(drop=True)], axis=1)\n",
    "    cuisineNutritionDF.to_csv(cuisine + 'Nutrition' + '.csv', encoding='utf-8', index=False)\n",
    "    \n",
    "    # Add Ingredients to Taste+Recipes+Nutrition\n",
    "    cuisineIngredientsDF = pd.concat([baselineIngredientsDF.reset_index(drop=True), currentCuisineRecipesDF.reset_index(drop=True)], axis=1)\n",
    "    cuisineIngredientsDF.to_csv(cuisine + 'Ingredients' + '.csv', encoding='utf-8', index=False)\n",
    "\n",
    "        "
   ]
  },
  {
   "cell_type": "code",
   "execution_count": 189,
   "metadata": {},
   "outputs": [
    {
     "name": "stdout",
     "output_type": "stream",
     "text": [
      "1500\n"
     ]
    }
   ],
   "source": [
    "print(apiCount)"
   ]
  },
  {
   "cell_type": "code",
   "execution_count": null,
   "metadata": {},
   "outputs": [],
   "source": []
  }
 ],
 "metadata": {
  "colab": {
   "name": "W209 Exploratory.ipynb",
   "provenance": []
  },
  "kernelspec": {
   "display_name": "Python 3",
   "language": "python",
   "name": "python3"
  },
  "language_info": {
   "codemirror_mode": {
    "name": "ipython",
    "version": 3
   },
   "file_extension": ".py",
   "mimetype": "text/x-python",
   "name": "python",
   "nbconvert_exporter": "python",
   "pygments_lexer": "ipython3",
   "version": "3.7.0"
  }
 },
 "nbformat": 4,
 "nbformat_minor": 1
}
