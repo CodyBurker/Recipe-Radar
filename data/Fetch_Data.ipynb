{
 "cells": [
  {
   "cell_type": "code",
   "execution_count": 1,
   "metadata": {
    "executionInfo": {
     "elapsed": 737,
     "status": "ok",
     "timestamp": 1656027881403,
     "user": {
      "displayName": "Johnathan Mah",
      "userId": "05127135824558352763"
     },
     "user_tz": 420
    },
    "id": "paWAP20C8_ox"
   },
   "outputs": [],
   "source": [
    "import pandas as pd\n",
    "import requests\n",
    "import altair as alt\n",
    "import json\n",
    "import re"
   ]
  },
  {
   "cell_type": "code",
   "execution_count": 19,
   "metadata": {
    "executionInfo": {
     "elapsed": 180,
     "status": "ok",
     "timestamp": 1656027884286,
     "user": {
      "displayName": "Johnathan Mah",
      "userId": "05127135824558352763"
     },
     "user_tz": 420
    },
    "id": "OUuLv2Ac8_o4"
   },
   "outputs": [],
   "source": [
    "# Define Functions for the various endpoints. No point in parameterizing widget, less clear. \n",
    "\n",
    "# Add your API KEY here\n",
    "API_KEY = \"\"\n",
    "RAPID_API_HOST = \"spoonacular-recipe-food-nutrition-v1.p.rapidapi.com\"\n",
    "\n",
    "def spoonacularRecipeAPI(params):\n",
    "    url = \"https://spoonacular-recipe-food-nutrition-v1.p.rapidapi.com/recipes/complexSearch\"\n",
    "    headers = {\n",
    "            \"X-RapidAPI-Key\": API_KEY,\n",
    "            \"X-RapidAPI-Host\": RAPID_API_HOST\n",
    "            }\n",
    "    response = requests.request(\"GET\", url, headers=headers, params=params)\n",
    "    return response.json()\n",
    "\n",
    "def spoonacularNutritionAPI(ID):\n",
    "    url = \"https://spoonacular-recipe-food-nutrition-v1.p.rapidapi.com/recipes/\" + ID + \"/nutritionWidget.json\"\n",
    "    headers = {\n",
    "            \"X-RapidAPI-Key\": API_KEY,\n",
    "            \"X-RapidAPI-Host\": RAPID_API_HOST\n",
    "            }\n",
    "    response = requests.request(\"GET\", url, headers=headers)\n",
    "    return response.json()\n",
    "\n",
    "def spoonacularIngredientsAPI(ID):\n",
    "    url = \"https://spoonacular-recipe-food-nutrition-v1.p.rapidapi.com/recipes/\" + ID + \"/ingredientWidget.json\"\n",
    "    headers = {\n",
    "            \"X-RapidAPI-Key\": API_KEY,\n",
    "            \"X-RapidAPI-Host\": RAPID_API_HOST\n",
    "            }\n",
    "    response = requests.request(\"GET\", url, headers=headers)\n",
    "    return response.json()\n",
    "\n",
    "def spoonacularTasteAPI(ID):\n",
    "    url = \"https://spoonacular-recipe-food-nutrition-v1.p.rapidapi.com/recipes/\" + ID + \"/tasteWidget.json\"\n",
    "    headers = {\n",
    "            \"X-RapidAPI-Key\": API_KEY,\n",
    "            \"X-RapidAPI-Host\": RAPID_API_HOST\n",
    "            }\n",
    "    response = requests.request(\"GET\", url, headers=headers)\n",
    "    return response.json()"
   ]
  },
  {
   "cell_type": "markdown",
   "metadata": {
    "id": "Tkt8np5K8_o6"
   },
   "source": [
    "### Grab 500 Recipes for Each Cuisine"
   ]
  },
  {
   "cell_type": "markdown",
   "metadata": {
    "id": "BkTQfI778_o6"
   },
   "source": [
    "There are 26 Cuisines - Grab 500 Recipes for Each (13,000 recipes total). Some recipes don't even have up to 500 recipes.\n",
    "\n",
    "**Spoonacular is returning 0 results for Japanese, Greek, and Mexican"
   ]
  },
  {
   "cell_type": "code",
   "execution_count": 14,
   "metadata": {},
   "outputs": [],
   "source": [
    "cuisineList = [\n",
    "    'African',\n",
    "    'American',\n",
    "    'British',\n",
    "    'Cajun',\n",
    "    'Caribbean',\n",
    "    'Chinese',\n",
    "    'Eastern European',\n",
    "    'European',\n",
    "    'French',\n",
    "    'German',\n",
    "    'Greek',\n",
    "    'Indian',\n",
    "    'Irish',\n",
    "    'Italian',\n",
    "    'Japanese',\n",
    "    'Jewish',\n",
    "    'Korean',\n",
    "    'Latin American',\n",
    "    'Mediterranean',\n",
    "    'Mexican',\n",
    "    'Middle Eastern',\n",
    "    'Nordic',\n",
    "    'Southern',\n",
    "    'Spanish',\n",
    "    'Thai',\n",
    "    'Vietnamese'\n",
    "]"
   ]
  },
  {
   "cell_type": "code",
   "execution_count": 4,
   "metadata": {},
   "outputs": [],
   "source": [
    "baselineRecipeDF = pd.DataFrame(columns=['id', 'title', 'image', 'imageType'])\n",
    "\n",
    "for cuisine in cuisineList:\n",
    "    for i in range(5):\n",
    "        offset = 100 * i\n",
    "        cuisineRecipes = spoonacularRecipeAPI({'number': 100, 'cuisine': cuisine, 'offset': offset})\n",
    "        if(cuisineRecipes['totalResults'] == 0):\n",
    "            break\n",
    "        cuisineRecipesDF = pd.json_normalize(cuisineRecipes, record_path = ['results'])\n",
    "        cuisineRecipesDF['cuisine'] = cuisine\n",
    "        baselineRecipeDF = pd.concat([cuisineRecipesDF, baselineRecipeDF], \n",
    "                              ignore_index=True, \n",
    "                              sort=False)\n",
    "        "
   ]
  },
  {
   "cell_type": "code",
   "execution_count": 5,
   "metadata": {},
   "outputs": [],
   "source": [
    "# Drop image related columns, export to CSV\n",
    "baselineRecipeDF.drop(['image', 'imageType'], axis=1, inplace=True)\n",
    "baselineRecipeDF.to_csv('cuisineRecipes.csv', encoding='utf-8', index=False)"
   ]
  },
  {
   "cell_type": "code",
   "execution_count": 20,
   "metadata": {},
   "outputs": [
    {
     "name": "stdout",
     "output_type": "stream",
     "text": [
      "0\n"
     ]
    }
   ],
   "source": [
    "apiCount = 0\n",
    "print(apiCount)"
   ]
  },
  {
   "cell_type": "code",
   "execution_count": 21,
   "metadata": {},
   "outputs": [],
   "source": [
    "##########################################################################################\n",
    "# This is some jank code, I would parallelize API calls, but this is just to get something working for now\n",
    "# Due to API Limit we'll slowly loop over this list to grab data - Adjust as we build\n",
    "# 5000 Limit per day, to be safe we will do 4500 calls\n",
    "# Nutrition, Taste, Ingredients = 1500 API Calls per cuisine\n",
    "# So Each API Key = 3 Cuisines per day\n",
    "# If you haven't run the above cells you want to run \n",
    "# baselineRecipeDF = pd.read_csv('cuisineRecipes.csv')  \n",
    "##########################################################################################\n",
    "\n",
    "# Change this to whatever cuisine data you are grabbing (each 1 you put in = 1500 requests)\n",
    "tempCuisineList = ['Korean', 'Latin American', 'Mediterranean',]"
   ]
  },
  {
   "cell_type": "markdown",
   "metadata": {},
   "source": [
    "### Grab Taste/Nutrition/Ingredients Profiles for each recipe of a cuisine"
   ]
  },
  {
   "cell_type": "code",
   "execution_count": 22,
   "metadata": {},
   "outputs": [
    {
     "name": "stdout",
     "output_type": "stream",
     "text": [
      "Korean\n",
      "1500\n",
      "Latin American\n",
      "3000\n",
      "Mediterranean\n",
      "4500\n"
     ]
    }
   ],
   "source": [
    "for cuisine in tempCuisineList:\n",
    "    baselineTasteDF = pd.DataFrame(columns=['sweetness', 'saltiness', 'sourness', \n",
    "                                        'bitterness', 'savoriness', 'fattiness', \n",
    "                                        'spiciness'])\n",
    "    baselineNutritionDF = pd.DataFrame(columns=['badNutrition', 'goodNutrition'])\n",
    "    baselineIngredientsDF = pd.DataFrame(columns=['ingredients'])\n",
    "    \n",
    "    # Current cuisines recipes\n",
    "    currentCuisineRecipesDF = baselineRecipeDF.loc[baselineRecipeDF['cuisine'] == cuisine]\n",
    "    print(cuisine)\n",
    "    for index, row in currentCuisineRecipesDF.iterrows():\n",
    "        # Taste\n",
    "        taste = spoonacularTasteAPI(str(row['id']))\n",
    "        tasteDF = pd.json_normalize(taste)\n",
    "        baselineTasteDF = pd.concat([tasteDF, baselineTasteDF], \n",
    "                                      ignore_index=True, \n",
    "                                      sort=False)\n",
    "        \n",
    "        # Nutrition\n",
    "        nutrition = spoonacularNutritionAPI(str(row['id']))\n",
    "\n",
    "        badNutrition = {'badNutrition': nutrition['bad']}\n",
    "        goodNutrition = {'goodNutrition': nutrition['good']}\n",
    "\n",
    "        badNutritionDF = pd.json_normalize(badNutrition)\n",
    "        goodNutritionDF = pd.json_normalize(goodNutrition)\n",
    "        joinGoodBadDF = badNutritionDF.join(goodNutritionDF)\n",
    "\n",
    "        baselineNutritionDF = pd.concat([joinGoodBadDF, baselineNutritionDF], \n",
    "                                          ignore_index=True, \n",
    "                                          sort=False)\n",
    "        \n",
    "        # Ingredients\n",
    "        ingredients = spoonacularIngredientsAPI(str(row['id']))\n",
    "        ingredientsDF =  pd.json_normalize(ingredients)\n",
    "        baselineIngredientsDF = pd.concat([ingredientsDF, baselineIngredientsDF], \n",
    "                                          ignore_index=True, \n",
    "                                          sort=False)\n",
    "        # Track API Count\n",
    "        apiCount = apiCount + 3\n",
    "    \n",
    "    # Add Taste to Recipes\n",
    "    cuisineTasteDF = pd.concat([baselineTasteDF.reset_index(drop=True), currentCuisineRecipesDF.reset_index(drop=True)], axis=1)\n",
    "    cuisineTasteDF.to_csv(cuisine + 'Taste' + '.csv', encoding='utf-8', index=False)\n",
    "    \n",
    "    # Add Nutrition to Taste+Recipes\n",
    "    cuisineNutritionDF = pd.concat([baselineNutritionDF.reset_index(drop=True), currentCuisineRecipesDF.reset_index(drop=True)], axis=1)\n",
    "    cuisineNutritionDF.to_csv(cuisine + 'Nutrition' + '.csv', encoding='utf-8', index=False)\n",
    "    \n",
    "    # Add Ingredients to Taste+Recipes+Nutrition\n",
    "    cuisineIngredientsDF = pd.concat([baselineIngredientsDF.reset_index(drop=True), currentCuisineRecipesDF.reset_index(drop=True)], axis=1)\n",
    "    cuisineIngredientsDF.to_csv(cuisine + 'Ingredients' + '.csv', encoding='utf-8', index=False)\n",
    "    \n",
    "    # Check API Count\n",
    "    print(apiCount)\n",
    "        "
   ]
  }
 ],
 "metadata": {
  "colab": {
   "name": "W209 Exploratory.ipynb",
   "provenance": []
  },
  "kernelspec": {
   "display_name": "Python 3",
   "language": "python",
   "name": "python3"
  },
  "language_info": {
   "codemirror_mode": {
    "name": "ipython",
    "version": 3
   },
   "file_extension": ".py",
   "mimetype": "text/x-python",
   "name": "python",
   "nbconvert_exporter": "python",
   "pygments_lexer": "ipython3",
   "version": "3.7.0"
  }
 },
 "nbformat": 4,
 "nbformat_minor": 1
}
